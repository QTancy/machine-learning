{
  "cells": [
    {
      "cell_type": "markdown",
      "metadata": {
        "id": "jXLruT9MdqaL"
      },
      "source": [
        "# Install Library dan Setup Kaggle"
      ]
    },
    {
      "cell_type": "code",
      "source": [
        "# 1. Install Kaggle CLI\n",
        "!pip install -q kaggle"
      ],
      "metadata": {
        "id": "Ln_rWGfd5eti"
      },
      "execution_count": null,
      "outputs": []
    },
    {
      "cell_type": "code",
      "execution_count": null,
      "metadata": {
        "colab": {
          "base_uri": "https://localhost:8080/"
        },
        "id": "26Tk4icGdzk5",
        "outputId": "be5ac2f3-c292-4c7c-e01b-9a0da195f8c6"
      },
      "outputs": [
        {
          "output_type": "stream",
          "name": "stdout",
          "text": [
            "Requirement already satisfied: kaggle in /usr/local/lib/python3.11/dist-packages (1.7.4.5)\n",
            "Requirement already satisfied: bleach in /usr/local/lib/python3.11/dist-packages (from kaggle) (6.2.0)\n",
            "Requirement already satisfied: certifi>=14.05.14 in /usr/local/lib/python3.11/dist-packages (from kaggle) (2025.4.26)\n",
            "Requirement already satisfied: charset-normalizer in /usr/local/lib/python3.11/dist-packages (from kaggle) (3.4.2)\n",
            "Requirement already satisfied: idna in /usr/local/lib/python3.11/dist-packages (from kaggle) (3.10)\n",
            "Requirement already satisfied: protobuf in /usr/local/lib/python3.11/dist-packages (from kaggle) (5.29.5)\n",
            "Requirement already satisfied: python-dateutil>=2.5.3 in /usr/local/lib/python3.11/dist-packages (from kaggle) (2.9.0.post0)\n",
            "Requirement already satisfied: python-slugify in /usr/local/lib/python3.11/dist-packages (from kaggle) (8.0.4)\n",
            "Requirement already satisfied: requests in /usr/local/lib/python3.11/dist-packages (from kaggle) (2.32.3)\n",
            "Requirement already satisfied: setuptools>=21.0.0 in /usr/local/lib/python3.11/dist-packages (from kaggle) (75.2.0)\n",
            "Requirement already satisfied: six>=1.10 in /usr/local/lib/python3.11/dist-packages (from kaggle) (1.17.0)\n",
            "Requirement already satisfied: text-unidecode in /usr/local/lib/python3.11/dist-packages (from kaggle) (1.3)\n",
            "Requirement already satisfied: tqdm in /usr/local/lib/python3.11/dist-packages (from kaggle) (4.67.1)\n",
            "Requirement already satisfied: urllib3>=1.15.1 in /usr/local/lib/python3.11/dist-packages (from kaggle) (2.4.0)\n",
            "Requirement already satisfied: webencodings in /usr/local/lib/python3.11/dist-packages (from kaggle) (0.5.1)\n"
          ]
        }
      ],
      "source": [
        "# Install kaggle CLI\n",
        "!pip install kaggle\n",
        "import os\n",
        "os.environ['KAGGLE_CONFIG_DIR'] = \"/content\""
      ]
    },
    {
      "cell_type": "code",
      "execution_count": null,
      "metadata": {
        "id": "G1zgulEhhbZ0",
        "colab": {
          "base_uri": "https://localhost:8080/",
          "height": 91
        },
        "outputId": "21015a48-156f-400f-ce51-9d246fd9652b"
      },
      "outputs": [
        {
          "output_type": "display_data",
          "data": {
            "text/plain": [
              "<IPython.core.display.HTML object>"
            ],
            "text/html": [
              "\n",
              "     <input type=\"file\" id=\"files-fd7c374c-844d-48cb-8073-4b3c9c624a02\" name=\"files[]\" multiple disabled\n",
              "        style=\"border:none\" />\n",
              "     <output id=\"result-fd7c374c-844d-48cb-8073-4b3c9c624a02\">\n",
              "      Upload widget is only available when the cell has been executed in the\n",
              "      current browser session. Please rerun this cell to enable.\n",
              "      </output>\n",
              "      <script>// Copyright 2017 Google LLC\n",
              "//\n",
              "// Licensed under the Apache License, Version 2.0 (the \"License\");\n",
              "// you may not use this file except in compliance with the License.\n",
              "// You may obtain a copy of the License at\n",
              "//\n",
              "//      http://www.apache.org/licenses/LICENSE-2.0\n",
              "//\n",
              "// Unless required by applicable law or agreed to in writing, software\n",
              "// distributed under the License is distributed on an \"AS IS\" BASIS,\n",
              "// WITHOUT WARRANTIES OR CONDITIONS OF ANY KIND, either express or implied.\n",
              "// See the License for the specific language governing permissions and\n",
              "// limitations under the License.\n",
              "\n",
              "/**\n",
              " * @fileoverview Helpers for google.colab Python module.\n",
              " */\n",
              "(function(scope) {\n",
              "function span(text, styleAttributes = {}) {\n",
              "  const element = document.createElement('span');\n",
              "  element.textContent = text;\n",
              "  for (const key of Object.keys(styleAttributes)) {\n",
              "    element.style[key] = styleAttributes[key];\n",
              "  }\n",
              "  return element;\n",
              "}\n",
              "\n",
              "// Max number of bytes which will be uploaded at a time.\n",
              "const MAX_PAYLOAD_SIZE = 100 * 1024;\n",
              "\n",
              "function _uploadFiles(inputId, outputId) {\n",
              "  const steps = uploadFilesStep(inputId, outputId);\n",
              "  const outputElement = document.getElementById(outputId);\n",
              "  // Cache steps on the outputElement to make it available for the next call\n",
              "  // to uploadFilesContinue from Python.\n",
              "  outputElement.steps = steps;\n",
              "\n",
              "  return _uploadFilesContinue(outputId);\n",
              "}\n",
              "\n",
              "// This is roughly an async generator (not supported in the browser yet),\n",
              "// where there are multiple asynchronous steps and the Python side is going\n",
              "// to poll for completion of each step.\n",
              "// This uses a Promise to block the python side on completion of each step,\n",
              "// then passes the result of the previous step as the input to the next step.\n",
              "function _uploadFilesContinue(outputId) {\n",
              "  const outputElement = document.getElementById(outputId);\n",
              "  const steps = outputElement.steps;\n",
              "\n",
              "  const next = steps.next(outputElement.lastPromiseValue);\n",
              "  return Promise.resolve(next.value.promise).then((value) => {\n",
              "    // Cache the last promise value to make it available to the next\n",
              "    // step of the generator.\n",
              "    outputElement.lastPromiseValue = value;\n",
              "    return next.value.response;\n",
              "  });\n",
              "}\n",
              "\n",
              "/**\n",
              " * Generator function which is called between each async step of the upload\n",
              " * process.\n",
              " * @param {string} inputId Element ID of the input file picker element.\n",
              " * @param {string} outputId Element ID of the output display.\n",
              " * @return {!Iterable<!Object>} Iterable of next steps.\n",
              " */\n",
              "function* uploadFilesStep(inputId, outputId) {\n",
              "  const inputElement = document.getElementById(inputId);\n",
              "  inputElement.disabled = false;\n",
              "\n",
              "  const outputElement = document.getElementById(outputId);\n",
              "  outputElement.innerHTML = '';\n",
              "\n",
              "  const pickedPromise = new Promise((resolve) => {\n",
              "    inputElement.addEventListener('change', (e) => {\n",
              "      resolve(e.target.files);\n",
              "    });\n",
              "  });\n",
              "\n",
              "  const cancel = document.createElement('button');\n",
              "  inputElement.parentElement.appendChild(cancel);\n",
              "  cancel.textContent = 'Cancel upload';\n",
              "  const cancelPromise = new Promise((resolve) => {\n",
              "    cancel.onclick = () => {\n",
              "      resolve(null);\n",
              "    };\n",
              "  });\n",
              "\n",
              "  // Wait for the user to pick the files.\n",
              "  const files = yield {\n",
              "    promise: Promise.race([pickedPromise, cancelPromise]),\n",
              "    response: {\n",
              "      action: 'starting',\n",
              "    }\n",
              "  };\n",
              "\n",
              "  cancel.remove();\n",
              "\n",
              "  // Disable the input element since further picks are not allowed.\n",
              "  inputElement.disabled = true;\n",
              "\n",
              "  if (!files) {\n",
              "    return {\n",
              "      response: {\n",
              "        action: 'complete',\n",
              "      }\n",
              "    };\n",
              "  }\n",
              "\n",
              "  for (const file of files) {\n",
              "    const li = document.createElement('li');\n",
              "    li.append(span(file.name, {fontWeight: 'bold'}));\n",
              "    li.append(span(\n",
              "        `(${file.type || 'n/a'}) - ${file.size} bytes, ` +\n",
              "        `last modified: ${\n",
              "            file.lastModifiedDate ? file.lastModifiedDate.toLocaleDateString() :\n",
              "                                    'n/a'} - `));\n",
              "    const percent = span('0% done');\n",
              "    li.appendChild(percent);\n",
              "\n",
              "    outputElement.appendChild(li);\n",
              "\n",
              "    const fileDataPromise = new Promise((resolve) => {\n",
              "      const reader = new FileReader();\n",
              "      reader.onload = (e) => {\n",
              "        resolve(e.target.result);\n",
              "      };\n",
              "      reader.readAsArrayBuffer(file);\n",
              "    });\n",
              "    // Wait for the data to be ready.\n",
              "    let fileData = yield {\n",
              "      promise: fileDataPromise,\n",
              "      response: {\n",
              "        action: 'continue',\n",
              "      }\n",
              "    };\n",
              "\n",
              "    // Use a chunked sending to avoid message size limits. See b/62115660.\n",
              "    let position = 0;\n",
              "    do {\n",
              "      const length = Math.min(fileData.byteLength - position, MAX_PAYLOAD_SIZE);\n",
              "      const chunk = new Uint8Array(fileData, position, length);\n",
              "      position += length;\n",
              "\n",
              "      const base64 = btoa(String.fromCharCode.apply(null, chunk));\n",
              "      yield {\n",
              "        response: {\n",
              "          action: 'append',\n",
              "          file: file.name,\n",
              "          data: base64,\n",
              "        },\n",
              "      };\n",
              "\n",
              "      let percentDone = fileData.byteLength === 0 ?\n",
              "          100 :\n",
              "          Math.round((position / fileData.byteLength) * 100);\n",
              "      percent.textContent = `${percentDone}% done`;\n",
              "\n",
              "    } while (position < fileData.byteLength);\n",
              "  }\n",
              "\n",
              "  // All done.\n",
              "  yield {\n",
              "    response: {\n",
              "      action: 'complete',\n",
              "    }\n",
              "  };\n",
              "}\n",
              "\n",
              "scope.google = scope.google || {};\n",
              "scope.google.colab = scope.google.colab || {};\n",
              "scope.google.colab._files = {\n",
              "  _uploadFiles,\n",
              "  _uploadFilesContinue,\n",
              "};\n",
              "})(self);\n",
              "</script> "
            ]
          },
          "metadata": {}
        },
        {
          "output_type": "stream",
          "name": "stdout",
          "text": [
            "Saving kaggle.json to kaggle.json\n"
          ]
        },
        {
          "output_type": "execute_result",
          "data": {
            "text/plain": [
              "{'kaggle.json': b'{\"username\":\"pandupt\",\"key\":\"a3fefcd3aac1ac571e56465d6ff79f36\"}'}"
            ]
          },
          "metadata": {},
          "execution_count": 2
        }
      ],
      "source": [
        "# Upload kaggle.json API key\n",
        "from google.colab import files\n",
        "files.upload()  # upload kaggle.json file here"
      ]
    },
    {
      "cell_type": "code",
      "source": [
        "# 3. Pindahkan kaggle.json ke direktori yang sesuai\n",
        "!mkdir -p ~/.kaggle\n",
        "!cp kaggle.json ~/.kaggle/\n",
        "!chmod 600 ~/.kaggle/kaggle.json"
      ],
      "metadata": {
        "id": "dLibIu3jyaEZ"
      },
      "execution_count": null,
      "outputs": []
    },
    {
      "cell_type": "markdown",
      "metadata": {
        "id": "EhAyTyL7dvQV"
      },
      "source": [
        "# Download Dataset dari Kaggle"
      ]
    },
    {
      "cell_type": "code",
      "execution_count": null,
      "metadata": {
        "colab": {
          "base_uri": "https://localhost:8080/"
        },
        "id": "QvbdFXcabyWh",
        "outputId": "42fcbcbe-d71d-4462-f45d-23339a88271d"
      },
      "outputs": [
        {
          "output_type": "stream",
          "name": "stdout",
          "text": [
            "Dataset URL: https://www.kaggle.com/datasets/pandupt/ocr-dataset-indonesia\n",
            "License(s): apache-2.0\n",
            "Downloading ocr-dataset-indonesia.zip to /content\n",
            " 95% 445M/468M [00:00<00:00, 383MB/s]\n",
            "100% 468M/468M [00:01<00:00, 465MB/s]\n"
          ]
        }
      ],
      "source": [
        "# 4. Unduh dataset OCR Indonesia dari Kaggle\n",
        "!kaggle datasets download pandupt/ocr-dataset-indonesia"
      ]
    },
    {
      "cell_type": "code",
      "source": [
        "# 5. Ekstrak file zip\n",
        "!unzip -q ocr-dataset-indonesia.zip -d ocr-dataset-indonesia"
      ],
      "metadata": {
        "id": "VOyuJo3a5weK"
      },
      "execution_count": null,
      "outputs": []
    },
    {
      "cell_type": "markdown",
      "metadata": {
        "id": "krnF4NCVhsYQ"
      },
      "source": [
        "# Load Sample Gambar dari Hugging Face & Roboflow"
      ]
    },
    {
      "cell_type": "code",
      "execution_count": null,
      "metadata": {
        "id": "yVSsXD8Wdoie"
      },
      "outputs": [],
      "source": [
        "import shutil\n",
        "import os\n",
        "\n",
        "base_path = \"/content/ocr-dataset-indonesia/data/raw\"\n",
        "\n",
        "image_dir_hf = os.path.join(base_path, \"huggingface_images\")\n",
        "image_dir_rf = os.path.join(base_path, \"roboflow_receipts/valid\")\n",
        "\n",
        "os.makedirs(\"samples/huggingface\", exist_ok=True)\n",
        "os.makedirs(\"samples/roboflow\", exist_ok=True)\n",
        "\n",
        "hf_samples = sorted(os.listdir(image_dir_hf))[:200]\n",
        "rf_samples = sorted(os.listdir(image_dir_rf))[:200]\n",
        "\n",
        "for f in hf_samples:\n",
        "    shutil.copy(os.path.join(image_dir_hf, f), \"samples/huggingface\")\n",
        "\n",
        "for f in rf_samples:\n",
        "    shutil.copy(os.path.join(image_dir_rf, f), \"samples/roboflow\")"
      ]
    },
    {
      "cell_type": "markdown",
      "metadata": {
        "id": "-G9oJlCmmELQ"
      },
      "source": [
        "# Applied Model"
      ]
    },
    {
      "cell_type": "markdown",
      "source": [
        "## EasyOCR"
      ],
      "metadata": {
        "id": "SwEZfwld4zJo"
      }
    },
    {
      "cell_type": "code",
      "source": [
        "!pip install easyocr --quiet"
      ],
      "metadata": {
        "colab": {
          "base_uri": "https://localhost:8080/"
        },
        "id": "8mHlNV3141M4",
        "outputId": "83b11101-5b46-4949-8d4c-564188355ed0"
      },
      "execution_count": null,
      "outputs": [
        {
          "metadata": {
            "tags": null
          },
          "name": "stdout",
          "output_type": "stream",
          "text": [
            "\u001b[2K   \u001b[90m━━━━━━━━━━━━━━━━━━━━━━━━━━━━━━━━━━━━━━━━\u001b[0m \u001b[32m2.9/2.9 MB\u001b[0m \u001b[31m26.6 MB/s\u001b[0m eta \u001b[36m0:00:00\u001b[0m\n",
            "\u001b[2K   \u001b[90m━━━━━━━━━━━━━━━━━━━━━━━━━━━━━━━━━━━━━━━━\u001b[0m \u001b[32m363.4/363.4 MB\u001b[0m \u001b[31m3.1 MB/s\u001b[0m eta \u001b[36m0:00:00\u001b[0m\n",
            "\u001b[2K   \u001b[90m━━━━━━━━━━━━━━━━━━━━━━━━━━━━━━━━━━━━━━━━\u001b[0m \u001b[32m13.8/13.8 MB\u001b[0m \u001b[31m70.0 MB/s\u001b[0m eta \u001b[36m0:00:00\u001b[0m\n",
            "\u001b[2K   \u001b[90m━━━━━━━━━━━━━━━━━━━━━━━━━━━━━━━━━━━━━━━━\u001b[0m \u001b[32m24.6/24.6 MB\u001b[0m \u001b[31m59.2 MB/s\u001b[0m eta \u001b[36m0:00:00\u001b[0m\n",
            "\u001b[2K   \u001b[90m━━━━━━━━━━━━━━━━━━━━━━━━━━━━━━━━━━━━━━━━\u001b[0m \u001b[32m883.7/883.7 kB\u001b[0m \u001b[31m43.7 MB/s\u001b[0m eta \u001b[36m0:00:00\u001b[0m\n",
            "\u001b[2K   \u001b[90m━━━━━━━━━━━━━━━━━━━━━━━━━━━━━━━━━━━━━━━━\u001b[0m \u001b[32m664.8/664.8 MB\u001b[0m \u001b[31m2.7 MB/s\u001b[0m eta \u001b[36m0:00:00\u001b[0m\n",
            "\u001b[2K   \u001b[90m━━━━━━━━━━━━━━━━━━━━━━━━━━━━━━━━━━━━━━━━\u001b[0m \u001b[32m211.5/211.5 MB\u001b[0m \u001b[31m4.7 MB/s\u001b[0m eta \u001b[36m0:00:00\u001b[0m\n",
            "\u001b[2K   \u001b[90m━━━━━━━━━━━━━━━━━━━━━━━━━━━━━━━━━━━━━━━━\u001b[0m \u001b[32m56.3/56.3 MB\u001b[0m \u001b[31m12.7 MB/s\u001b[0m eta \u001b[36m0:00:00\u001b[0m\n",
            "\u001b[2K   \u001b[90m━━━━━━━━━━━━━━━━━━━━━━━━━━━━━━━━━━━━━━━━\u001b[0m \u001b[32m127.9/127.9 MB\u001b[0m \u001b[31m7.0 MB/s\u001b[0m eta \u001b[36m0:00:00\u001b[0m\n",
            "\u001b[2K   \u001b[90m━━━━━━━━━━━━━━━━━━━━━━━━━━━━━━━━━━━━━━━━\u001b[0m \u001b[32m207.5/207.5 MB\u001b[0m \u001b[31m5.5 MB/s\u001b[0m eta \u001b[36m0:00:00\u001b[0m\n",
            "\u001b[2K   \u001b[90m━━━━━━━━━━━━━━━━━━━━━━━━━━━━━━━━━━━━━━━━\u001b[0m \u001b[32m21.1/21.1 MB\u001b[0m \u001b[31m88.2 MB/s\u001b[0m eta \u001b[36m0:00:00\u001b[0m\n",
            "\u001b[2K   \u001b[90m━━━━━━━━━━━━━━━━━━━━━━━━━━━━━━━━━━━━━━━━\u001b[0m \u001b[32m422.8/422.8 kB\u001b[0m \u001b[31m27.9 MB/s\u001b[0m eta \u001b[36m0:00:00\u001b[0m\n",
            "\u001b[2K   \u001b[90m━━━━━━━━━━━━━━━━━━━━━━━━━━━━━━━━━━━━━━━━\u001b[0m \u001b[32m292.9/292.9 kB\u001b[0m \u001b[31m21.8 MB/s\u001b[0m eta \u001b[36m0:00:00\u001b[0m\n",
            "\u001b[?25h"
          ]
        }
      ]
    },
    {
      "cell_type": "code",
      "source": [
        "import easyocr"
      ],
      "metadata": {
        "id": "yhY3_TvY5wdk"
      },
      "execution_count": null,
      "outputs": []
    },
    {
      "cell_type": "code",
      "source": [
        "reader = easyocr.Reader(['id'], gpu=False)"
      ],
      "metadata": {
        "colab": {
          "base_uri": "https://localhost:8080/"
        },
        "id": "dH1gtocQ5rSV",
        "outputId": "85d955ea-c959-4a58-c338-6d5aedb6070e"
      },
      "execution_count": null,
      "outputs": [
        {
          "output_type": "stream",
          "name": "stderr",
          "text": [
            "WARNING:easyocr.easyocr:Using CPU. Note: This module is much faster with a GPU.\n",
            "WARNING:easyocr.easyocr:Downloading detection model, please wait. This may take several minutes depending upon your network connection.\n"
          ]
        },
        {
          "output_type": "stream",
          "name": "stdout",
          "text": [
            "Progress: |██████████████████████████████████████████████████| 100.0% Complete"
          ]
        },
        {
          "output_type": "stream",
          "name": "stderr",
          "text": [
            "WARNING:easyocr.easyocr:Downloading recognition model, please wait. This may take several minutes depending upon your network connection.\n"
          ]
        },
        {
          "output_type": "stream",
          "name": "stdout",
          "text": [
            "\rProgress: |--------------------------------------------------| 0.0% Complete\rProgress: |--------------------------------------------------| 0.1% Complete\rProgress: |--------------------------------------------------| 0.1% Complete\rProgress: |--------------------------------------------------| 0.2% Complete\rProgress: |--------------------------------------------------| 0.2% Complete\rProgress: |--------------------------------------------------| 0.3% Complete\rProgress: |--------------------------------------------------| 0.3% Complete\rProgress: |--------------------------------------------------| 0.4% Complete\rProgress: |--------------------------------------------------| 0.5% Complete\rProgress: |--------------------------------------------------| 0.5% Complete\rProgress: |--------------------------------------------------| 0.6% Complete\rProgress: |--------------------------------------------------| 0.6% Complete\rProgress: |--------------------------------------------------| 0.7% Complete\rProgress: |--------------------------------------------------| 0.7% Complete\rProgress: |--------------------------------------------------| 0.8% Complete\rProgress: |--------------------------------------------------| 0.9% Complete\rProgress: |--------------------------------------------------| 0.9% Complete\rProgress: |--------------------------------------------------| 1.0% Complete\rProgress: |--------------------------------------------------| 1.0% Complete\rProgress: |--------------------------------------------------| 1.1% Complete\rProgress: |--------------------------------------------------| 1.1% Complete\rProgress: |--------------------------------------------------| 1.2% Complete\rProgress: |--------------------------------------------------| 1.3% Complete\rProgress: |--------------------------------------------------| 1.3% Complete\rProgress: |--------------------------------------------------| 1.4% Complete\rProgress: |--------------------------------------------------| 1.4% Complete\rProgress: |--------------------------------------------------| 1.5% Complete\rProgress: |--------------------------------------------------| 1.5% Complete\rProgress: |--------------------------------------------------| 1.6% Complete\rProgress: |--------------------------------------------------| 1.7% Complete\rProgress: |--------------------------------------------------| 1.7% Complete\rProgress: |--------------------------------------------------| 1.8% Complete\rProgress: |--------------------------------------------------| 1.8% Complete\rProgress: |--------------------------------------------------| 1.9% Complete\rProgress: |--------------------------------------------------| 1.9% Complete\rProgress: |█-------------------------------------------------| 2.0% Complete\rProgress: |█-------------------------------------------------| 2.1% Complete\rProgress: |█-------------------------------------------------| 2.1% Complete\rProgress: |█-------------------------------------------------| 2.2% Complete\rProgress: |█-------------------------------------------------| 2.2% Complete\rProgress: |█-------------------------------------------------| 2.3% Complete\rProgress: |█-------------------------------------------------| 2.4% Complete\rProgress: |█-------------------------------------------------| 2.4% Complete\rProgress: |█-------------------------------------------------| 2.5% Complete\rProgress: |█-------------------------------------------------| 2.5% Complete\rProgress: |█-------------------------------------------------| 2.6% Complete\rProgress: |█-------------------------------------------------| 2.6% Complete\rProgress: |█-------------------------------------------------| 2.7% Complete\rProgress: |█-------------------------------------------------| 2.8% Complete\rProgress: |█-------------------------------------------------| 2.8% Complete\rProgress: |█-------------------------------------------------| 2.9% Complete\rProgress: |█-------------------------------------------------| 2.9% Complete\rProgress: |█-------------------------------------------------| 3.0% Complete\rProgress: |█-------------------------------------------------| 3.0% Complete\rProgress: |█-------------------------------------------------| 3.1% Complete\rProgress: |█-------------------------------------------------| 3.2% Complete\rProgress: |█-------------------------------------------------| 3.2% Complete\rProgress: |█-------------------------------------------------| 3.3% Complete\rProgress: |█-------------------------------------------------| 3.3% Complete\rProgress: |█-------------------------------------------------| 3.4% Complete\rProgress: |█-------------------------------------------------| 3.4% Complete\rProgress: |█-------------------------------------------------| 3.5% Complete\rProgress: |█-------------------------------------------------| 3.6% Complete\rProgress: |█-------------------------------------------------| 3.6% Complete\rProgress: |█-------------------------------------------------| 3.7% Complete\rProgress: |█-------------------------------------------------| 3.7% Complete\rProgress: |█-------------------------------------------------| 3.8% Complete\rProgress: |█-------------------------------------------------| 3.8% Complete\rProgress: |█-------------------------------------------------| 3.9% Complete\rProgress: |█-------------------------------------------------| 4.0% Complete\rProgress: |██------------------------------------------------| 4.0% Complete\rProgress: |██------------------------------------------------| 4.1% Complete\rProgress: |██------------------------------------------------| 4.1% Complete\rProgress: |██------------------------------------------------| 4.2% Complete\rProgress: |██------------------------------------------------| 4.2% Complete\rProgress: |██------------------------------------------------| 4.3% Complete\rProgress: |██------------------------------------------------| 4.4% Complete\rProgress: |██------------------------------------------------| 4.4% Complete\rProgress: |██------------------------------------------------| 4.5% Complete\rProgress: |██------------------------------------------------| 4.5% Complete\rProgress: |██------------------------------------------------| 4.6% Complete\rProgress: |██------------------------------------------------| 4.6% Complete\rProgress: |██------------------------------------------------| 4.7% Complete\rProgress: |██------------------------------------------------| 4.8% Complete\rProgress: |██------------------------------------------------| 4.8% Complete\rProgress: |██------------------------------------------------| 4.9% Complete\rProgress: |██------------------------------------------------| 4.9% Complete\rProgress: |██------------------------------------------------| 5.0% Complete\rProgress: |██------------------------------------------------| 5.0% Complete\rProgress: |██------------------------------------------------| 5.1% Complete\rProgress: |██------------------------------------------------| 5.2% Complete\rProgress: |██------------------------------------------------| 5.2% Complete\rProgress: |██------------------------------------------------| 5.3% Complete\rProgress: |██------------------------------------------------| 5.3% Complete\rProgress: |██------------------------------------------------| 5.4% Complete\rProgress: |██------------------------------------------------| 5.4% Complete\rProgress: |██------------------------------------------------| 5.5% Complete\rProgress: |██------------------------------------------------| 5.6% Complete\rProgress: |██------------------------------------------------| 5.6% Complete\rProgress: |██------------------------------------------------| 5.7% Complete\rProgress: |██------------------------------------------------| 5.7% Complete\rProgress: |██------------------------------------------------| 5.8% Complete\rProgress: |██------------------------------------------------| 5.8% Complete\rProgress: |██------------------------------------------------| 5.9% Complete\rProgress: |██------------------------------------------------| 6.0% Complete\rProgress: |███-----------------------------------------------| 6.0% Complete\rProgress: |███-----------------------------------------------| 6.1% Complete\rProgress: |███-----------------------------------------------| 6.1% Complete\rProgress: |███-----------------------------------------------| 6.2% Complete\rProgress: |███-----------------------------------------------| 6.3% Complete\rProgress: |███-----------------------------------------------| 6.3% Complete\rProgress: |███-----------------------------------------------| 6.4% Complete\rProgress: |███-----------------------------------------------| 6.4% Complete\rProgress: |███-----------------------------------------------| 6.5% Complete\rProgress: |███-----------------------------------------------| 6.5% Complete\rProgress: |███-----------------------------------------------| 6.6% Complete\rProgress: |███-----------------------------------------------| 6.7% Complete\rProgress: |███-----------------------------------------------| 6.7% Complete\rProgress: |███-----------------------------------------------| 6.8% Complete\rProgress: |███-----------------------------------------------| 6.8% Complete\rProgress: |███-----------------------------------------------| 6.9% Complete\rProgress: |███-----------------------------------------------| 6.9% Complete\rProgress: |███-----------------------------------------------| 7.0% Complete\rProgress: |███-----------------------------------------------| 7.1% Complete\rProgress: |███-----------------------------------------------| 7.1% Complete\rProgress: |███-----------------------------------------------| 7.2% Complete\rProgress: |███-----------------------------------------------| 7.2% Complete\rProgress: |███-----------------------------------------------| 7.3% Complete\rProgress: |███-----------------------------------------------| 7.3% Complete\rProgress: |███-----------------------------------------------| 7.4% Complete\rProgress: |███-----------------------------------------------| 7.5% Complete\rProgress: |███-----------------------------------------------| 7.5% Complete\rProgress: |███-----------------------------------------------| 7.6% Complete\rProgress: |███-----------------------------------------------| 7.6% Complete\rProgress: |███-----------------------------------------------| 7.7% Complete\rProgress: |███-----------------------------------------------| 7.7% Complete\rProgress: |███-----------------------------------------------| 7.8% Complete\rProgress: |███-----------------------------------------------| 7.9% Complete\rProgress: |███-----------------------------------------------| 7.9% Complete\rProgress: |███-----------------------------------------------| 8.0% Complete\rProgress: |████----------------------------------------------| 8.0% Complete\rProgress: |████----------------------------------------------| 8.1% Complete\rProgress: |████----------------------------------------------| 8.1% Complete\rProgress: |████----------------------------------------------| 8.2% Complete\rProgress: |████----------------------------------------------| 8.3% Complete\rProgress: |████----------------------------------------------| 8.3% Complete\rProgress: |████----------------------------------------------| 8.4% Complete\rProgress: |████----------------------------------------------| 8.4% Complete\rProgress: |████----------------------------------------------| 8.5% Complete\rProgress: |████----------------------------------------------| 8.5% Complete\rProgress: |████----------------------------------------------| 8.6% Complete\rProgress: |████----------------------------------------------| 8.7% Complete\rProgress: |████----------------------------------------------| 8.7% Complete\rProgress: |████----------------------------------------------| 8.8% Complete\rProgress: |████----------------------------------------------| 8.8% Complete\rProgress: |████----------------------------------------------| 8.9% Complete\rProgress: |████----------------------------------------------| 8.9% Complete\rProgress: |████----------------------------------------------| 9.0% Complete\rProgress: |████----------------------------------------------| 9.1% Complete\rProgress: |████----------------------------------------------| 9.1% Complete\rProgress: |████----------------------------------------------| 9.2% Complete\rProgress: |████----------------------------------------------| 9.2% Complete\rProgress: |████----------------------------------------------| 9.3% Complete\rProgress: |████----------------------------------------------| 9.3% Complete\rProgress: |████----------------------------------------------| 9.4% Complete\rProgress: |████----------------------------------------------| 9.5% Complete\rProgress: |████----------------------------------------------| 9.5% Complete\rProgress: |████----------------------------------------------| 9.6% Complete\rProgress: |████----------------------------------------------| 9.6% Complete\rProgress: |████----------------------------------------------| 9.7% Complete\rProgress: |████----------------------------------------------| 9.7% Complete\rProgress: |████----------------------------------------------| 9.8% Complete\rProgress: |████----------------------------------------------| 9.9% Complete\rProgress: |████----------------------------------------------| 9.9% Complete\rProgress: |████----------------------------------------------| 10.0% Complete\rProgress: |█████---------------------------------------------| 10.0% Complete\rProgress: |█████---------------------------------------------| 10.1% Complete\rProgress: |█████---------------------------------------------| 10.2% Complete\rProgress: |█████---------------------------------------------| 10.2% Complete\rProgress: |█████---------------------------------------------| 10.3% Complete\rProgress: |█████---------------------------------------------| 10.3% Complete\rProgress: |█████---------------------------------------------| 10.4% Complete\rProgress: |█████---------------------------------------------| 10.4% Complete\rProgress: |█████---------------------------------------------| 10.5% Complete\rProgress: |█████---------------------------------------------| 10.6% Complete\rProgress: |█████---------------------------------------------| 10.6% Complete\rProgress: |█████---------------------------------------------| 10.7% Complete\rProgress: |█████---------------------------------------------| 10.7% Complete\rProgress: |█████---------------------------------------------| 10.8% Complete\rProgress: |█████---------------------------------------------| 10.8% Complete\rProgress: |█████---------------------------------------------| 10.9% Complete\rProgress: |█████---------------------------------------------| 11.0% Complete\rProgress: |█████---------------------------------------------| 11.0% Complete\rProgress: |█████---------------------------------------------| 11.1% Complete\rProgress: |█████---------------------------------------------| 11.1% Complete\rProgress: |█████---------------------------------------------| 11.2% Complete\rProgress: |█████---------------------------------------------| 11.2% Complete\rProgress: |█████---------------------------------------------| 11.3% Complete\rProgress: |█████---------------------------------------------| 11.4% Complete\rProgress: |█████---------------------------------------------| 11.4% Complete\rProgress: |█████---------------------------------------------| 11.5% Complete\rProgress: |█████---------------------------------------------| 11.5% Complete\rProgress: |█████---------------------------------------------| 11.6% Complete\rProgress: |█████---------------------------------------------| 11.6% Complete\rProgress: |█████---------------------------------------------| 11.7% Complete\rProgress: |█████---------------------------------------------| 11.8% Complete\rProgress: |█████---------------------------------------------| 11.8% Complete\rProgress: |█████---------------------------------------------| 11.9% Complete\rProgress: |█████---------------------------------------------| 11.9% Complete\rProgress: |█████---------------------------------------------| 12.0% Complete\rProgress: |██████--------------------------------------------| 12.0% Complete\rProgress: |██████--------------------------------------------| 12.1% Complete\rProgress: |██████--------------------------------------------| 12.2% Complete\rProgress: |██████--------------------------------------------| 12.2% Complete\rProgress: |██████--------------------------------------------| 12.3% Complete\rProgress: |██████--------------------------------------------| 12.3% Complete\rProgress: |██████--------------------------------------------| 12.4% Complete\rProgress: |██████--------------------------------------------| 12.4% Complete\rProgress: |██████--------------------------------------------| 12.5% Complete\rProgress: |██████--------------------------------------------| 12.6% Complete\rProgress: |██████--------------------------------------------| 12.6% Complete\rProgress: |██████--------------------------------------------| 12.7% Complete\rProgress: |██████--------------------------------------------| 12.7% Complete\rProgress: |██████--------------------------------------------| 12.8% Complete\rProgress: |██████--------------------------------------------| 12.8% Complete\rProgress: |██████--------------------------------------------| 12.9% Complete\rProgress: |██████--------------------------------------------| 13.0% Complete\rProgress: |██████--------------------------------------------| 13.0% Complete\rProgress: |██████--------------------------------------------| 13.1% Complete\rProgress: |██████--------------------------------------------| 13.1% Complete\rProgress: |██████--------------------------------------------| 13.2% Complete\rProgress: |██████--------------------------------------------| 13.2% Complete\rProgress: |██████--------------------------------------------| 13.3% Complete\rProgress: |██████--------------------------------------------| 13.4% Complete\rProgress: |██████--------------------------------------------| 13.4% Complete\rProgress: |██████--------------------------------------------| 13.5% Complete\rProgress: |██████--------------------------------------------| 13.5% Complete\rProgress: |██████--------------------------------------------| 13.6% Complete\rProgress: |██████--------------------------------------------| 13.6% Complete\rProgress: |██████--------------------------------------------| 13.7% Complete\rProgress: |██████--------------------------------------------| 13.8% Complete\rProgress: |██████--------------------------------------------| 13.8% Complete\rProgress: |██████--------------------------------------------| 13.9% Complete\rProgress: |██████--------------------------------------------| 13.9% Complete\rProgress: |██████--------------------------------------------| 14.0% Complete\rProgress: |███████-------------------------------------------| 14.1% Complete\rProgress: |███████-------------------------------------------| 14.1% Complete\rProgress: |███████-------------------------------------------| 14.2% Complete\rProgress: |███████-------------------------------------------| 14.2% Complete\rProgress: |███████-------------------------------------------| 14.3% Complete\rProgress: |███████-------------------------------------------| 14.3% Complete\rProgress: |███████-------------------------------------------| 14.4% Complete\rProgress: |███████-------------------------------------------| 14.5% Complete\rProgress: |███████-------------------------------------------| 14.5% Complete\rProgress: |███████-------------------------------------------| 14.6% Complete\rProgress: |███████-------------------------------------------| 14.6% Complete\rProgress: |███████-------------------------------------------| 14.7% Complete\rProgress: |███████-------------------------------------------| 14.7% Complete\rProgress: |███████-------------------------------------------| 14.8% Complete\rProgress: |███████-------------------------------------------| 14.9% Complete\rProgress: |███████-------------------------------------------| 14.9% Complete\rProgress: |███████-------------------------------------------| 15.0% Complete\rProgress: |███████-------------------------------------------| 15.0% Complete\rProgress: |███████-------------------------------------------| 15.1% Complete\rProgress: |███████-------------------------------------------| 15.1% Complete\rProgress: |███████-------------------------------------------| 15.2% Complete\rProgress: |███████-------------------------------------------| 15.3% Complete\rProgress: |███████-------------------------------------------| 15.3% Complete\rProgress: |███████-------------------------------------------| 15.4% Complete\rProgress: |███████-------------------------------------------| 15.4% Complete\rProgress: |███████-------------------------------------------| 15.5% Complete\rProgress: |███████-------------------------------------------| 15.5% Complete\rProgress: |███████-------------------------------------------| 15.6% Complete\rProgress: |███████-------------------------------------------| 15.7% Complete\rProgress: |███████-------------------------------------------| 15.7% Complete\rProgress: |███████-------------------------------------------| 15.8% Complete\rProgress: |███████-------------------------------------------| 15.8% Complete\rProgress: |███████-------------------------------------------| 15.9% Complete\rProgress: |███████-------------------------------------------| 15.9% Complete\rProgress: |███████-------------------------------------------| 16.0% Complete\rProgress: |████████------------------------------------------| 16.1% Complete\rProgress: |████████------------------------------------------| 16.1% Complete\rProgress: |████████------------------------------------------| 16.2% Complete\rProgress: |████████------------------------------------------| 16.2% Complete\rProgress: |████████------------------------------------------| 16.3% Complete\rProgress: |████████------------------------------------------| 16.3% Complete\rProgress: |████████------------------------------------------| 16.4% Complete\rProgress: |████████------------------------------------------| 16.5% Complete\rProgress: |████████------------------------------------------| 16.5% Complete\rProgress: |████████------------------------------------------| 16.6% Complete\rProgress: |████████------------------------------------------| 16.6% Complete\rProgress: |████████------------------------------------------| 16.7% Complete\rProgress: |████████------------------------------------------| 16.7% Complete\rProgress: |████████------------------------------------------| 16.8% Complete\rProgress: |████████------------------------------------------| 16.9% Complete\rProgress: |████████------------------------------------------| 16.9% Complete\rProgress: |████████------------------------------------------| 17.0% Complete\rProgress: |████████------------------------------------------| 17.0% Complete\rProgress: |████████------------------------------------------| 17.1% Complete\rProgress: |████████------------------------------------------| 17.1% Complete\rProgress: |████████------------------------------------------| 17.2% Complete\rProgress: |████████------------------------------------------| 17.3% Complete\rProgress: |████████------------------------------------------| 17.3% Complete\rProgress: |████████------------------------------------------| 17.4% Complete\rProgress: |████████------------------------------------------| 17.4% Complete\rProgress: |████████------------------------------------------| 17.5% Complete\rProgress: |████████------------------------------------------| 17.5% Complete\rProgress: |████████------------------------------------------| 17.6% Complete\rProgress: |████████------------------------------------------| 17.7% Complete\rProgress: |████████------------------------------------------| 17.7% Complete\rProgress: |████████------------------------------------------| 17.8% Complete\rProgress: |████████------------------------------------------| 17.8% Complete\rProgress: |████████------------------------------------------| 17.9% Complete\rProgress: |████████------------------------------------------| 17.9% Complete\rProgress: |█████████-----------------------------------------| 18.0% Complete\rProgress: |█████████-----------------------------------------| 18.1% Complete\rProgress: |█████████-----------------------------------------| 18.1% Complete\rProgress: |█████████-----------------------------------------| 18.2% Complete\rProgress: |█████████-----------------------------------------| 18.2% Complete\rProgress: |█████████-----------------------------------------| 18.3% Complete\rProgress: |█████████-----------------------------------------| 18.4% Complete\rProgress: |█████████-----------------------------------------| 18.4% Complete\rProgress: |█████████-----------------------------------------| 18.5% Complete\rProgress: |█████████-----------------------------------------| 18.5% Complete\rProgress: |█████████-----------------------------------------| 18.6% Complete\rProgress: |█████████-----------------------------------------| 18.6% Complete\rProgress: |█████████-----------------------------------------| 18.7% Complete\rProgress: |█████████-----------------------------------------| 18.8% Complete\rProgress: |█████████-----------------------------------------| 18.8% Complete\rProgress: |█████████-----------------------------------------| 18.9% Complete\rProgress: |█████████-----------------------------------------| 18.9% Complete\rProgress: |█████████-----------------------------------------| 19.0% Complete\rProgress: |█████████-----------------------------------------| 19.0% Complete\rProgress: |█████████-----------------------------------------| 19.1% Complete\rProgress: |█████████-----------------------------------------| 19.2% Complete\rProgress: |█████████-----------------------------------------| 19.2% Complete\rProgress: |█████████-----------------------------------------| 19.3% Complete\rProgress: |█████████-----------------------------------------| 19.3% Complete\rProgress: |█████████-----------------------------------------| 19.4% Complete\rProgress: |█████████-----------------------------------------| 19.4% Complete\rProgress: |█████████-----------------------------------------| 19.5% Complete\rProgress: |█████████-----------------------------------------| 19.6% Complete\rProgress: |█████████-----------------------------------------| 19.6% Complete\rProgress: |█████████-----------------------------------------| 19.7% Complete\rProgress: |█████████-----------------------------------------| 19.7% Complete\rProgress: |█████████-----------------------------------------| 19.8% Complete\rProgress: |█████████-----------------------------------------| 19.8% Complete\rProgress: |█████████-----------------------------------------| 19.9% Complete\rProgress: |█████████-----------------------------------------| 20.0% Complete\rProgress: |██████████----------------------------------------| 20.0% Complete\rProgress: |██████████----------------------------------------| 20.1% Complete\rProgress: |██████████----------------------------------------| 20.1% Complete\rProgress: |██████████----------------------------------------| 20.2% Complete\rProgress: |██████████----------------------------------------| 20.2% Complete\rProgress: |██████████----------------------------------------| 20.3% Complete\rProgress: |██████████----------------------------------------| 20.4% Complete\rProgress: |██████████----------------------------------------| 20.4% Complete\rProgress: |██████████----------------------------------------| 20.5% Complete\rProgress: |██████████----------------------------------------| 20.5% Complete\rProgress: |██████████----------------------------------------| 20.6% Complete\rProgress: |██████████----------------------------------------| 20.6% Complete\rProgress: |██████████----------------------------------------| 20.7% Complete\rProgress: |██████████----------------------------------------| 20.8% Complete\rProgress: |██████████----------------------------------------| 20.8% Complete\rProgress: |██████████----------------------------------------| 20.9% Complete\rProgress: |██████████----------------------------------------| 20.9% Complete\rProgress: |██████████----------------------------------------| 21.0% Complete\rProgress: |██████████----------------------------------------| 21.0% Complete\rProgress: |██████████----------------------------------------| 21.1% Complete\rProgress: |██████████----------------------------------------| 21.2% Complete\rProgress: |██████████----------------------------------------| 21.2% Complete\rProgress: |██████████----------------------------------------| 21.3% Complete\rProgress: |██████████----------------------------------------| 21.3% Complete\rProgress: |██████████----------------------------------------| 21.4% Complete\rProgress: |██████████----------------------------------------| 21.4% Complete\rProgress: |██████████----------------------------------------| 21.5% Complete\rProgress: |██████████----------------------------------------| 21.6% Complete\rProgress: |██████████----------------------------------------| 21.6% Complete\rProgress: |██████████----------------------------------------| 21.7% Complete\rProgress: |██████████----------------------------------------| 21.7% Complete\rProgress: |██████████----------------------------------------| 21.8% Complete\rProgress: |██████████----------------------------------------| 21.8% Complete\rProgress: |██████████----------------------------------------| 21.9% Complete\rProgress: |██████████----------------------------------------| 22.0% Complete\rProgress: |███████████---------------------------------------| 22.0% Complete\rProgress: |███████████---------------------------------------| 22.1% Complete\rProgress: |███████████---------------------------------------| 22.1% Complete\rProgress: |███████████---------------------------------------| 22.2% Complete\rProgress: |███████████---------------------------------------| 22.3% Complete\rProgress: |███████████---------------------------------------| 22.3% Complete\rProgress: |███████████---------------------------------------| 22.4% Complete\rProgress: |███████████---------------------------------------| 22.4% Complete\rProgress: |███████████---------------------------------------| 22.5% Complete\rProgress: |███████████---------------------------------------| 22.5% Complete\rProgress: |███████████---------------------------------------| 22.6% Complete\rProgress: |███████████---------------------------------------| 22.7% Complete\rProgress: |███████████---------------------------------------| 22.7% Complete\rProgress: |███████████---------------------------------------| 22.8% Complete\rProgress: |███████████---------------------------------------| 22.8% Complete\rProgress: |███████████---------------------------------------| 22.9% Complete\rProgress: |███████████---------------------------------------| 22.9% Complete\rProgress: |███████████---------------------------------------| 23.0% Complete\rProgress: |███████████---------------------------------------| 23.1% Complete\rProgress: |███████████---------------------------------------| 23.1% Complete\rProgress: |███████████---------------------------------------| 23.2% Complete\rProgress: |███████████---------------------------------------| 23.2% Complete\rProgress: |███████████---------------------------------------| 23.3% Complete\rProgress: |███████████---------------------------------------| 23.3% Complete\rProgress: |███████████---------------------------------------| 23.4% Complete\rProgress: |███████████---------------------------------------| 23.5% Complete\rProgress: |███████████---------------------------------------| 23.5% Complete\rProgress: |███████████---------------------------------------| 23.6% Complete\rProgress: |███████████---------------------------------------| 23.6% Complete\rProgress: |███████████---------------------------------------| 23.7% Complete\rProgress: |███████████---------------------------------------| 23.7% Complete\rProgress: |███████████---------------------------------------| 23.8% Complete\rProgress: |███████████---------------------------------------| 23.9% Complete\rProgress: |███████████---------------------------------------| 23.9% Complete\rProgress: |███████████---------------------------------------| 24.0% Complete\rProgress: |████████████--------------------------------------| 24.0% Complete\rProgress: |████████████--------------------------------------| 24.1% Complete\rProgress: |████████████--------------------------------------| 24.1% Complete\rProgress: |████████████--------------------------------------| 24.2% Complete\rProgress: |████████████--------------------------------------| 24.3% Complete\rProgress: |████████████--------------------------------------| 24.3% Complete\rProgress: |████████████--------------------------------------| 24.4% Complete\rProgress: |████████████--------------------------------------| 24.4% Complete\rProgress: |████████████--------------------------------------| 24.5% Complete\rProgress: |████████████--------------------------------------| 24.5% Complete\rProgress: |████████████--------------------------------------| 24.6% Complete\rProgress: |████████████--------------------------------------| 24.7% Complete\rProgress: |████████████--------------------------------------| 24.7% Complete\rProgress: |████████████--------------------------------------| 24.8% Complete\rProgress: |████████████--------------------------------------| 24.8% Complete\rProgress: |████████████--------------------------------------| 24.9% Complete\rProgress: |████████████--------------------------------------| 24.9% Complete\rProgress: |████████████--------------------------------------| 25.0% Complete\rProgress: |████████████--------------------------------------| 25.1% Complete\rProgress: |████████████--------------------------------------| 25.1% Complete\rProgress: |████████████--------------------------------------| 25.2% Complete\rProgress: |████████████--------------------------------------| 25.2% Complete\rProgress: |████████████--------------------------------------| 25.3% Complete\rProgress: |████████████--------------------------------------| 25.3% Complete\rProgress: |████████████--------------------------------------| 25.4% Complete\rProgress: |████████████--------------------------------------| 25.5% Complete\rProgress: |████████████--------------------------------------| 25.5% Complete\rProgress: |████████████--------------------------------------| 25.6% Complete\rProgress: |████████████--------------------------------------| 25.6% Complete\rProgress: |████████████--------------------------------------| 25.7% Complete\rProgress: |████████████--------------------------------------| 25.7% Complete\rProgress: |████████████--------------------------------------| 25.8% Complete\rProgress: |████████████--------------------------------------| 25.9% Complete\rProgress: |████████████--------------------------------------| 25.9% Complete\rProgress: |████████████--------------------------------------| 26.0% Complete\rProgress: |█████████████-------------------------------------| 26.0% Complete\rProgress: |█████████████-------------------------------------| 26.1% Complete\rProgress: |█████████████-------------------------------------| 26.2% Complete\rProgress: |█████████████-------------------------------------| 26.2% Complete\rProgress: |█████████████-------------------------------------| 26.3% Complete\rProgress: |█████████████-------------------------------------| 26.3% Complete\rProgress: |█████████████-------------------------------------| 26.4% Complete\rProgress: |█████████████-------------------------------------| 26.4% Complete\rProgress: |█████████████-------------------------------------| 26.5% Complete\rProgress: |█████████████-------------------------------------| 26.6% Complete\rProgress: |█████████████-------------------------------------| 26.6% Complete\rProgress: |█████████████-------------------------------------| 26.7% Complete\rProgress: |█████████████-------------------------------------| 26.7% Complete\rProgress: |█████████████-------------------------------------| 26.8% Complete\rProgress: |█████████████-------------------------------------| 26.8% Complete\rProgress: |█████████████-------------------------------------| 26.9% Complete\rProgress: |█████████████-------------------------------------| 27.0% Complete\rProgress: |█████████████-------------------------------------| 27.0% Complete\rProgress: |█████████████-------------------------------------| 27.1% Complete\rProgress: |█████████████-------------------------------------| 27.1% Complete\rProgress: |█████████████-------------------------------------| 27.2% Complete\rProgress: |█████████████-------------------------------------| 27.2% Complete\rProgress: |█████████████-------------------------------------| 27.3% Complete\rProgress: |█████████████-------------------------------------| 27.4% Complete\rProgress: |█████████████-------------------------------------| 27.4% Complete\rProgress: |█████████████-------------------------------------| 27.5% Complete\rProgress: |█████████████-------------------------------------| 27.5% Complete\rProgress: |█████████████-------------------------------------| 27.6% Complete\rProgress: |█████████████-------------------------------------| 27.6% Complete\rProgress: |█████████████-------------------------------------| 27.7% Complete\rProgress: |█████████████-------------------------------------| 27.8% Complete\rProgress: |█████████████-------------------------------------| 27.8% Complete\rProgress: |█████████████-------------------------------------| 27.9% Complete\rProgress: |█████████████-------------------------------------| 27.9% Complete\rProgress: |█████████████-------------------------------------| 28.0% Complete\rProgress: |██████████████------------------------------------| 28.0% Complete\rProgress: |██████████████------------------------------------| 28.1% Complete\rProgress: |██████████████------------------------------------| 28.2% Complete\rProgress: |██████████████------------------------------------| 28.2% Complete\rProgress: |██████████████------------------------------------| 28.3% Complete\rProgress: |██████████████------------------------------------| 28.3% Complete\rProgress: |██████████████------------------------------------| 28.4% Complete\rProgress: |██████████████------------------------------------| 28.4% Complete\rProgress: |██████████████------------------------------------| 28.5% Complete\rProgress: |██████████████------------------------------------| 28.6% Complete\rProgress: |██████████████------------------------------------| 28.6% Complete\rProgress: |██████████████------------------------------------| 28.7% Complete\rProgress: |██████████████------------------------------------| 28.7% Complete\rProgress: |██████████████------------------------------------| 28.8% Complete\rProgress: |██████████████------------------------------------| 28.8% Complete\rProgress: |██████████████------------------------------------| 28.9% Complete\rProgress: |██████████████------------------------------------| 29.0% Complete\rProgress: |██████████████------------------------------------| 29.0% Complete\rProgress: |██████████████------------------------------------| 29.1% Complete\rProgress: |██████████████------------------------------------| 29.1% Complete\rProgress: |██████████████------------------------------------| 29.2% Complete\rProgress: |██████████████------------------------------------| 29.2% Complete\rProgress: |██████████████------------------------------------| 29.3% Complete\rProgress: |██████████████------------------------------------| 29.4% Complete\rProgress: |██████████████------------------------------------| 29.4% Complete\rProgress: |██████████████------------------------------------| 29.5% Complete\rProgress: |██████████████------------------------------------| 29.5% Complete\rProgress: |██████████████------------------------------------| 29.6% Complete\rProgress: |██████████████------------------------------------| 29.6% Complete\rProgress: |██████████████------------------------------------| 29.7% Complete\rProgress: |██████████████------------------------------------| 29.8% Complete\rProgress: |██████████████------------------------------------| 29.8% Complete\rProgress: |██████████████------------------------------------| 29.9% Complete\rProgress: |██████████████------------------------------------| 29.9% Complete\rProgress: |██████████████------------------------------------| 30.0% Complete\rProgress: |███████████████-----------------------------------| 30.0% Complete\rProgress: |███████████████-----------------------------------| 30.1% Complete\rProgress: |███████████████-----------------------------------| 30.2% Complete\rProgress: |███████████████-----------------------------------| 30.2% Complete\rProgress: |███████████████-----------------------------------| 30.3% Complete\rProgress: |███████████████-----------------------------------| 30.3% Complete\rProgress: |███████████████-----------------------------------| 30.4% Complete\rProgress: |███████████████-----------------------------------| 30.5% Complete\rProgress: |███████████████-----------------------------------| 30.5% Complete\rProgress: |███████████████-----------------------------------| 30.6% Complete\rProgress: |███████████████-----------------------------------| 30.6% Complete\rProgress: |███████████████-----------------------------------| 30.7% Complete\rProgress: |███████████████-----------------------------------| 30.7% Complete\rProgress: |███████████████-----------------------------------| 30.8% Complete\rProgress: |███████████████-----------------------------------| 30.9% Complete\rProgress: |███████████████-----------------------------------| 30.9% Complete\rProgress: |███████████████-----------------------------------| 31.0% Complete\rProgress: |███████████████-----------------------------------| 31.0% Complete\rProgress: |███████████████-----------------------------------| 31.1% Complete\rProgress: |███████████████-----------------------------------| 31.1% Complete\rProgress: |███████████████-----------------------------------| 31.2% Complete\rProgress: |███████████████-----------------------------------| 31.3% Complete\rProgress: |███████████████-----------------------------------| 31.3% Complete\rProgress: |███████████████-----------------------------------| 31.4% Complete\rProgress: |███████████████-----------------------------------| 31.4% Complete\rProgress: |███████████████-----------------------------------| 31.5% Complete\rProgress: |███████████████-----------------------------------| 31.5% Complete\rProgress: |███████████████-----------------------------------| 31.6% Complete\rProgress: |███████████████-----------------------------------| 31.7% Complete\rProgress: |███████████████-----------------------------------| 31.7% Complete\rProgress: |███████████████-----------------------------------| 31.8% Complete\rProgress: |███████████████-----------------------------------| 31.8% Complete\rProgress: |███████████████-----------------------------------| 31.9% Complete\rProgress: |███████████████-----------------------------------| 31.9% Complete\rProgress: |███████████████-----------------------------------| 32.0% Complete\rProgress: |████████████████----------------------------------| 32.1% Complete\rProgress: |████████████████----------------------------------| 32.1% Complete\rProgress: |████████████████----------------------------------| 32.2% Complete\rProgress: |████████████████----------------------------------| 32.2% Complete\rProgress: |████████████████----------------------------------| 32.3% Complete\rProgress: |████████████████----------------------------------| 32.3% Complete\rProgress: |████████████████----------------------------------| 32.4% Complete\rProgress: |████████████████----------------------------------| 32.5% Complete\rProgress: |████████████████----------------------------------| 32.5% Complete\rProgress: |████████████████----------------------------------| 32.6% Complete\rProgress: |████████████████----------------------------------| 32.6% Complete\rProgress: |████████████████----------------------------------| 32.7% Complete\rProgress: |████████████████----------------------------------| 32.7% Complete\rProgress: |████████████████----------------------------------| 32.8% Complete\rProgress: |████████████████----------------------------------| 32.9% Complete\rProgress: |████████████████----------------------------------| 32.9% Complete\rProgress: |████████████████----------------------------------| 33.0% Complete\rProgress: |████████████████----------------------------------| 33.0% Complete\rProgress: |████████████████----------------------------------| 33.1% Complete\rProgress: |████████████████----------------------------------| 33.1% Complete\rProgress: |████████████████----------------------------------| 33.2% Complete\rProgress: |████████████████----------------------------------| 33.3% Complete\rProgress: |████████████████----------------------------------| 33.3% Complete\rProgress: |████████████████----------------------------------| 33.4% Complete\rProgress: |████████████████----------------------------------| 33.4% Complete\rProgress: |████████████████----------------------------------| 33.5% Complete\rProgress: |████████████████----------------------------------| 33.5% Complete\rProgress: |████████████████----------------------------------| 33.6% Complete\rProgress: |████████████████----------------------------------| 33.7% Complete\rProgress: |████████████████----------------------------------| 33.7% Complete\rProgress: |████████████████----------------------------------| 33.8% Complete\rProgress: |████████████████----------------------------------| 33.8% Complete\rProgress: |████████████████----------------------------------| 33.9% Complete\rProgress: |████████████████----------------------------------| 33.9% Complete\rProgress: |█████████████████---------------------------------| 34.0% Complete\rProgress: |█████████████████---------------------------------| 34.1% Complete\rProgress: |█████████████████---------------------------------| 34.1% Complete\rProgress: |█████████████████---------------------------------| 34.2% Complete\rProgress: |█████████████████---------------------------------| 34.2% Complete\rProgress: |█████████████████---------------------------------| 34.3% Complete\rProgress: |█████████████████---------------------------------| 34.4% Complete\rProgress: |█████████████████---------------------------------| 34.4% Complete\rProgress: |█████████████████---------------------------------| 34.5% Complete\rProgress: |█████████████████---------------------------------| 34.5% Complete\rProgress: |█████████████████---------------------------------| 34.6% Complete\rProgress: |█████████████████---------------------------------| 34.6% Complete\rProgress: |█████████████████---------------------------------| 34.7% Complete\rProgress: |█████████████████---------------------------------| 34.8% Complete\rProgress: |█████████████████---------------------------------| 34.8% Complete\rProgress: |█████████████████---------------------------------| 34.9% Complete\rProgress: |█████████████████---------------------------------| 34.9% Complete\rProgress: |█████████████████---------------------------------| 35.0% Complete\rProgress: |█████████████████---------------------------------| 35.0% Complete\rProgress: |█████████████████---------------------------------| 35.1% Complete\rProgress: |█████████████████---------------------------------| 35.2% Complete\rProgress: |█████████████████---------------------------------| 35.2% Complete\rProgress: |█████████████████---------------------------------| 35.3% Complete\rProgress: |█████████████████---------------------------------| 35.3% Complete\rProgress: |█████████████████---------------------------------| 35.4% Complete\rProgress: |█████████████████---------------------------------| 35.4% Complete\rProgress: |█████████████████---------------------------------| 35.5% Complete\rProgress: |█████████████████---------------------------------| 35.6% Complete\rProgress: |█████████████████---------------------------------| 35.6% Complete\rProgress: |█████████████████---------------------------------| 35.7% Complete\rProgress: |█████████████████---------------------------------| 35.7% Complete\rProgress: |█████████████████---------------------------------| 35.8% Complete\rProgress: |█████████████████---------------------------------| 35.8% Complete\rProgress: |█████████████████---------------------------------| 35.9% Complete\rProgress: |█████████████████---------------------------------| 36.0% Complete\rProgress: |██████████████████--------------------------------| 36.0% Complete\rProgress: |██████████████████--------------------------------| 36.1% Complete\rProgress: |██████████████████--------------------------------| 36.1% Complete\rProgress: |██████████████████--------------------------------| 36.2% Complete\rProgress: |██████████████████--------------------------------| 36.2% Complete\rProgress: |██████████████████--------------------------------| 36.3% Complete\rProgress: |██████████████████--------------------------------| 36.4% Complete\rProgress: |██████████████████--------------------------------| 36.4% Complete\rProgress: |██████████████████--------------------------------| 36.5% Complete\rProgress: |██████████████████--------------------------------| 36.5% Complete\rProgress: |██████████████████--------------------------------| 36.6% Complete\rProgress: |██████████████████--------------------------------| 36.6% Complete\rProgress: |██████████████████--------------------------------| 36.7% Complete\rProgress: |██████████████████--------------------------------| 36.8% Complete\rProgress: |██████████████████--------------------------------| 36.8% Complete\rProgress: |██████████████████--------------------------------| 36.9% Complete\rProgress: |██████████████████--------------------------------| 36.9% Complete\rProgress: |██████████████████--------------------------------| 37.0% Complete\rProgress: |██████████████████--------------------------------| 37.0% Complete\rProgress: |██████████████████--------------------------------| 37.1% Complete\rProgress: |██████████████████--------------------------------| 37.2% Complete\rProgress: |██████████████████--------------------------------| 37.2% Complete\rProgress: |██████████████████--------------------------------| 37.3% Complete\rProgress: |██████████████████--------------------------------| 37.3% Complete\rProgress: |██████████████████--------------------------------| 37.4% Complete\rProgress: |██████████████████--------------------------------| 37.4% Complete\rProgress: |██████████████████--------------------------------| 37.5% Complete\rProgress: |██████████████████--------------------------------| 37.6% Complete\rProgress: |██████████████████--------------------------------| 37.6% Complete\rProgress: |██████████████████--------------------------------| 37.7% Complete\rProgress: |██████████████████--------------------------------| 37.7% Complete\rProgress: |██████████████████--------------------------------| 37.8% Complete\rProgress: |██████████████████--------------------------------| 37.8% Complete\rProgress: |██████████████████--------------------------------| 37.9% Complete\rProgress: |██████████████████--------------------------------| 38.0% Complete\rProgress: |███████████████████-------------------------------| 38.0% Complete\rProgress: |███████████████████-------------------------------| 38.1% Complete\rProgress: |███████████████████-------------------------------| 38.1% Complete\rProgress: |███████████████████-------------------------------| 38.2% Complete\rProgress: |███████████████████-------------------------------| 38.3% Complete\rProgress: |███████████████████-------------------------------| 38.3% Complete\rProgress: |███████████████████-------------------------------| 38.4% Complete\rProgress: |███████████████████-------------------------------| 38.4% Complete\rProgress: |███████████████████-------------------------------| 38.5% Complete\rProgress: |███████████████████-------------------------------| 38.5% Complete\rProgress: |███████████████████-------------------------------| 38.6% Complete\rProgress: |███████████████████-------------------------------| 38.7% Complete\rProgress: |███████████████████-------------------------------| 38.7% Complete\rProgress: |███████████████████-------------------------------| 38.8% Complete\rProgress: |███████████████████-------------------------------| 38.8% Complete\rProgress: |███████████████████-------------------------------| 38.9% Complete\rProgress: |███████████████████-------------------------------| 38.9% Complete\rProgress: |███████████████████-------------------------------| 39.0% Complete\rProgress: |███████████████████-------------------------------| 39.1% Complete\rProgress: |███████████████████-------------------------------| 39.1% Complete\rProgress: |███████████████████-------------------------------| 39.2% Complete\rProgress: |███████████████████-------------------------------| 39.2% Complete\rProgress: |███████████████████-------------------------------| 39.3% Complete\rProgress: |███████████████████-------------------------------| 39.3% Complete\rProgress: |███████████████████-------------------------------| 39.4% Complete\rProgress: |███████████████████-------------------------------| 39.5% Complete\rProgress: |███████████████████-------------------------------| 39.5% Complete\rProgress: |███████████████████-------------------------------| 39.6% Complete\rProgress: |███████████████████-------------------------------| 39.6% Complete\rProgress: |███████████████████-------------------------------| 39.7% Complete\rProgress: |███████████████████-------------------------------| 39.7% Complete\rProgress: |███████████████████-------------------------------| 39.8% Complete\rProgress: |███████████████████-------------------------------| 39.9% Complete\rProgress: |███████████████████-------------------------------| 39.9% Complete\rProgress: |███████████████████-------------------------------| 40.0% Complete\rProgress: |████████████████████------------------------------| 40.0% Complete\rProgress: |████████████████████------------------------------| 40.1% Complete\rProgress: |████████████████████------------------------------| 40.1% Complete\rProgress: |████████████████████------------------------------| 40.2% Complete\rProgress: |████████████████████------------------------------| 40.3% Complete\rProgress: |████████████████████------------------------------| 40.3% Complete\rProgress: |████████████████████------------------------------| 40.4% Complete\rProgress: |████████████████████------------------------------| 40.4% Complete\rProgress: |████████████████████------------------------------| 40.5% Complete\rProgress: |████████████████████------------------------------| 40.5% Complete\rProgress: |████████████████████------------------------------| 40.6% Complete\rProgress: |████████████████████------------------------------| 40.7% Complete\rProgress: |████████████████████------------------------------| 40.7% Complete\rProgress: |████████████████████------------------------------| 40.8% Complete\rProgress: |████████████████████------------------------------| 40.8% Complete\rProgress: |████████████████████------------------------------| 40.9% Complete\rProgress: |████████████████████------------------------------| 40.9% Complete\rProgress: |████████████████████------------------------------| 41.0% Complete\rProgress: |████████████████████------------------------------| 41.1% Complete\rProgress: |████████████████████------------------------------| 41.1% Complete\rProgress: |████████████████████------------------------------| 41.2% Complete\rProgress: |████████████████████------------------------------| 41.2% Complete\rProgress: |████████████████████------------------------------| 41.3% Complete\rProgress: |████████████████████------------------------------| 41.3% Complete\rProgress: |████████████████████------------------------------| 41.4% Complete\rProgress: |████████████████████------------------------------| 41.5% Complete\rProgress: |████████████████████------------------------------| 41.5% Complete\rProgress: |████████████████████------------------------------| 41.6% Complete\rProgress: |████████████████████------------------------------| 41.6% Complete\rProgress: |████████████████████------------------------------| 41.7% Complete\rProgress: |████████████████████------------------------------| 41.7% Complete\rProgress: |████████████████████------------------------------| 41.8% Complete\rProgress: |████████████████████------------------------------| 41.9% Complete\rProgress: |████████████████████------------------------------| 41.9% Complete\rProgress: |████████████████████------------------------------| 42.0% Complete\rProgress: |█████████████████████-----------------------------| 42.0% Complete\rProgress: |█████████████████████-----------------------------| 42.1% Complete\rProgress: |█████████████████████-----------------------------| 42.2% Complete\rProgress: |█████████████████████-----------------------------| 42.2% Complete\rProgress: |█████████████████████-----------------------------| 42.3% Complete\rProgress: |█████████████████████-----------------------------| 42.3% Complete\rProgress: |█████████████████████-----------------------------| 42.4% Complete\rProgress: |█████████████████████-----------------------------| 42.4% Complete\rProgress: |█████████████████████-----------------------------| 42.5% Complete\rProgress: |█████████████████████-----------------------------| 42.6% Complete\rProgress: |█████████████████████-----------------------------| 42.6% Complete\rProgress: |█████████████████████-----------------------------| 42.7% Complete\rProgress: |█████████████████████-----------------------------| 42.7% Complete\rProgress: |█████████████████████-----------------------------| 42.8% Complete\rProgress: |█████████████████████-----------------------------| 42.8% Complete\rProgress: |█████████████████████-----------------------------| 42.9% Complete\rProgress: |█████████████████████-----------------------------| 43.0% Complete\rProgress: |█████████████████████-----------------------------| 43.0% Complete\rProgress: |█████████████████████-----------------------------| 43.1% Complete\rProgress: |█████████████████████-----------------------------| 43.1% Complete\rProgress: |█████████████████████-----------------------------| 43.2% Complete\rProgress: |█████████████████████-----------------------------| 43.2% Complete\rProgress: |█████████████████████-----------------------------| 43.3% Complete\rProgress: |█████████████████████-----------------------------| 43.4% Complete\rProgress: |█████████████████████-----------------------------| 43.4% Complete\rProgress: |█████████████████████-----------------------------| 43.5% Complete\rProgress: |█████████████████████-----------------------------| 43.5% Complete\rProgress: |█████████████████████-----------------------------| 43.6% Complete\rProgress: |█████████████████████-----------------------------| 43.6% Complete\rProgress: |█████████████████████-----------------------------| 43.7% Complete\rProgress: |█████████████████████-----------------------------| 43.8% Complete\rProgress: |█████████████████████-----------------------------| 43.8% Complete\rProgress: |█████████████████████-----------------------------| 43.9% Complete\rProgress: |█████████████████████-----------------------------| 43.9% Complete\rProgress: |█████████████████████-----------------------------| 44.0% Complete\rProgress: |██████████████████████----------------------------| 44.0% Complete\rProgress: |██████████████████████----------------------------| 44.1% Complete\rProgress: |██████████████████████----------------------------| 44.2% Complete\rProgress: |██████████████████████----------------------------| 44.2% Complete\rProgress: |██████████████████████----------------------------| 44.3% Complete\rProgress: |██████████████████████----------------------------| 44.3% Complete\rProgress: |██████████████████████----------------------------| 44.4% Complete\rProgress: |██████████████████████----------------------------| 44.4% Complete\rProgress: |██████████████████████----------------------------| 44.5% Complete\rProgress: |██████████████████████----------------------------| 44.6% Complete\rProgress: |██████████████████████----------------------------| 44.6% Complete\rProgress: |██████████████████████----------------------------| 44.7% Complete\rProgress: |██████████████████████----------------------------| 44.7% Complete\rProgress: |██████████████████████----------------------------| 44.8% Complete\rProgress: |██████████████████████----------------------------| 44.8% Complete\rProgress: |██████████████████████----------------------------| 44.9% Complete\rProgress: |██████████████████████----------------------------| 45.0% Complete\rProgress: |██████████████████████----------------------------| 45.0% Complete\rProgress: |██████████████████████----------------------------| 45.1% Complete\rProgress: |██████████████████████----------------------------| 45.1% Complete\rProgress: |██████████████████████----------------------------| 45.2% Complete\rProgress: |██████████████████████----------------------------| 45.2% Complete\rProgress: |██████████████████████----------------------------| 45.3% Complete\rProgress: |██████████████████████----------------------------| 45.4% Complete\rProgress: |██████████████████████----------------------------| 45.4% Complete\rProgress: |██████████████████████----------------------------| 45.5% Complete\rProgress: |██████████████████████----------------------------| 45.5% Complete\rProgress: |██████████████████████----------------------------| 45.6% Complete\rProgress: |██████████████████████----------------------------| 45.6% Complete\rProgress: |██████████████████████----------------------------| 45.7% Complete\rProgress: |██████████████████████----------------------------| 45.8% Complete\rProgress: |██████████████████████----------------------------| 45.8% Complete\rProgress: |██████████████████████----------------------------| 45.9% Complete\rProgress: |██████████████████████----------------------------| 45.9% Complete\rProgress: |██████████████████████----------------------------| 46.0% Complete\rProgress: |███████████████████████---------------------------| 46.0% Complete\rProgress: |███████████████████████---------------------------| 46.1% Complete\rProgress: |███████████████████████---------------------------| 46.2% Complete\rProgress: |███████████████████████---------------------------| 46.2% Complete\rProgress: |███████████████████████---------------------------| 46.3% Complete\rProgress: |███████████████████████---------------------------| 46.3% Complete\rProgress: |███████████████████████---------------------------| 46.4% Complete\rProgress: |███████████████████████---------------------------| 46.5% Complete\rProgress: |███████████████████████---------------------------| 46.5% Complete\rProgress: |███████████████████████---------------------------| 46.6% Complete\rProgress: |███████████████████████---------------------------| 46.6% Complete\rProgress: |███████████████████████---------------------------| 46.7% Complete\rProgress: |███████████████████████---------------------------| 46.7% Complete\rProgress: |███████████████████████---------------------------| 46.8% Complete\rProgress: |███████████████████████---------------------------| 46.9% Complete\rProgress: |███████████████████████---------------------------| 46.9% Complete\rProgress: |███████████████████████---------------------------| 47.0% Complete\rProgress: |███████████████████████---------------------------| 47.0% Complete\rProgress: |███████████████████████---------------------------| 47.1% Complete\rProgress: |███████████████████████---------------------------| 47.1% Complete\rProgress: |███████████████████████---------------------------| 47.2% Complete\rProgress: |███████████████████████---------------------------| 47.3% Complete\rProgress: |███████████████████████---------------------------| 47.3% Complete\rProgress: |███████████████████████---------------------------| 47.4% Complete\rProgress: |███████████████████████---------------------------| 47.4% Complete\rProgress: |███████████████████████---------------------------| 47.5% Complete\rProgress: |███████████████████████---------------------------| 47.5% Complete\rProgress: |███████████████████████---------------------------| 47.6% Complete\rProgress: |███████████████████████---------------------------| 47.7% Complete\rProgress: |███████████████████████---------------------------| 47.7% Complete\rProgress: |███████████████████████---------------------------| 47.8% Complete\rProgress: |███████████████████████---------------------------| 47.8% Complete\rProgress: |███████████████████████---------------------------| 47.9% Complete\rProgress: |███████████████████████---------------------------| 47.9% Complete\rProgress: |███████████████████████---------------------------| 48.0% Complete\rProgress: |████████████████████████--------------------------| 48.1% Complete\rProgress: |████████████████████████--------------------------| 48.1% Complete\rProgress: |████████████████████████--------------------------| 48.2% Complete\rProgress: |████████████████████████--------------------------| 48.2% Complete\rProgress: |████████████████████████--------------------------| 48.3% Complete\rProgress: |████████████████████████--------------------------| 48.3% Complete\rProgress: |████████████████████████--------------------------| 48.4% Complete\rProgress: |████████████████████████--------------------------| 48.5% Complete\rProgress: |████████████████████████--------------------------| 48.5% Complete\rProgress: |████████████████████████--------------------------| 48.6% Complete\rProgress: |████████████████████████--------------------------| 48.6% Complete\rProgress: |████████████████████████--------------------------| 48.7% Complete\rProgress: |████████████████████████--------------------------| 48.7% Complete\rProgress: |████████████████████████--------------------------| 48.8% Complete\rProgress: |████████████████████████--------------------------| 48.9% Complete\rProgress: |████████████████████████--------------------------| 48.9% Complete\rProgress: |████████████████████████--------------------------| 49.0% Complete\rProgress: |████████████████████████--------------------------| 49.0% Complete\rProgress: |████████████████████████--------------------------| 49.1% Complete\rProgress: |████████████████████████--------------------------| 49.1% Complete\rProgress: |████████████████████████--------------------------| 49.2% Complete\rProgress: |████████████████████████--------------------------| 49.3% Complete\rProgress: |████████████████████████--------------------------| 49.3% Complete\rProgress: |████████████████████████--------------------------| 49.4% Complete\rProgress: |████████████████████████--------------------------| 49.4% Complete\rProgress: |████████████████████████--------------------------| 49.5% Complete\rProgress: |████████████████████████--------------------------| 49.5% Complete\rProgress: |████████████████████████--------------------------| 49.6% Complete\rProgress: |████████████████████████--------------------------| 49.7% Complete\rProgress: |████████████████████████--------------------------| 49.7% Complete\rProgress: |████████████████████████--------------------------| 49.8% Complete\rProgress: |████████████████████████--------------------------| 49.8% Complete\rProgress: |████████████████████████--------------------------| 49.9% Complete\rProgress: |████████████████████████--------------------------| 49.9% Complete\rProgress: |█████████████████████████-------------------------| 50.0% Complete\rProgress: |█████████████████████████-------------------------| 50.1% Complete\rProgress: |█████████████████████████-------------------------| 50.1% Complete\rProgress: |█████████████████████████-------------------------| 50.2% Complete\rProgress: |█████████████████████████-------------------------| 50.2% Complete\rProgress: |█████████████████████████-------------------------| 50.3% Complete\rProgress: |█████████████████████████-------------------------| 50.4% Complete\rProgress: |█████████████████████████-------------------------| 50.4% Complete\rProgress: |█████████████████████████-------------------------| 50.5% Complete\rProgress: |█████████████████████████-------------------------| 50.5% Complete\rProgress: |█████████████████████████-------------------------| 50.6% Complete\rProgress: |█████████████████████████-------------------------| 50.6% Complete\rProgress: |█████████████████████████-------------------------| 50.7% Complete\rProgress: |█████████████████████████-------------------------| 50.8% Complete\rProgress: |█████████████████████████-------------------------| 50.8% Complete\rProgress: |█████████████████████████-------------------------| 50.9% Complete\rProgress: |█████████████████████████-------------------------| 50.9% Complete\rProgress: |█████████████████████████-------------------------| 51.0% Complete\rProgress: |█████████████████████████-------------------------| 51.0% Complete\rProgress: |█████████████████████████-------------------------| 51.1% Complete\rProgress: |█████████████████████████-------------------------| 51.2% Complete\rProgress: |█████████████████████████-------------------------| 51.2% Complete\rProgress: |█████████████████████████-------------------------| 51.3% Complete\rProgress: |█████████████████████████-------------------------| 51.3% Complete\rProgress: |█████████████████████████-------------------------| 51.4% Complete\rProgress: |█████████████████████████-------------------------| 51.4% Complete\rProgress: |█████████████████████████-------------------------| 51.5% Complete\rProgress: |█████████████████████████-------------------------| 51.6% Complete\rProgress: |█████████████████████████-------------------------| 51.6% Complete\rProgress: |█████████████████████████-------------------------| 51.7% Complete\rProgress: |█████████████████████████-------------------------| 51.7% Complete\rProgress: |█████████████████████████-------------------------| 51.8% Complete\rProgress: |█████████████████████████-------------------------| 51.8% Complete\rProgress: |█████████████████████████-------------------------| 51.9% Complete\rProgress: |█████████████████████████-------------------------| 52.0% Complete\rProgress: |██████████████████████████------------------------| 52.0% Complete\rProgress: |██████████████████████████------------------------| 52.1% Complete\rProgress: |██████████████████████████------------------------| 52.1% Complete\rProgress: |██████████████████████████------------------------| 52.2% Complete\rProgress: |██████████████████████████------------------------| 52.2% Complete\rProgress: |██████████████████████████------------------------| 52.3% Complete\rProgress: |██████████████████████████------------------------| 52.4% Complete\rProgress: |██████████████████████████------------------------| 52.4% Complete\rProgress: |██████████████████████████------------------------| 52.5% Complete\rProgress: |██████████████████████████------------------------| 52.5% Complete\rProgress: |██████████████████████████------------------------| 52.6% Complete\rProgress: |██████████████████████████------------------------| 52.6% Complete\rProgress: |██████████████████████████------------------------| 52.7% Complete\rProgress: |██████████████████████████------------------------| 52.8% Complete\rProgress: |██████████████████████████------------------------| 52.8% Complete\rProgress: |██████████████████████████------------------------| 52.9% Complete\rProgress: |██████████████████████████------------------------| 52.9% Complete\rProgress: |██████████████████████████------------------------| 53.0% Complete\rProgress: |██████████████████████████------------------------| 53.0% Complete\rProgress: |██████████████████████████------------------------| 53.1% Complete\rProgress: |██████████████████████████------------------------| 53.2% Complete\rProgress: |██████████████████████████------------------------| 53.2% Complete\rProgress: |██████████████████████████------------------------| 53.3% Complete\rProgress: |██████████████████████████------------------------| 53.3% Complete\rProgress: |██████████████████████████------------------------| 53.4% Complete\rProgress: |██████████████████████████------------------------| 53.4% Complete\rProgress: |██████████████████████████------------------------| 53.5% Complete\rProgress: |██████████████████████████------------------------| 53.6% Complete\rProgress: |██████████████████████████------------------------| 53.6% Complete\rProgress: |██████████████████████████------------------------| 53.7% Complete\rProgress: |██████████████████████████------------------------| 53.7% Complete\rProgress: |██████████████████████████------------------------| 53.8% Complete\rProgress: |██████████████████████████------------------------| 53.8% Complete\rProgress: |██████████████████████████------------------------| 53.9% Complete\rProgress: |██████████████████████████------------------------| 54.0% Complete\rProgress: |███████████████████████████-----------------------| 54.0% Complete\rProgress: |███████████████████████████-----------------------| 54.1% Complete\rProgress: |███████████████████████████-----------------------| 54.1% Complete\rProgress: |███████████████████████████-----------------------| 54.2% Complete\rProgress: |███████████████████████████-----------------------| 54.3% Complete\rProgress: |███████████████████████████-----------------------| 54.3% Complete\rProgress: |███████████████████████████-----------------------| 54.4% Complete\rProgress: |███████████████████████████-----------------------| 54.4% Complete\rProgress: |███████████████████████████-----------------------| 54.5% Complete\rProgress: |███████████████████████████-----------------------| 54.5% Complete\rProgress: |███████████████████████████-----------------------| 54.6% Complete\rProgress: |███████████████████████████-----------------------| 54.7% Complete\rProgress: |███████████████████████████-----------------------| 54.7% Complete\rProgress: |███████████████████████████-----------------------| 54.8% Complete\rProgress: |███████████████████████████-----------------------| 54.8% Complete\rProgress: |███████████████████████████-----------------------| 54.9% Complete\rProgress: |███████████████████████████-----------------------| 54.9% Complete\rProgress: |███████████████████████████-----------------------| 55.0% Complete\rProgress: |███████████████████████████-----------------------| 55.1% Complete\rProgress: |███████████████████████████-----------------------| 55.1% Complete\rProgress: |███████████████████████████-----------------------| 55.2% Complete\rProgress: |███████████████████████████-----------------------| 55.2% Complete\rProgress: |███████████████████████████-----------------------| 55.3% Complete\rProgress: |███████████████████████████-----------------------| 55.3% Complete\rProgress: |███████████████████████████-----------------------| 55.4% Complete\rProgress: |███████████████████████████-----------------------| 55.5% Complete\rProgress: |███████████████████████████-----------------------| 55.5% Complete\rProgress: |███████████████████████████-----------------------| 55.6% Complete\rProgress: |███████████████████████████-----------------------| 55.6% Complete\rProgress: |███████████████████████████-----------------------| 55.7% Complete\rProgress: |███████████████████████████-----------------------| 55.7% Complete\rProgress: |███████████████████████████-----------------------| 55.8% Complete\rProgress: |███████████████████████████-----------------------| 55.9% Complete\rProgress: |███████████████████████████-----------------------| 55.9% Complete\rProgress: |███████████████████████████-----------------------| 56.0% Complete\rProgress: |████████████████████████████----------------------| 56.0% Complete\rProgress: |████████████████████████████----------------------| 56.1% Complete\rProgress: |████████████████████████████----------------------| 56.1% Complete\rProgress: |████████████████████████████----------------------| 56.2% Complete\rProgress: |████████████████████████████----------------------| 56.3% Complete\rProgress: |████████████████████████████----------------------| 56.3% Complete\rProgress: |████████████████████████████----------------------| 56.4% Complete\rProgress: |████████████████████████████----------------------| 56.4% Complete\rProgress: |████████████████████████████----------------------| 56.5% Complete\rProgress: |████████████████████████████----------------------| 56.5% Complete\rProgress: |████████████████████████████----------------------| 56.6% Complete\rProgress: |████████████████████████████----------------------| 56.7% Complete\rProgress: |████████████████████████████----------------------| 56.7% Complete\rProgress: |████████████████████████████----------------------| 56.8% Complete\rProgress: |████████████████████████████----------------------| 56.8% Complete\rProgress: |████████████████████████████----------------------| 56.9% Complete\rProgress: |████████████████████████████----------------------| 56.9% Complete\rProgress: |████████████████████████████----------------------| 57.0% Complete\rProgress: |████████████████████████████----------------------| 57.1% Complete\rProgress: |████████████████████████████----------------------| 57.1% Complete\rProgress: |████████████████████████████----------------------| 57.2% Complete\rProgress: |████████████████████████████----------------------| 57.2% Complete\rProgress: |████████████████████████████----------------------| 57.3% Complete\rProgress: |████████████████████████████----------------------| 57.3% Complete\rProgress: |████████████████████████████----------------------| 57.4% Complete\rProgress: |████████████████████████████----------------------| 57.5% Complete\rProgress: |████████████████████████████----------------------| 57.5% Complete\rProgress: |████████████████████████████----------------------| 57.6% Complete\rProgress: |████████████████████████████----------------------| 57.6% Complete\rProgress: |████████████████████████████----------------------| 57.7% Complete\rProgress: |████████████████████████████----------------------| 57.7% Complete\rProgress: |████████████████████████████----------------------| 57.8% Complete\rProgress: |████████████████████████████----------------------| 57.9% Complete\rProgress: |████████████████████████████----------------------| 57.9% Complete\rProgress: |████████████████████████████----------------------| 58.0% Complete\rProgress: |█████████████████████████████---------------------| 58.0% Complete\rProgress: |█████████████████████████████---------------------| 58.1% Complete\rProgress: |█████████████████████████████---------------------| 58.1% Complete\rProgress: |█████████████████████████████---------------------| 58.2% Complete\rProgress: |█████████████████████████████---------------------| 58.3% Complete\rProgress: |█████████████████████████████---------------------| 58.3% Complete\rProgress: |█████████████████████████████---------------------| 58.4% Complete\rProgress: |█████████████████████████████---------------------| 58.4% Complete\rProgress: |█████████████████████████████---------------------| 58.5% Complete\rProgress: |█████████████████████████████---------------------| 58.6% Complete\rProgress: |█████████████████████████████---------------------| 58.6% Complete\rProgress: |█████████████████████████████---------------------| 58.7% Complete\rProgress: |█████████████████████████████---------------------| 58.7% Complete\rProgress: |█████████████████████████████---------------------| 58.8% Complete\rProgress: |█████████████████████████████---------------------| 58.8% Complete\rProgress: |█████████████████████████████---------------------| 58.9% Complete\rProgress: |█████████████████████████████---------------------| 59.0% Complete\rProgress: |█████████████████████████████---------------------| 59.0% Complete\rProgress: |█████████████████████████████---------------------| 59.1% Complete\rProgress: |█████████████████████████████---------------------| 59.1% Complete\rProgress: |█████████████████████████████---------------------| 59.2% Complete\rProgress: |█████████████████████████████---------------------| 59.2% Complete\rProgress: |█████████████████████████████---------------------| 59.3% Complete\rProgress: |█████████████████████████████---------------------| 59.4% Complete\rProgress: |█████████████████████████████---------------------| 59.4% Complete\rProgress: |█████████████████████████████---------------------| 59.5% Complete\rProgress: |█████████████████████████████---------------------| 59.5% Complete\rProgress: |█████████████████████████████---------------------| 59.6% Complete\rProgress: |█████████████████████████████---------------------| 59.6% Complete\rProgress: |█████████████████████████████---------------------| 59.7% Complete\rProgress: |█████████████████████████████---------------------| 59.8% Complete\rProgress: |█████████████████████████████---------------------| 59.8% Complete\rProgress: |█████████████████████████████---------------------| 59.9% Complete\rProgress: |█████████████████████████████---------------------| 59.9% Complete\rProgress: |█████████████████████████████---------------------| 60.0% Complete\rProgress: |██████████████████████████████--------------------| 60.0% Complete\rProgress: |██████████████████████████████--------------------| 60.1% Complete\rProgress: |██████████████████████████████--------------------| 60.2% Complete\rProgress: |██████████████████████████████--------------------| 60.2% Complete\rProgress: |██████████████████████████████--------------------| 60.3% Complete\rProgress: |██████████████████████████████--------------------| 60.3% Complete\rProgress: |██████████████████████████████--------------------| 60.4% Complete\rProgress: |██████████████████████████████--------------------| 60.4% Complete\rProgress: |██████████████████████████████--------------------| 60.5% Complete\rProgress: |██████████████████████████████--------------------| 60.6% Complete\rProgress: |██████████████████████████████--------------------| 60.6% Complete\rProgress: |██████████████████████████████--------------------| 60.7% Complete\rProgress: |██████████████████████████████--------------------| 60.7% Complete\rProgress: |██████████████████████████████--------------------| 60.8% Complete\rProgress: |██████████████████████████████--------------------| 60.8% Complete\rProgress: |██████████████████████████████--------------------| 60.9% Complete\rProgress: |██████████████████████████████--------------------| 61.0% Complete\rProgress: |██████████████████████████████--------------------| 61.0% Complete\rProgress: |██████████████████████████████--------------------| 61.1% Complete\rProgress: |██████████████████████████████--------------------| 61.1% Complete\rProgress: |██████████████████████████████--------------------| 61.2% Complete\rProgress: |██████████████████████████████--------------------| 61.2% Complete\rProgress: |██████████████████████████████--------------------| 61.3% Complete\rProgress: |██████████████████████████████--------------------| 61.4% Complete\rProgress: |██████████████████████████████--------------------| 61.4% Complete\rProgress: |██████████████████████████████--------------------| 61.5% Complete\rProgress: |██████████████████████████████--------------------| 61.5% Complete\rProgress: |██████████████████████████████--------------------| 61.6% Complete\rProgress: |██████████████████████████████--------------------| 61.6% Complete\rProgress: |██████████████████████████████--------------------| 61.7% Complete\rProgress: |██████████████████████████████--------------------| 61.8% Complete\rProgress: |██████████████████████████████--------------------| 61.8% Complete\rProgress: |██████████████████████████████--------------------| 61.9% Complete\rProgress: |██████████████████████████████--------------------| 61.9% Complete\rProgress: |██████████████████████████████--------------------| 62.0% Complete\rProgress: |███████████████████████████████-------------------| 62.0% Complete\rProgress: |███████████████████████████████-------------------| 62.1% Complete\rProgress: |███████████████████████████████-------------------| 62.2% Complete\rProgress: |███████████████████████████████-------------------| 62.2% Complete\rProgress: |███████████████████████████████-------------------| 62.3% Complete\rProgress: |███████████████████████████████-------------------| 62.3% Complete\rProgress: |███████████████████████████████-------------------| 62.4% Complete\rProgress: |███████████████████████████████-------------------| 62.5% Complete\rProgress: |███████████████████████████████-------------------| 62.5% Complete\rProgress: |███████████████████████████████-------------------| 62.6% Complete\rProgress: |███████████████████████████████-------------------| 62.6% Complete\rProgress: |███████████████████████████████-------------------| 62.7% Complete\rProgress: |███████████████████████████████-------------------| 62.7% Complete\rProgress: |███████████████████████████████-------------------| 62.8% Complete\rProgress: |███████████████████████████████-------------------| 62.9% Complete\rProgress: |███████████████████████████████-------------------| 62.9% Complete\rProgress: |███████████████████████████████-------------------| 63.0% Complete\rProgress: |███████████████████████████████-------------------| 63.0% Complete\rProgress: |███████████████████████████████-------------------| 63.1% Complete\rProgress: |███████████████████████████████-------------------| 63.1% Complete\rProgress: |███████████████████████████████-------------------| 63.2% Complete\rProgress: |███████████████████████████████-------------------| 63.3% Complete\rProgress: |███████████████████████████████-------------------| 63.3% Complete\rProgress: |███████████████████████████████-------------------| 63.4% Complete\rProgress: |███████████████████████████████-------------------| 63.4% Complete\rProgress: |███████████████████████████████-------------------| 63.5% Complete\rProgress: |███████████████████████████████-------------------| 63.5% Complete\rProgress: |███████████████████████████████-------------------| 63.6% Complete\rProgress: |███████████████████████████████-------------------| 63.7% Complete\rProgress: |███████████████████████████████-------------------| 63.7% Complete\rProgress: |███████████████████████████████-------------------| 63.8% Complete\rProgress: |███████████████████████████████-------------------| 63.8% Complete\rProgress: |███████████████████████████████-------------------| 63.9% Complete\rProgress: |███████████████████████████████-------------------| 63.9% Complete\rProgress: |███████████████████████████████-------------------| 64.0% Complete\rProgress: |████████████████████████████████------------------| 64.1% Complete\rProgress: |████████████████████████████████------------------| 64.1% Complete\rProgress: |████████████████████████████████------------------| 64.2% Complete\rProgress: |████████████████████████████████------------------| 64.2% Complete\rProgress: |████████████████████████████████------------------| 64.3% Complete\rProgress: |████████████████████████████████------------------| 64.3% Complete\rProgress: |████████████████████████████████------------------| 64.4% Complete\rProgress: |████████████████████████████████------------------| 64.5% Complete\rProgress: |████████████████████████████████------------------| 64.5% Complete\rProgress: |████████████████████████████████------------------| 64.6% Complete\rProgress: |████████████████████████████████------------------| 64.6% Complete\rProgress: |████████████████████████████████------------------| 64.7% Complete\rProgress: |████████████████████████████████------------------| 64.7% Complete\rProgress: |████████████████████████████████------------------| 64.8% Complete\rProgress: |████████████████████████████████------------------| 64.9% Complete\rProgress: |████████████████████████████████------------------| 64.9% Complete\rProgress: |████████████████████████████████------------------| 65.0% Complete\rProgress: |████████████████████████████████------------------| 65.0% Complete\rProgress: |████████████████████████████████------------------| 65.1% Complete\rProgress: |████████████████████████████████------------------| 65.1% Complete\rProgress: |████████████████████████████████------------------| 65.2% Complete\rProgress: |████████████████████████████████------------------| 65.3% Complete\rProgress: |████████████████████████████████------------------| 65.3% Complete\rProgress: |████████████████████████████████------------------| 65.4% Complete\rProgress: |████████████████████████████████------------------| 65.4% Complete\rProgress: |████████████████████████████████------------------| 65.5% Complete\rProgress: |████████████████████████████████------------------| 65.5% Complete\rProgress: |████████████████████████████████------------------| 65.6% Complete\rProgress: |████████████████████████████████------------------| 65.7% Complete\rProgress: |████████████████████████████████------------------| 65.7% Complete\rProgress: |████████████████████████████████------------------| 65.8% Complete\rProgress: |████████████████████████████████------------------| 65.8% Complete\rProgress: |████████████████████████████████------------------| 65.9% Complete\rProgress: |████████████████████████████████------------------| 65.9% Complete\rProgress: |█████████████████████████████████-----------------| 66.0% Complete\rProgress: |█████████████████████████████████-----------------| 66.1% Complete\rProgress: |█████████████████████████████████-----------------| 66.1% Complete\rProgress: |█████████████████████████████████-----------------| 66.2% Complete\rProgress: |█████████████████████████████████-----------------| 66.2% Complete\rProgress: |█████████████████████████████████-----------------| 66.3% Complete\rProgress: |█████████████████████████████████-----------------| 66.4% Complete\rProgress: |█████████████████████████████████-----------------| 66.4% Complete\rProgress: |█████████████████████████████████-----------------| 66.5% Complete\rProgress: |█████████████████████████████████-----------------| 66.5% Complete\rProgress: |█████████████████████████████████-----------------| 66.6% Complete\rProgress: |█████████████████████████████████-----------------| 66.6% Complete\rProgress: |█████████████████████████████████-----------------| 66.7% Complete\rProgress: |█████████████████████████████████-----------------| 66.8% Complete\rProgress: |█████████████████████████████████-----------------| 66.8% Complete\rProgress: |█████████████████████████████████-----------------| 66.9% Complete\rProgress: |█████████████████████████████████-----------------| 66.9% Complete\rProgress: |█████████████████████████████████-----------------| 67.0% Complete\rProgress: |█████████████████████████████████-----------------| 67.0% Complete\rProgress: |█████████████████████████████████-----------------| 67.1% Complete\rProgress: |█████████████████████████████████-----------------| 67.2% Complete\rProgress: |█████████████████████████████████-----------------| 67.2% Complete\rProgress: |█████████████████████████████████-----------------| 67.3% Complete\rProgress: |█████████████████████████████████-----------------| 67.3% Complete\rProgress: |█████████████████████████████████-----------------| 67.4% Complete\rProgress: |█████████████████████████████████-----------------| 67.4% Complete\rProgress: |█████████████████████████████████-----------------| 67.5% Complete\rProgress: |█████████████████████████████████-----------------| 67.6% Complete\rProgress: |█████████████████████████████████-----------------| 67.6% Complete\rProgress: |█████████████████████████████████-----------------| 67.7% Complete\rProgress: |█████████████████████████████████-----------------| 67.7% Complete\rProgress: |█████████████████████████████████-----------------| 67.8% Complete\rProgress: |█████████████████████████████████-----------------| 67.8% Complete\rProgress: |█████████████████████████████████-----------------| 67.9% Complete\rProgress: |█████████████████████████████████-----------------| 68.0% Complete\rProgress: |██████████████████████████████████----------------| 68.0% Complete\rProgress: |██████████████████████████████████----------------| 68.1% Complete\rProgress: |██████████████████████████████████----------------| 68.1% Complete\rProgress: |██████████████████████████████████----------------| 68.2% Complete\rProgress: |██████████████████████████████████----------------| 68.2% Complete\rProgress: |██████████████████████████████████----------------| 68.3% Complete\rProgress: |██████████████████████████████████----------------| 68.4% Complete\rProgress: |██████████████████████████████████----------------| 68.4% Complete\rProgress: |██████████████████████████████████----------------| 68.5% Complete\rProgress: |██████████████████████████████████----------------| 68.5% Complete\rProgress: |██████████████████████████████████----------------| 68.6% Complete\rProgress: |██████████████████████████████████----------------| 68.6% Complete\rProgress: |██████████████████████████████████----------------| 68.7% Complete\rProgress: |██████████████████████████████████----------------| 68.8% Complete\rProgress: |██████████████████████████████████----------------| 68.8% Complete\rProgress: |██████████████████████████████████----------------| 68.9% Complete\rProgress: |██████████████████████████████████----------------| 68.9% Complete\rProgress: |██████████████████████████████████----------------| 69.0% Complete\rProgress: |██████████████████████████████████----------------| 69.0% Complete\rProgress: |██████████████████████████████████----------------| 69.1% Complete\rProgress: |██████████████████████████████████----------------| 69.2% Complete\rProgress: |██████████████████████████████████----------------| 69.2% Complete\rProgress: |██████████████████████████████████----------------| 69.3% Complete\rProgress: |██████████████████████████████████----------------| 69.3% Complete\rProgress: |██████████████████████████████████----------------| 69.4% Complete\rProgress: |██████████████████████████████████----------------| 69.4% Complete\rProgress: |██████████████████████████████████----------------| 69.5% Complete\rProgress: |██████████████████████████████████----------------| 69.6% Complete\rProgress: |██████████████████████████████████----------------| 69.6% Complete\rProgress: |██████████████████████████████████----------------| 69.7% Complete\rProgress: |██████████████████████████████████----------------| 69.7% Complete\rProgress: |██████████████████████████████████----------------| 69.8% Complete\rProgress: |██████████████████████████████████----------------| 69.8% Complete\rProgress: |██████████████████████████████████----------------| 69.9% Complete\rProgress: |██████████████████████████████████----------------| 70.0% Complete\rProgress: |███████████████████████████████████---------------| 70.0% Complete\rProgress: |███████████████████████████████████---------------| 70.1% Complete\rProgress: |███████████████████████████████████---------------| 70.1% Complete\rProgress: |███████████████████████████████████---------------| 70.2% Complete\rProgress: |███████████████████████████████████---------------| 70.3% Complete\rProgress: |███████████████████████████████████---------------| 70.3% Complete\rProgress: |███████████████████████████████████---------------| 70.4% Complete\rProgress: |███████████████████████████████████---------------| 70.4% Complete\rProgress: |███████████████████████████████████---------------| 70.5% Complete\rProgress: |███████████████████████████████████---------------| 70.5% Complete\rProgress: |███████████████████████████████████---------------| 70.6% Complete\rProgress: |███████████████████████████████████---------------| 70.7% Complete\rProgress: |███████████████████████████████████---------------| 70.7% Complete\rProgress: |███████████████████████████████████---------------| 70.8% Complete\rProgress: |███████████████████████████████████---------------| 70.8% Complete\rProgress: |███████████████████████████████████---------------| 70.9% Complete\rProgress: |███████████████████████████████████---------------| 70.9% Complete\rProgress: |███████████████████████████████████---------------| 71.0% Complete\rProgress: |███████████████████████████████████---------------| 71.1% Complete\rProgress: |███████████████████████████████████---------------| 71.1% Complete\rProgress: |███████████████████████████████████---------------| 71.2% Complete\rProgress: |███████████████████████████████████---------------| 71.2% Complete\rProgress: |███████████████████████████████████---------------| 71.3% Complete\rProgress: |███████████████████████████████████---------------| 71.3% Complete\rProgress: |███████████████████████████████████---------------| 71.4% Complete\rProgress: |███████████████████████████████████---------------| 71.5% Complete\rProgress: |███████████████████████████████████---------------| 71.5% Complete\rProgress: |███████████████████████████████████---------------| 71.6% Complete\rProgress: |███████████████████████████████████---------------| 71.6% Complete\rProgress: |███████████████████████████████████---------------| 71.7% Complete\rProgress: |███████████████████████████████████---------------| 71.7% Complete\rProgress: |███████████████████████████████████---------------| 71.8% Complete\rProgress: |███████████████████████████████████---------------| 71.9% Complete\rProgress: |███████████████████████████████████---------------| 71.9% Complete\rProgress: |███████████████████████████████████---------------| 72.0% Complete\rProgress: |████████████████████████████████████--------------| 72.0% Complete\rProgress: |████████████████████████████████████--------------| 72.1% Complete\rProgress: |████████████████████████████████████--------------| 72.1% Complete\rProgress: |████████████████████████████████████--------------| 72.2% Complete\rProgress: |████████████████████████████████████--------------| 72.3% Complete\rProgress: |████████████████████████████████████--------------| 72.3% Complete\rProgress: |████████████████████████████████████--------------| 72.4% Complete\rProgress: |████████████████████████████████████--------------| 72.4% Complete\rProgress: |████████████████████████████████████--------------| 72.5% Complete\rProgress: |████████████████████████████████████--------------| 72.5% Complete\rProgress: |████████████████████████████████████--------------| 72.6% Complete\rProgress: |████████████████████████████████████--------------| 72.7% Complete\rProgress: |████████████████████████████████████--------------| 72.7% Complete\rProgress: |████████████████████████████████████--------------| 72.8% Complete\rProgress: |████████████████████████████████████--------------| 72.8% Complete\rProgress: |████████████████████████████████████--------------| 72.9% Complete\rProgress: |████████████████████████████████████--------------| 72.9% Complete\rProgress: |████████████████████████████████████--------------| 73.0% Complete\rProgress: |████████████████████████████████████--------------| 73.1% Complete\rProgress: |████████████████████████████████████--------------| 73.1% Complete\rProgress: |████████████████████████████████████--------------| 73.2% Complete\rProgress: |████████████████████████████████████--------------| 73.2% Complete\rProgress: |████████████████████████████████████--------------| 73.3% Complete\rProgress: |████████████████████████████████████--------------| 73.3% Complete\rProgress: |████████████████████████████████████--------------| 73.4% Complete\rProgress: |████████████████████████████████████--------------| 73.5% Complete\rProgress: |████████████████████████████████████--------------| 73.5% Complete\rProgress: |████████████████████████████████████--------------| 73.6% Complete\rProgress: |████████████████████████████████████--------------| 73.6% Complete\rProgress: |████████████████████████████████████--------------| 73.7% Complete\rProgress: |████████████████████████████████████--------------| 73.7% Complete\rProgress: |████████████████████████████████████--------------| 73.8% Complete\rProgress: |████████████████████████████████████--------------| 73.9% Complete\rProgress: |████████████████████████████████████--------------| 73.9% Complete\rProgress: |████████████████████████████████████--------------| 74.0% Complete\rProgress: |█████████████████████████████████████-------------| 74.0% Complete\rProgress: |█████████████████████████████████████-------------| 74.1% Complete\rProgress: |█████████████████████████████████████-------------| 74.1% Complete\rProgress: |█████████████████████████████████████-------------| 74.2% Complete\rProgress: |█████████████████████████████████████-------------| 74.3% Complete\rProgress: |█████████████████████████████████████-------------| 74.3% Complete\rProgress: |█████████████████████████████████████-------------| 74.4% Complete\rProgress: |█████████████████████████████████████-------------| 74.4% Complete\rProgress: |█████████████████████████████████████-------------| 74.5% Complete\rProgress: |█████████████████████████████████████-------------| 74.6% Complete\rProgress: |█████████████████████████████████████-------------| 74.6% Complete\rProgress: |█████████████████████████████████████-------------| 74.7% Complete\rProgress: |█████████████████████████████████████-------------| 74.7% Complete\rProgress: |█████████████████████████████████████-------------| 74.8% Complete\rProgress: |█████████████████████████████████████-------------| 74.8% Complete\rProgress: |█████████████████████████████████████-------------| 74.9% Complete\rProgress: |█████████████████████████████████████-------------| 75.0% Complete\rProgress: |█████████████████████████████████████-------------| 75.0% Complete\rProgress: |█████████████████████████████████████-------------| 75.1% Complete\rProgress: |█████████████████████████████████████-------------| 75.1% Complete\rProgress: |█████████████████████████████████████-------------| 75.2% Complete\rProgress: |█████████████████████████████████████-------------| 75.2% Complete\rProgress: |█████████████████████████████████████-------------| 75.3% Complete\rProgress: |█████████████████████████████████████-------------| 75.4% Complete\rProgress: |█████████████████████████████████████-------------| 75.4% Complete\rProgress: |█████████████████████████████████████-------------| 75.5% Complete\rProgress: |█████████████████████████████████████-------------| 75.5% Complete\rProgress: |█████████████████████████████████████-------------| 75.6% Complete\rProgress: |█████████████████████████████████████-------------| 75.6% Complete\rProgress: |█████████████████████████████████████-------------| 75.7% Complete\rProgress: |█████████████████████████████████████-------------| 75.8% Complete\rProgress: |█████████████████████████████████████-------------| 75.8% Complete\rProgress: |█████████████████████████████████████-------------| 75.9% Complete\rProgress: |█████████████████████████████████████-------------| 75.9% Complete\rProgress: |█████████████████████████████████████-------------| 76.0% Complete\rProgress: |██████████████████████████████████████------------| 76.0% Complete\rProgress: |██████████████████████████████████████------------| 76.1% Complete\rProgress: |██████████████████████████████████████------------| 76.2% Complete\rProgress: |██████████████████████████████████████------------| 76.2% Complete\rProgress: |██████████████████████████████████████------------| 76.3% Complete\rProgress: |██████████████████████████████████████------------| 76.3% Complete\rProgress: |██████████████████████████████████████------------| 76.4% Complete\rProgress: |██████████████████████████████████████------------| 76.4% Complete\rProgress: |██████████████████████████████████████------------| 76.5% Complete\rProgress: |██████████████████████████████████████------------| 76.6% Complete\rProgress: |██████████████████████████████████████------------| 76.6% Complete\rProgress: |██████████████████████████████████████------------| 76.7% Complete\rProgress: |██████████████████████████████████████------------| 76.7% Complete\rProgress: |██████████████████████████████████████------------| 76.8% Complete\rProgress: |██████████████████████████████████████------------| 76.8% Complete\rProgress: |██████████████████████████████████████------------| 76.9% Complete\rProgress: |██████████████████████████████████████------------| 77.0% Complete\rProgress: |██████████████████████████████████████------------| 77.0% Complete\rProgress: |██████████████████████████████████████------------| 77.1% Complete\rProgress: |██████████████████████████████████████------------| 77.1% Complete\rProgress: |██████████████████████████████████████------------| 77.2% Complete\rProgress: |██████████████████████████████████████------------| 77.2% Complete\rProgress: |██████████████████████████████████████------------| 77.3% Complete\rProgress: |██████████████████████████████████████------------| 77.4% Complete\rProgress: |██████████████████████████████████████------------| 77.4% Complete\rProgress: |██████████████████████████████████████------------| 77.5% Complete\rProgress: |██████████████████████████████████████------------| 77.5% Complete\rProgress: |██████████████████████████████████████------------| 77.6% Complete\rProgress: |██████████████████████████████████████------------| 77.6% Complete\rProgress: |██████████████████████████████████████------------| 77.7% Complete\rProgress: |██████████████████████████████████████------------| 77.8% Complete\rProgress: |██████████████████████████████████████------------| 77.8% Complete\rProgress: |██████████████████████████████████████------------| 77.9% Complete\rProgress: |██████████████████████████████████████------------| 77.9% Complete\rProgress: |██████████████████████████████████████------------| 78.0% Complete\rProgress: |███████████████████████████████████████-----------| 78.0% Complete\rProgress: |███████████████████████████████████████-----------| 78.1% Complete\rProgress: |███████████████████████████████████████-----------| 78.2% Complete\rProgress: |███████████████████████████████████████-----------| 78.2% Complete\rProgress: |███████████████████████████████████████-----------| 78.3% Complete\rProgress: |███████████████████████████████████████-----------| 78.3% Complete\rProgress: |███████████████████████████████████████-----------| 78.4% Complete\rProgress: |███████████████████████████████████████-----------| 78.5% Complete\rProgress: |███████████████████████████████████████-----------| 78.5% Complete\rProgress: |███████████████████████████████████████-----------| 78.6% Complete\rProgress: |███████████████████████████████████████-----------| 78.6% Complete\rProgress: |███████████████████████████████████████-----------| 78.7% Complete\rProgress: |███████████████████████████████████████-----------| 78.7% Complete\rProgress: |███████████████████████████████████████-----------| 78.8% Complete\rProgress: |███████████████████████████████████████-----------| 78.9% Complete\rProgress: |███████████████████████████████████████-----------| 78.9% Complete\rProgress: |███████████████████████████████████████-----------| 79.0% Complete\rProgress: |███████████████████████████████████████-----------| 79.0% Complete\rProgress: |███████████████████████████████████████-----------| 79.1% Complete\rProgress: |███████████████████████████████████████-----------| 79.1% Complete\rProgress: |███████████████████████████████████████-----------| 79.2% Complete\rProgress: |███████████████████████████████████████-----------| 79.3% Complete\rProgress: |███████████████████████████████████████-----------| 79.3% Complete\rProgress: |███████████████████████████████████████-----------| 79.4% Complete\rProgress: |███████████████████████████████████████-----------| 79.4% Complete\rProgress: |███████████████████████████████████████-----------| 79.5% Complete\rProgress: |███████████████████████████████████████-----------| 79.5% Complete\rProgress: |███████████████████████████████████████-----------| 79.6% Complete\rProgress: |███████████████████████████████████████-----------| 79.7% Complete\rProgress: |███████████████████████████████████████-----------| 79.7% Complete\rProgress: |███████████████████████████████████████-----------| 79.8% Complete\rProgress: |███████████████████████████████████████-----------| 79.8% Complete\rProgress: |███████████████████████████████████████-----------| 79.9% Complete\rProgress: |███████████████████████████████████████-----------| 79.9% Complete\rProgress: |███████████████████████████████████████-----------| 80.0% Complete\rProgress: |████████████████████████████████████████----------| 80.1% Complete\rProgress: |████████████████████████████████████████----------| 80.1% Complete\rProgress: |████████████████████████████████████████----------| 80.2% Complete\rProgress: |████████████████████████████████████████----------| 80.2% Complete\rProgress: |████████████████████████████████████████----------| 80.3% Complete\rProgress: |████████████████████████████████████████----------| 80.3% Complete\rProgress: |████████████████████████████████████████----------| 80.4% Complete\rProgress: |████████████████████████████████████████----------| 80.5% Complete\rProgress: |████████████████████████████████████████----------| 80.5% Complete\rProgress: |████████████████████████████████████████----------| 80.6% Complete\rProgress: |████████████████████████████████████████----------| 80.6% Complete\rProgress: |████████████████████████████████████████----------| 80.7% Complete\rProgress: |████████████████████████████████████████----------| 80.7% Complete\rProgress: |████████████████████████████████████████----------| 80.8% Complete\rProgress: |████████████████████████████████████████----------| 80.9% Complete\rProgress: |████████████████████████████████████████----------| 80.9% Complete\rProgress: |████████████████████████████████████████----------| 81.0% Complete\rProgress: |████████████████████████████████████████----------| 81.0% Complete\rProgress: |████████████████████████████████████████----------| 81.1% Complete\rProgress: |████████████████████████████████████████----------| 81.1% Complete\rProgress: |████████████████████████████████████████----------| 81.2% Complete\rProgress: |████████████████████████████████████████----------| 81.3% Complete\rProgress: |████████████████████████████████████████----------| 81.3% Complete\rProgress: |████████████████████████████████████████----------| 81.4% Complete\rProgress: |████████████████████████████████████████----------| 81.4% Complete\rProgress: |████████████████████████████████████████----------| 81.5% Complete\rProgress: |████████████████████████████████████████----------| 81.5% Complete\rProgress: |████████████████████████████████████████----------| 81.6% Complete\rProgress: |████████████████████████████████████████----------| 81.7% Complete\rProgress: |████████████████████████████████████████----------| 81.7% Complete\rProgress: |████████████████████████████████████████----------| 81.8% Complete\rProgress: |████████████████████████████████████████----------| 81.8% Complete\rProgress: |████████████████████████████████████████----------| 81.9% Complete\rProgress: |████████████████████████████████████████----------| 81.9% Complete\rProgress: |█████████████████████████████████████████---------| 82.0% Complete\rProgress: |█████████████████████████████████████████---------| 82.1% Complete\rProgress: |█████████████████████████████████████████---------| 82.1% Complete\rProgress: |█████████████████████████████████████████---------| 82.2% Complete\rProgress: |█████████████████████████████████████████---------| 82.2% Complete\rProgress: |█████████████████████████████████████████---------| 82.3% Complete\rProgress: |█████████████████████████████████████████---------| 82.4% Complete\rProgress: |█████████████████████████████████████████---------| 82.4% Complete\rProgress: |█████████████████████████████████████████---------| 82.5% Complete\rProgress: |█████████████████████████████████████████---------| 82.5% Complete\rProgress: |█████████████████████████████████████████---------| 82.6% Complete\rProgress: |█████████████████████████████████████████---------| 82.6% Complete\rProgress: |█████████████████████████████████████████---------| 82.7% Complete\rProgress: |█████████████████████████████████████████---------| 82.8% Complete\rProgress: |█████████████████████████████████████████---------| 82.8% Complete\rProgress: |█████████████████████████████████████████---------| 82.9% Complete\rProgress: |█████████████████████████████████████████---------| 82.9% Complete\rProgress: |█████████████████████████████████████████---------| 83.0% Complete\rProgress: |█████████████████████████████████████████---------| 83.0% Complete\rProgress: |█████████████████████████████████████████---------| 83.1% Complete\rProgress: |█████████████████████████████████████████---------| 83.2% Complete\rProgress: |█████████████████████████████████████████---------| 83.2% Complete\rProgress: |█████████████████████████████████████████---------| 83.3% Complete\rProgress: |█████████████████████████████████████████---------| 83.3% Complete\rProgress: |█████████████████████████████████████████---------| 83.4% Complete\rProgress: |█████████████████████████████████████████---------| 83.4% Complete\rProgress: |█████████████████████████████████████████---------| 83.5% Complete\rProgress: |█████████████████████████████████████████---------| 83.6% Complete\rProgress: |█████████████████████████████████████████---------| 83.6% Complete\rProgress: |█████████████████████████████████████████---------| 83.7% Complete\rProgress: |█████████████████████████████████████████---------| 83.7% Complete\rProgress: |█████████████████████████████████████████---------| 83.8% Complete\rProgress: |█████████████████████████████████████████---------| 83.8% Complete\rProgress: |█████████████████████████████████████████---------| 83.9% Complete\rProgress: |█████████████████████████████████████████---------| 84.0% Complete\rProgress: |██████████████████████████████████████████--------| 84.0% Complete\rProgress: |██████████████████████████████████████████--------| 84.1% Complete\rProgress: |██████████████████████████████████████████--------| 84.1% Complete\rProgress: |██████████████████████████████████████████--------| 84.2% Complete\rProgress: |██████████████████████████████████████████--------| 84.2% Complete\rProgress: |██████████████████████████████████████████--------| 84.3% Complete\rProgress: |██████████████████████████████████████████--------| 84.4% Complete\rProgress: |██████████████████████████████████████████--------| 84.4% Complete\rProgress: |██████████████████████████████████████████--------| 84.5% Complete\rProgress: |██████████████████████████████████████████--------| 84.5% Complete\rProgress: |██████████████████████████████████████████--------| 84.6% Complete\rProgress: |██████████████████████████████████████████--------| 84.6% Complete\rProgress: |██████████████████████████████████████████--------| 84.7% Complete\rProgress: |██████████████████████████████████████████--------| 84.8% Complete\rProgress: |██████████████████████████████████████████--------| 84.8% Complete\rProgress: |██████████████████████████████████████████--------| 84.9% Complete\rProgress: |██████████████████████████████████████████--------| 84.9% Complete\rProgress: |██████████████████████████████████████████--------| 85.0% Complete\rProgress: |██████████████████████████████████████████--------| 85.0% Complete\rProgress: |██████████████████████████████████████████--------| 85.1% Complete\rProgress: |██████████████████████████████████████████--------| 85.2% Complete\rProgress: |██████████████████████████████████████████--------| 85.2% Complete\rProgress: |██████████████████████████████████████████--------| 85.3% Complete\rProgress: |██████████████████████████████████████████--------| 85.3% Complete\rProgress: |██████████████████████████████████████████--------| 85.4% Complete\rProgress: |██████████████████████████████████████████--------| 85.4% Complete\rProgress: |██████████████████████████████████████████--------| 85.5% Complete\rProgress: |██████████████████████████████████████████--------| 85.6% Complete\rProgress: |██████████████████████████████████████████--------| 85.6% Complete\rProgress: |██████████████████████████████████████████--------| 85.7% Complete\rProgress: |██████████████████████████████████████████--------| 85.7% Complete\rProgress: |██████████████████████████████████████████--------| 85.8% Complete\rProgress: |██████████████████████████████████████████--------| 85.8% Complete\rProgress: |██████████████████████████████████████████--------| 85.9% Complete\rProgress: |██████████████████████████████████████████--------| 86.0% Complete\rProgress: |███████████████████████████████████████████-------| 86.0% Complete\rProgress: |███████████████████████████████████████████-------| 86.1% Complete\rProgress: |███████████████████████████████████████████-------| 86.1% Complete\rProgress: |███████████████████████████████████████████-------| 86.2% Complete\rProgress: |███████████████████████████████████████████-------| 86.3% Complete\rProgress: |███████████████████████████████████████████-------| 86.3% Complete\rProgress: |███████████████████████████████████████████-------| 86.4% Complete\rProgress: |███████████████████████████████████████████-------| 86.4% Complete\rProgress: |███████████████████████████████████████████-------| 86.5% Complete\rProgress: |███████████████████████████████████████████-------| 86.5% Complete\rProgress: |███████████████████████████████████████████-------| 86.6% Complete\rProgress: |███████████████████████████████████████████-------| 86.7% Complete\rProgress: |███████████████████████████████████████████-------| 86.7% Complete\rProgress: |███████████████████████████████████████████-------| 86.8% Complete\rProgress: |███████████████████████████████████████████-------| 86.8% Complete\rProgress: |███████████████████████████████████████████-------| 86.9% Complete\rProgress: |███████████████████████████████████████████-------| 86.9% Complete\rProgress: |███████████████████████████████████████████-------| 87.0% Complete\rProgress: |███████████████████████████████████████████-------| 87.1% Complete\rProgress: |███████████████████████████████████████████-------| 87.1% Complete\rProgress: |███████████████████████████████████████████-------| 87.2% Complete\rProgress: |███████████████████████████████████████████-------| 87.2% Complete\rProgress: |███████████████████████████████████████████-------| 87.3% Complete\rProgress: |███████████████████████████████████████████-------| 87.3% Complete\rProgress: |███████████████████████████████████████████-------| 87.4% Complete\rProgress: |███████████████████████████████████████████-------| 87.5% Complete\rProgress: |███████████████████████████████████████████-------| 87.5% Complete\rProgress: |███████████████████████████████████████████-------| 87.6% Complete\rProgress: |███████████████████████████████████████████-------| 87.6% Complete\rProgress: |███████████████████████████████████████████-------| 87.7% Complete\rProgress: |███████████████████████████████████████████-------| 87.7% Complete\rProgress: |███████████████████████████████████████████-------| 87.8% Complete\rProgress: |███████████████████████████████████████████-------| 87.9% Complete\rProgress: |███████████████████████████████████████████-------| 87.9% Complete\rProgress: |███████████████████████████████████████████-------| 88.0% Complete\rProgress: |████████████████████████████████████████████------| 88.0% Complete\rProgress: |████████████████████████████████████████████------| 88.1% Complete\rProgress: |████████████████████████████████████████████------| 88.1% Complete\rProgress: |████████████████████████████████████████████------| 88.2% Complete\rProgress: |████████████████████████████████████████████------| 88.3% Complete\rProgress: |████████████████████████████████████████████------| 88.3% Complete\rProgress: |████████████████████████████████████████████------| 88.4% Complete\rProgress: |████████████████████████████████████████████------| 88.4% Complete\rProgress: |████████████████████████████████████████████------| 88.5% Complete\rProgress: |████████████████████████████████████████████------| 88.5% Complete\rProgress: |████████████████████████████████████████████------| 88.6% Complete\rProgress: |████████████████████████████████████████████------| 88.7% Complete\rProgress: |████████████████████████████████████████████------| 88.7% Complete\rProgress: |████████████████████████████████████████████------| 88.8% Complete\rProgress: |████████████████████████████████████████████------| 88.8% Complete\rProgress: |████████████████████████████████████████████------| 88.9% Complete\rProgress: |████████████████████████████████████████████------| 88.9% Complete\rProgress: |████████████████████████████████████████████------| 89.0% Complete\rProgress: |████████████████████████████████████████████------| 89.1% Complete\rProgress: |████████████████████████████████████████████------| 89.1% Complete\rProgress: |████████████████████████████████████████████------| 89.2% Complete\rProgress: |████████████████████████████████████████████------| 89.2% Complete\rProgress: |████████████████████████████████████████████------| 89.3% Complete\rProgress: |████████████████████████████████████████████------| 89.3% Complete\rProgress: |████████████████████████████████████████████------| 89.4% Complete\rProgress: |████████████████████████████████████████████------| 89.5% Complete\rProgress: |████████████████████████████████████████████------| 89.5% Complete\rProgress: |████████████████████████████████████████████------| 89.6% Complete\rProgress: |████████████████████████████████████████████------| 89.6% Complete\rProgress: |████████████████████████████████████████████------| 89.7% Complete\rProgress: |████████████████████████████████████████████------| 89.7% Complete\rProgress: |████████████████████████████████████████████------| 89.8% Complete\rProgress: |████████████████████████████████████████████------| 89.9% Complete\rProgress: |████████████████████████████████████████████------| 89.9% Complete\rProgress: |████████████████████████████████████████████------| 90.0% Complete\rProgress: |█████████████████████████████████████████████-----| 90.0% Complete\rProgress: |█████████████████████████████████████████████-----| 90.1% Complete\rProgress: |█████████████████████████████████████████████-----| 90.1% Complete\rProgress: |█████████████████████████████████████████████-----| 90.2% Complete\rProgress: |█████████████████████████████████████████████-----| 90.3% Complete\rProgress: |█████████████████████████████████████████████-----| 90.3% Complete\rProgress: |█████████████████████████████████████████████-----| 90.4% Complete\rProgress: |█████████████████████████████████████████████-----| 90.4% Complete\rProgress: |█████████████████████████████████████████████-----| 90.5% Complete\rProgress: |█████████████████████████████████████████████-----| 90.6% Complete\rProgress: |█████████████████████████████████████████████-----| 90.6% Complete\rProgress: |█████████████████████████████████████████████-----| 90.7% Complete\rProgress: |█████████████████████████████████████████████-----| 90.7% Complete\rProgress: |█████████████████████████████████████████████-----| 90.8% Complete\rProgress: |█████████████████████████████████████████████-----| 90.8% Complete\rProgress: |█████████████████████████████████████████████-----| 90.9% Complete\rProgress: |█████████████████████████████████████████████-----| 91.0% Complete\rProgress: |█████████████████████████████████████████████-----| 91.0% Complete\rProgress: |█████████████████████████████████████████████-----| 91.1% Complete\rProgress: |█████████████████████████████████████████████-----| 91.1% Complete\rProgress: |█████████████████████████████████████████████-----| 91.2% Complete\rProgress: |█████████████████████████████████████████████-----| 91.2% Complete\rProgress: |█████████████████████████████████████████████-----| 91.3% Complete\rProgress: |█████████████████████████████████████████████-----| 91.4% Complete\rProgress: |█████████████████████████████████████████████-----| 91.4% Complete\rProgress: |█████████████████████████████████████████████-----| 91.5% Complete\rProgress: |█████████████████████████████████████████████-----| 91.5% Complete\rProgress: |█████████████████████████████████████████████-----| 91.6% Complete\rProgress: |█████████████████████████████████████████████-----| 91.6% Complete\rProgress: |█████████████████████████████████████████████-----| 91.7% Complete\rProgress: |█████████████████████████████████████████████-----| 91.8% Complete\rProgress: |█████████████████████████████████████████████-----| 91.8% Complete\rProgress: |█████████████████████████████████████████████-----| 91.9% Complete\rProgress: |█████████████████████████████████████████████-----| 91.9% Complete\rProgress: |█████████████████████████████████████████████-----| 92.0% Complete\rProgress: |██████████████████████████████████████████████----| 92.0% Complete\rProgress: |██████████████████████████████████████████████----| 92.1% Complete\rProgress: |██████████████████████████████████████████████----| 92.2% Complete\rProgress: |██████████████████████████████████████████████----| 92.2% Complete\rProgress: |██████████████████████████████████████████████----| 92.3% Complete\rProgress: |██████████████████████████████████████████████----| 92.3% Complete\rProgress: |██████████████████████████████████████████████----| 92.4% Complete\rProgress: |██████████████████████████████████████████████----| 92.4% Complete\rProgress: |██████████████████████████████████████████████----| 92.5% Complete\rProgress: |██████████████████████████████████████████████----| 92.6% Complete\rProgress: |██████████████████████████████████████████████----| 92.6% Complete\rProgress: |██████████████████████████████████████████████----| 92.7% Complete\rProgress: |██████████████████████████████████████████████----| 92.7% Complete\rProgress: |██████████████████████████████████████████████----| 92.8% Complete\rProgress: |██████████████████████████████████████████████----| 92.8% Complete\rProgress: |██████████████████████████████████████████████----| 92.9% Complete\rProgress: |██████████████████████████████████████████████----| 93.0% Complete\rProgress: |██████████████████████████████████████████████----| 93.0% Complete\rProgress: |██████████████████████████████████████████████----| 93.1% Complete\rProgress: |██████████████████████████████████████████████----| 93.1% Complete\rProgress: |██████████████████████████████████████████████----| 93.2% Complete\rProgress: |██████████████████████████████████████████████----| 93.2% Complete\rProgress: |██████████████████████████████████████████████----| 93.3% Complete\rProgress: |██████████████████████████████████████████████----| 93.4% Complete\rProgress: |██████████████████████████████████████████████----| 93.4% Complete\rProgress: |██████████████████████████████████████████████----| 93.5% Complete\rProgress: |██████████████████████████████████████████████----| 93.5% Complete\rProgress: |██████████████████████████████████████████████----| 93.6% Complete\rProgress: |██████████████████████████████████████████████----| 93.6% Complete\rProgress: |██████████████████████████████████████████████----| 93.7% Complete\rProgress: |██████████████████████████████████████████████----| 93.8% Complete\rProgress: |██████████████████████████████████████████████----| 93.8% Complete\rProgress: |██████████████████████████████████████████████----| 93.9% Complete\rProgress: |██████████████████████████████████████████████----| 93.9% Complete\rProgress: |██████████████████████████████████████████████----| 94.0% Complete\rProgress: |███████████████████████████████████████████████---| 94.0% Complete\rProgress: |███████████████████████████████████████████████---| 94.1% Complete\rProgress: |███████████████████████████████████████████████---| 94.2% Complete\rProgress: |███████████████████████████████████████████████---| 94.2% Complete\rProgress: |███████████████████████████████████████████████---| 94.3% Complete\rProgress: |███████████████████████████████████████████████---| 94.3% Complete\rProgress: |███████████████████████████████████████████████---| 94.4% Complete\rProgress: |███████████████████████████████████████████████---| 94.5% Complete\rProgress: |███████████████████████████████████████████████---| 94.5% Complete\rProgress: |███████████████████████████████████████████████---| 94.6% Complete\rProgress: |███████████████████████████████████████████████---| 94.6% Complete\rProgress: |███████████████████████████████████████████████---| 94.7% Complete\rProgress: |███████████████████████████████████████████████---| 94.7% Complete\rProgress: |███████████████████████████████████████████████---| 94.8% Complete\rProgress: |███████████████████████████████████████████████---| 94.9% Complete\rProgress: |███████████████████████████████████████████████---| 94.9% Complete\rProgress: |███████████████████████████████████████████████---| 95.0% Complete\rProgress: |███████████████████████████████████████████████---| 95.0% Complete\rProgress: |███████████████████████████████████████████████---| 95.1% Complete\rProgress: |███████████████████████████████████████████████---| 95.1% Complete\rProgress: |███████████████████████████████████████████████---| 95.2% Complete\rProgress: |███████████████████████████████████████████████---| 95.3% Complete\rProgress: |███████████████████████████████████████████████---| 95.3% Complete\rProgress: |███████████████████████████████████████████████---| 95.4% Complete\rProgress: |███████████████████████████████████████████████---| 95.4% Complete\rProgress: |███████████████████████████████████████████████---| 95.5% Complete\rProgress: |███████████████████████████████████████████████---| 95.5% Complete\rProgress: |███████████████████████████████████████████████---| 95.6% Complete\rProgress: |███████████████████████████████████████████████---| 95.7% Complete\rProgress: |███████████████████████████████████████████████---| 95.7% Complete\rProgress: |███████████████████████████████████████████████---| 95.8% Complete\rProgress: |███████████████████████████████████████████████---| 95.8% Complete\rProgress: |███████████████████████████████████████████████---| 95.9% Complete\rProgress: |███████████████████████████████████████████████---| 95.9% Complete\rProgress: |███████████████████████████████████████████████---| 96.0% Complete\rProgress: |████████████████████████████████████████████████--| 96.1% Complete\rProgress: |████████████████████████████████████████████████--| 96.1% Complete\rProgress: |████████████████████████████████████████████████--| 96.2% Complete\rProgress: |████████████████████████████████████████████████--| 96.2% Complete\rProgress: |████████████████████████████████████████████████--| 96.3% Complete\rProgress: |████████████████████████████████████████████████--| 96.3% Complete\rProgress: |████████████████████████████████████████████████--| 96.4% Complete\rProgress: |████████████████████████████████████████████████--| 96.5% Complete\rProgress: |████████████████████████████████████████████████--| 96.5% Complete\rProgress: |████████████████████████████████████████████████--| 96.6% Complete\rProgress: |████████████████████████████████████████████████--| 96.6% Complete\rProgress: |████████████████████████████████████████████████--| 96.7% Complete\rProgress: |████████████████████████████████████████████████--| 96.7% Complete\rProgress: |████████████████████████████████████████████████--| 96.8% Complete\rProgress: |████████████████████████████████████████████████--| 96.9% Complete\rProgress: |████████████████████████████████████████████████--| 96.9% Complete\rProgress: |████████████████████████████████████████████████--| 97.0% Complete\rProgress: |████████████████████████████████████████████████--| 97.0% Complete\rProgress: |████████████████████████████████████████████████--| 97.1% Complete\rProgress: |████████████████████████████████████████████████--| 97.1% Complete\rProgress: |████████████████████████████████████████████████--| 97.2% Complete\rProgress: |████████████████████████████████████████████████--| 97.3% Complete\rProgress: |████████████████████████████████████████████████--| 97.3% Complete\rProgress: |████████████████████████████████████████████████--| 97.4% Complete\rProgress: |████████████████████████████████████████████████--| 97.4% Complete\rProgress: |████████████████████████████████████████████████--| 97.5% Complete\rProgress: |████████████████████████████████████████████████--| 97.5% Complete\rProgress: |████████████████████████████████████████████████--| 97.6% Complete\rProgress: |████████████████████████████████████████████████--| 97.7% Complete\rProgress: |████████████████████████████████████████████████--| 97.7% Complete\rProgress: |████████████████████████████████████████████████--| 97.8% Complete\rProgress: |████████████████████████████████████████████████--| 97.8% Complete\rProgress: |████████████████████████████████████████████████--| 97.9% Complete\rProgress: |████████████████████████████████████████████████--| 97.9% Complete\rProgress: |█████████████████████████████████████████████████-| 98.0% Complete\rProgress: |█████████████████████████████████████████████████-| 98.1% Complete\rProgress: |█████████████████████████████████████████████████-| 98.1% Complete\rProgress: |█████████████████████████████████████████████████-| 98.2% Complete\rProgress: |█████████████████████████████████████████████████-| 98.2% Complete\rProgress: |█████████████████████████████████████████████████-| 98.3% Complete\rProgress: |█████████████████████████████████████████████████-| 98.4% Complete\rProgress: |█████████████████████████████████████████████████-| 98.4% Complete\rProgress: |█████████████████████████████████████████████████-| 98.5% Complete\rProgress: |█████████████████████████████████████████████████-| 98.5% Complete\rProgress: |█████████████████████████████████████████████████-| 98.6% Complete\rProgress: |█████████████████████████████████████████████████-| 98.6% Complete\rProgress: |█████████████████████████████████████████████████-| 98.7% Complete\rProgress: |█████████████████████████████████████████████████-| 98.8% Complete\rProgress: |█████████████████████████████████████████████████-| 98.8% Complete\rProgress: |█████████████████████████████████████████████████-| 98.9% Complete\rProgress: |█████████████████████████████████████████████████-| 98.9% Complete\rProgress: |█████████████████████████████████████████████████-| 99.0% Complete\rProgress: |█████████████████████████████████████████████████-| 99.0% Complete\rProgress: |█████████████████████████████████████████████████-| 99.1% Complete\rProgress: |█████████████████████████████████████████████████-| 99.2% Complete\rProgress: |█████████████████████████████████████████████████-| 99.2% Complete\rProgress: |█████████████████████████████████████████████████-| 99.3% Complete\rProgress: |█████████████████████████████████████████████████-| 99.3% Complete\rProgress: |█████████████████████████████████████████████████-| 99.4% Complete\rProgress: |█████████████████████████████████████████████████-| 99.4% Complete\rProgress: |█████████████████████████████████████████████████-| 99.5% Complete\rProgress: |█████████████████████████████████████████████████-| 99.6% Complete\rProgress: |█████████████████████████████████████████████████-| 99.6% Complete\rProgress: |█████████████████████████████████████████████████-| 99.7% Complete\rProgress: |█████████████████████████████████████████████████-| 99.7% Complete\rProgress: |█████████████████████████████████████████████████-| 99.8% Complete\rProgress: |█████████████████████████████████████████████████-| 99.8% Complete\rProgress: |█████████████████████████████████████████████████-| 99.9% Complete\rProgress: |█████████████████████████████████████████████████-| 100.0% Complete\rProgress: |██████████████████████████████████████████████████| 100.0% Complete"
          ]
        }
      ]
    },
    {
      "cell_type": "markdown",
      "source": [
        "## Pytesseract"
      ],
      "metadata": {
        "id": "021EAjo9-2Iu"
      }
    },
    {
      "cell_type": "code",
      "source": [
        "!apt install tesseract-ocr -y\n",
        "!pip install pytesseract"
      ],
      "metadata": {
        "colab": {
          "base_uri": "https://localhost:8080/"
        },
        "id": "I4ieENe3-6d0",
        "outputId": "d5a2d0a3-2cd8-4a50-d729-c77ac90b8191"
      },
      "execution_count": null,
      "outputs": [
        {
          "output_type": "stream",
          "name": "stdout",
          "text": [
            "Reading package lists... Done\n",
            "Building dependency tree... Done\n",
            "Reading state information... Done\n",
            "tesseract-ocr is already the newest version (4.1.1-2.1build1).\n",
            "0 upgraded, 0 newly installed, 0 to remove and 35 not upgraded.\n",
            "Collecting pytesseract\n",
            "  Downloading pytesseract-0.3.13-py3-none-any.whl.metadata (11 kB)\n",
            "Requirement already satisfied: packaging>=21.3 in /usr/local/lib/python3.11/dist-packages (from pytesseract) (24.2)\n",
            "Requirement already satisfied: Pillow>=8.0.0 in /usr/local/lib/python3.11/dist-packages (from pytesseract) (11.2.1)\n",
            "Downloading pytesseract-0.3.13-py3-none-any.whl (14 kB)\n",
            "Installing collected packages: pytesseract\n",
            "Successfully installed pytesseract-0.3.13\n"
          ]
        }
      ]
    },
    {
      "cell_type": "markdown",
      "source": [
        "Kalo mau pake IND"
      ],
      "metadata": {
        "id": "VeEPEuvRawjX"
      }
    },
    {
      "cell_type": "code",
      "source": [
        "!wget https://github.com/tesseract-ocr/tessdata/raw/main/ind.traineddata -P /usr/share/tesseract-ocr/4.00/tessdata/"
      ],
      "metadata": {
        "colab": {
          "base_uri": "https://localhost:8080/"
        },
        "id": "sMdzfQ2QAsaP",
        "outputId": "e43f5073-3123-4e2b-9cca-84c78421ede5"
      },
      "execution_count": null,
      "outputs": [
        {
          "output_type": "stream",
          "name": "stdout",
          "text": [
            "--2025-06-01 10:21:54--  https://github.com/tesseract-ocr/tessdata/raw/main/ind.traineddata\n",
            "Resolving github.com (github.com)... 140.82.112.4\n",
            "Connecting to github.com (github.com)|140.82.112.4|:443... connected.\n",
            "HTTP request sent, awaiting response... 302 Found\n",
            "Location: https://raw.githubusercontent.com/tesseract-ocr/tessdata/main/ind.traineddata [following]\n",
            "--2025-06-01 10:21:54--  https://raw.githubusercontent.com/tesseract-ocr/tessdata/main/ind.traineddata\n",
            "Resolving raw.githubusercontent.com (raw.githubusercontent.com)... 185.199.109.133, 185.199.108.133, 185.199.110.133, ...\n",
            "Connecting to raw.githubusercontent.com (raw.githubusercontent.com)|185.199.109.133|:443... connected.\n",
            "HTTP request sent, awaiting response... 200 OK\n",
            "Length: 8279230 (7.9M) [application/octet-stream]\n",
            "Saving to: ‘/usr/share/tesseract-ocr/4.00/tessdata/ind.traineddata’\n",
            "\n",
            "ind.traineddata     100%[===================>]   7.90M  --.-KB/s    in 0.1s    \n",
            "\n",
            "2025-06-01 10:21:55 (80.2 MB/s) - ‘/usr/share/tesseract-ocr/4.00/tessdata/ind.traineddata’ saved [8279230/8279230]\n",
            "\n"
          ]
        }
      ]
    },
    {
      "cell_type": "code",
      "source": [
        "import pytesseract\n",
        "from PIL import Image\n",
        "import os\n",
        "import json\n",
        "import re\n",
        "from tqdm import tqdm"
      ],
      "metadata": {
        "id": "CpI9bgWV-_RG"
      },
      "execution_count": null,
      "outputs": []
    },
    {
      "cell_type": "markdown",
      "metadata": {
        "id": "EZvu1R-nmQtV"
      },
      "source": [
        "## PaddleOCR"
      ]
    },
    {
      "cell_type": "markdown",
      "metadata": {
        "id": "7uRycgPrmyK7"
      },
      "source": [
        "ID"
      ]
    },
    {
      "cell_type": "markdown",
      "source": [
        "Install PaddleOCR (GPU)"
      ],
      "metadata": {
        "id": "Dg_T-R5yxA8y"
      }
    },
    {
      "cell_type": "code",
      "execution_count": null,
      "metadata": {
        "id": "o95vG23RhyXZ",
        "colab": {
          "base_uri": "https://localhost:8080/"
        },
        "outputId": "f44d75a3-ed84-43b0-f61b-18bf3680715f"
      },
      "outputs": [
        {
          "output_type": "stream",
          "name": "stdout",
          "text": [
            "Looking in links: https://www.paddlepaddle.org.cn/whl/linux/mkl/avx/stable.html\n",
            "Collecting paddlepaddle-gpu==2.5.2.post112\n",
            "  Downloading https://paddle-wheel.bj.bcebos.com/2.5.2/linux/linux-gpu-cuda11.2-cudnn8-mkl-gcc8.2-avx/paddlepaddle_gpu-2.5.2.post112-cp311-cp311-linux_x86_64.whl (544.7 MB)\n",
            "\u001b[2K     \u001b[90m━━━━━━━━━━━━━━━━━━━━━━━━━━━━━━━━━━━━━━━\u001b[0m \u001b[32m544.7/544.7 MB\u001b[0m \u001b[31m2.3 MB/s\u001b[0m eta \u001b[36m0:00:00\u001b[0m\n",
            "\u001b[?25hRequirement already satisfied: httpx in /usr/local/lib/python3.11/dist-packages (from paddlepaddle-gpu==2.5.2.post112) (0.28.1)\n",
            "Requirement already satisfied: numpy>=1.13 in /usr/local/lib/python3.11/dist-packages (from paddlepaddle-gpu==2.5.2.post112) (2.0.2)\n",
            "Requirement already satisfied: Pillow in /usr/local/lib/python3.11/dist-packages (from paddlepaddle-gpu==2.5.2.post112) (11.2.1)\n",
            "Requirement already satisfied: decorator in /usr/local/lib/python3.11/dist-packages (from paddlepaddle-gpu==2.5.2.post112) (4.4.2)\n",
            "Collecting astor (from paddlepaddle-gpu==2.5.2.post112)\n",
            "  Downloading astor-0.8.1-py2.py3-none-any.whl.metadata (4.2 kB)\n",
            "Collecting opt-einsum==3.3.0 (from paddlepaddle-gpu==2.5.2.post112)\n",
            "  Downloading opt_einsum-3.3.0-py3-none-any.whl.metadata (6.5 kB)\n",
            "Requirement already satisfied: protobuf>=3.20.2 in /usr/local/lib/python3.11/dist-packages (from paddlepaddle-gpu==2.5.2.post112) (5.29.5)\n",
            "Requirement already satisfied: anyio in /usr/local/lib/python3.11/dist-packages (from httpx->paddlepaddle-gpu==2.5.2.post112) (4.9.0)\n",
            "Requirement already satisfied: certifi in /usr/local/lib/python3.11/dist-packages (from httpx->paddlepaddle-gpu==2.5.2.post112) (2025.4.26)\n",
            "Requirement already satisfied: httpcore==1.* in /usr/local/lib/python3.11/dist-packages (from httpx->paddlepaddle-gpu==2.5.2.post112) (1.0.9)\n",
            "Requirement already satisfied: idna in /usr/local/lib/python3.11/dist-packages (from httpx->paddlepaddle-gpu==2.5.2.post112) (3.10)\n",
            "Requirement already satisfied: h11>=0.16 in /usr/local/lib/python3.11/dist-packages (from httpcore==1.*->httpx->paddlepaddle-gpu==2.5.2.post112) (0.16.0)\n",
            "Requirement already satisfied: sniffio>=1.1 in /usr/local/lib/python3.11/dist-packages (from anyio->httpx->paddlepaddle-gpu==2.5.2.post112) (1.3.1)\n",
            "Requirement already satisfied: typing_extensions>=4.5 in /usr/local/lib/python3.11/dist-packages (from anyio->httpx->paddlepaddle-gpu==2.5.2.post112) (4.13.2)\n",
            "Downloading opt_einsum-3.3.0-py3-none-any.whl (65 kB)\n",
            "\u001b[2K   \u001b[90m━━━━━━━━━━━━━━━━━━━━━━━━━━━━━━━━━━━━━━━━\u001b[0m \u001b[32m65.5/65.5 kB\u001b[0m \u001b[31m2.7 MB/s\u001b[0m eta \u001b[36m0:00:00\u001b[0m\n",
            "\u001b[?25hDownloading astor-0.8.1-py2.py3-none-any.whl (27 kB)\n",
            "Installing collected packages: opt-einsum, astor, paddlepaddle-gpu\n",
            "  Attempting uninstall: opt-einsum\n",
            "    Found existing installation: opt_einsum 3.4.0\n",
            "    Uninstalling opt_einsum-3.4.0:\n",
            "      Successfully uninstalled opt_einsum-3.4.0\n",
            "Successfully installed astor-0.8.1 opt-einsum-3.3.0 paddlepaddle-gpu-2.5.2.post112\n",
            "Cloning into 'PaddleOCR'...\n",
            "remote: Enumerating objects: 237034, done.\u001b[K\n",
            "remote: Counting objects: 100% (1313/1313), done.\u001b[K\n",
            "remote: Compressing objects: 100% (289/289), done.\u001b[K\n",
            "remote: Total 237034 (delta 1087), reused 1178 (delta 1008), pack-reused 235721 (from 3)\u001b[K\n",
            "Receiving objects: 100% (237034/237034), 1.25 GiB | 30.74 MiB/s, done.\n",
            "Resolving deltas: 100% (186800/186800), done.\n",
            "/content/PaddleOCR\n",
            "Requirement already satisfied: shapely in /usr/local/lib/python3.11/dist-packages (from -r requirements.txt (line 1)) (2.1.1)\n",
            "Requirement already satisfied: scikit-image in /usr/local/lib/python3.11/dist-packages (from -r requirements.txt (line 2)) (0.25.2)\n",
            "Collecting pyclipper (from -r requirements.txt (line 3))\n",
            "  Downloading pyclipper-1.3.0.post6-cp311-cp311-manylinux_2_17_x86_64.manylinux2014_x86_64.whl.metadata (9.0 kB)\n",
            "Collecting lmdb (from -r requirements.txt (line 4))\n",
            "  Downloading lmdb-1.6.2-cp311-cp311-manylinux_2_17_x86_64.manylinux2014_x86_64.whl.metadata (1.1 kB)\n",
            "Requirement already satisfied: tqdm in /usr/local/lib/python3.11/dist-packages (from -r requirements.txt (line 5)) (4.67.1)\n",
            "Requirement already satisfied: numpy in /usr/local/lib/python3.11/dist-packages (from -r requirements.txt (line 6)) (2.0.2)\n",
            "Collecting rapidfuzz (from -r requirements.txt (line 7))\n",
            "  Downloading rapidfuzz-3.13.0-cp311-cp311-manylinux_2_17_x86_64.manylinux2014_x86_64.whl.metadata (12 kB)\n",
            "Requirement already satisfied: opencv-python in /usr/local/lib/python3.11/dist-packages (from -r requirements.txt (line 8)) (4.11.0.86)\n",
            "Requirement already satisfied: opencv-contrib-python in /usr/local/lib/python3.11/dist-packages (from -r requirements.txt (line 9)) (4.11.0.86)\n",
            "Requirement already satisfied: cython in /usr/local/lib/python3.11/dist-packages (from -r requirements.txt (line 10)) (3.0.12)\n",
            "Requirement already satisfied: Pillow in /usr/local/lib/python3.11/dist-packages (from -r requirements.txt (line 11)) (11.2.1)\n",
            "Requirement already satisfied: pyyaml in /usr/local/lib/python3.11/dist-packages (from -r requirements.txt (line 12)) (6.0.2)\n",
            "Requirement already satisfied: requests in /usr/local/lib/python3.11/dist-packages (from -r requirements.txt (line 13)) (2.32.3)\n",
            "Requirement already satisfied: albumentations in /usr/local/lib/python3.11/dist-packages (from -r requirements.txt (line 14)) (2.0.8)\n",
            "Requirement already satisfied: albucore in /usr/local/lib/python3.11/dist-packages (from -r requirements.txt (line 16)) (0.0.24)\n",
            "Requirement already satisfied: packaging in /usr/local/lib/python3.11/dist-packages (from -r requirements.txt (line 17)) (24.2)\n",
            "Requirement already satisfied: scipy>=1.11.4 in /usr/local/lib/python3.11/dist-packages (from scikit-image->-r requirements.txt (line 2)) (1.15.3)\n",
            "Requirement already satisfied: networkx>=3.0 in /usr/local/lib/python3.11/dist-packages (from scikit-image->-r requirements.txt (line 2)) (3.5)\n",
            "Requirement already satisfied: imageio!=2.35.0,>=2.33 in /usr/local/lib/python3.11/dist-packages (from scikit-image->-r requirements.txt (line 2)) (2.37.0)\n",
            "Requirement already satisfied: tifffile>=2022.8.12 in /usr/local/lib/python3.11/dist-packages (from scikit-image->-r requirements.txt (line 2)) (2025.5.26)\n",
            "Requirement already satisfied: lazy-loader>=0.4 in /usr/local/lib/python3.11/dist-packages (from scikit-image->-r requirements.txt (line 2)) (0.4)\n",
            "Requirement already satisfied: charset-normalizer<4,>=2 in /usr/local/lib/python3.11/dist-packages (from requests->-r requirements.txt (line 13)) (3.4.2)\n",
            "Requirement already satisfied: idna<4,>=2.5 in /usr/local/lib/python3.11/dist-packages (from requests->-r requirements.txt (line 13)) (3.10)\n",
            "Requirement already satisfied: urllib3<3,>=1.21.1 in /usr/local/lib/python3.11/dist-packages (from requests->-r requirements.txt (line 13)) (2.4.0)\n",
            "Requirement already satisfied: certifi>=2017.4.17 in /usr/local/lib/python3.11/dist-packages (from requests->-r requirements.txt (line 13)) (2025.4.26)\n",
            "Requirement already satisfied: pydantic>=2.9.2 in /usr/local/lib/python3.11/dist-packages (from albumentations->-r requirements.txt (line 14)) (2.11.5)\n",
            "Requirement already satisfied: opencv-python-headless>=4.9.0.80 in /usr/local/lib/python3.11/dist-packages (from albumentations->-r requirements.txt (line 14)) (4.11.0.86)\n",
            "Requirement already satisfied: stringzilla>=3.10.4 in /usr/local/lib/python3.11/dist-packages (from albucore->-r requirements.txt (line 16)) (3.12.5)\n",
            "Requirement already satisfied: simsimd>=5.9.2 in /usr/local/lib/python3.11/dist-packages (from albucore->-r requirements.txt (line 16)) (6.2.1)\n",
            "Requirement already satisfied: annotated-types>=0.6.0 in /usr/local/lib/python3.11/dist-packages (from pydantic>=2.9.2->albumentations->-r requirements.txt (line 14)) (0.7.0)\n",
            "Requirement already satisfied: pydantic-core==2.33.2 in /usr/local/lib/python3.11/dist-packages (from pydantic>=2.9.2->albumentations->-r requirements.txt (line 14)) (2.33.2)\n",
            "Requirement already satisfied: typing-extensions>=4.12.2 in /usr/local/lib/python3.11/dist-packages (from pydantic>=2.9.2->albumentations->-r requirements.txt (line 14)) (4.13.2)\n",
            "Requirement already satisfied: typing-inspection>=0.4.0 in /usr/local/lib/python3.11/dist-packages (from pydantic>=2.9.2->albumentations->-r requirements.txt (line 14)) (0.4.1)\n",
            "Downloading pyclipper-1.3.0.post6-cp311-cp311-manylinux_2_17_x86_64.manylinux2014_x86_64.whl (969 kB)\n",
            "\u001b[2K   \u001b[90m━━━━━━━━━━━━━━━━━━━━━━━━━━━━━━━━━━━━━━━━\u001b[0m \u001b[32m969.6/969.6 kB\u001b[0m \u001b[31m20.1 MB/s\u001b[0m eta \u001b[36m0:00:00\u001b[0m\n",
            "\u001b[?25hDownloading lmdb-1.6.2-cp311-cp311-manylinux_2_17_x86_64.manylinux2014_x86_64.whl (297 kB)\n",
            "\u001b[2K   \u001b[90m━━━━━━━━━━━━━━━━━━━━━━━━━━━━━━━━━━━━━━━━\u001b[0m \u001b[32m297.8/297.8 kB\u001b[0m \u001b[31m25.3 MB/s\u001b[0m eta \u001b[36m0:00:00\u001b[0m\n",
            "\u001b[?25hDownloading rapidfuzz-3.13.0-cp311-cp311-manylinux_2_17_x86_64.manylinux2014_x86_64.whl (3.1 MB)\n",
            "\u001b[2K   \u001b[90m━━━━━━━━━━━━━━━━━━━━━━━━━━━━━━━━━━━━━━━━\u001b[0m \u001b[32m3.1/3.1 MB\u001b[0m \u001b[31m86.3 MB/s\u001b[0m eta \u001b[36m0:00:00\u001b[0m\n",
            "\u001b[?25hInstalling collected packages: pyclipper, lmdb, rapidfuzz\n",
            "Successfully installed lmdb-1.6.2 pyclipper-1.3.0.post6 rapidfuzz-3.13.0\n"
          ]
        }
      ],
      "source": [
        "# Install PaddlePaddle GPU (CUDA 11.2)\n",
        "!pip install paddlepaddle-gpu==2.5.2.post112 -f https://www.paddlepaddle.org.cn/whl/linux/mkl/avx/stable.html\n",
        "\n",
        "# Clone repo PaddleOCR\n",
        "!git clone https://github.com/PaddlePaddle/PaddleOCR.git\n",
        "%cd PaddleOCR\n",
        "!pip install -r requirements.txt"
      ]
    },
    {
      "cell_type": "markdown",
      "source": [
        "Dataset untuk Fine-tuning"
      ],
      "metadata": {
        "id": "7IgX1IC8xEh9"
      }
    },
    {
      "cell_type": "code",
      "source": [
        "# Contoh struktur mini dataset\n",
        "!mkdir -p train_images val_images\n",
        "\n",
        "# Simpan beberapa sample (5 dari HuggingFace/Roboflow ke sini)\n",
        "import shutil\n",
        "import os\n",
        "\n",
        "for i, f in enumerate(sorted(os.listdir('/content/samples/huggingface'))[:200]):\n",
        "    shutil.copy(f\"/content/samples/huggingface/{f}\", f\"train_images/img{i}.jpg\")\n",
        "\n",
        "for i, f in enumerate(sorted(os.listdir('/content/samples/roboflow'))[:200]):\n",
        "    shutil.copy(f\"/content/samples/roboflow/{f}\", f\"val_images/img{i}.jpg\")"
      ],
      "metadata": {
        "id": "YaZXGt7Vw_23"
      },
      "execution_count": null,
      "outputs": []
    },
    {
      "cell_type": "code",
      "source": [
        "import os\n",
        "print(\"Contoh nama file HuggingFace:\")\n",
        "print(sorted(os.listdir(\"/content/samples/huggingface/\"))[:5])\n",
        "\n",
        "print(\"\\nContoh nama file Roboflow:\")\n",
        "print(sorted(os.listdir(\"/content/samples/roboflow/\"))[:5])"
      ],
      "metadata": {
        "colab": {
          "base_uri": "https://localhost:8080/"
        },
        "id": "r1tVw47CEVqY",
        "outputId": "68d0bbf3-9f7f-412c-c514-c259a09fdc00"
      },
      "execution_count": null,
      "outputs": [
        {
          "output_type": "stream",
          "name": "stdout",
          "text": [
            "Contoh nama file HuggingFace:\n",
            "['image_0.jpg', 'image_1.jpg', 'image_10.jpg', 'image_100.jpg', 'image_1000.jpg']\n",
            "\n",
            "Contoh nama file Roboflow:\n",
            "['1000-receipt_jpg.rf.6135dc2e5cbeb3378a627ed420ec94f9.jpg', '1001-receipt_jpg.rf.e26675ac1e744860bef24fb946739a0f.jpg', '1003-receipt_jpg.rf.9a9cff0d6cb40a8e91e4e1a633e085ff.jpg', '1004-receipt_jpg.rf.0a235b556d0d56a496eae4366508984b.jpg', '1004-receipt_jpg.rf.94c061b1b10d1db0670c619ee7474281.jpg']\n"
          ]
        }
      ]
    },
    {
      "cell_type": "code",
      "source": [
        "# Buat label sederhana (sesuaikan dengan gambar asli kamu)\n",
        "with open(\"train.txt\", \"w\") as f:\n",
        "    f.write(\"train_images/img0.jpg\\tINDOMARET\\n\")\n",
        "    f.write(\"train_images/img1.jpg\\tTeh Botol 4500\\n\")\n",
        "    f.write(\"train_images/img2.jpg\\tTotal Rp 7000\\n\")\n",
        "\n",
        "with open(\"val.txt\", \"w\") as f:\n",
        "    f.write(\"val_images/img0.jpg\\tALFAMART\\n\")\n",
        "    f.write(\"val_images/img1.jpg\\tIndomie Goreng 3500\\n\")"
      ],
      "metadata": {
        "id": "kIqj6AhL70ti"
      },
      "execution_count": null,
      "outputs": []
    },
    {
      "cell_type": "code",
      "source": [
        "!mkdir -p pretrain_models\n",
        "%cd pretrain_models\n",
        "!wget https://paddleocr.bj.bcebos.com/PP-OCRv3/ch_ppocr_server_v3_rec_infer.tar && tar -xf ch_ppocr_server_v3_rec_infer.tar\n",
        "%cd .."
      ],
      "metadata": {
        "colab": {
          "base_uri": "https://localhost:8080/"
        },
        "id": "qvQUVguc74VR",
        "outputId": "c3436cb8-6739-4d1a-976d-3bde761ea1d1"
      },
      "execution_count": null,
      "outputs": [
        {
          "output_type": "stream",
          "name": "stdout",
          "text": [
            "/content/PaddleOCR/pretrain_models\n",
            "--2025-06-06 11:11:09--  https://paddleocr.bj.bcebos.com/PP-OCRv3/ch_ppocr_server_v3_rec_infer.tar\n",
            "Resolving paddleocr.bj.bcebos.com (paddleocr.bj.bcebos.com)... 103.235.47.176, 2402:2b40:7000:628:0:ff:b0e8:88da\n",
            "Connecting to paddleocr.bj.bcebos.com (paddleocr.bj.bcebos.com)|103.235.47.176|:443... connected.\n",
            "HTTP request sent, awaiting response... 404 Not Found\n",
            "2025-06-06 11:11:11 ERROR 404: Not Found.\n",
            "\n",
            "/content/PaddleOCR\n"
          ]
        }
      ]
    },
    {
      "cell_type": "code",
      "source": [
        "!cp configs/rec/rec_r34_vd_none_bilstm_ctc.yml configs/rec/custom_rec.yml"
      ],
      "metadata": {
        "id": "-2GJXAKX79k6"
      },
      "execution_count": null,
      "outputs": []
    },
    {
      "cell_type": "code",
      "source": [
        "config = \"\"\"\n",
        "Global:\n",
        "  use_gpu: True\n",
        "  epoch_num: 10\n",
        "  log_smooth_window: 20\n",
        "  print_batch_step: 1\n",
        "  save_model_dir: ./output/rec\n",
        "  save_epoch_step: 1\n",
        "  eval_batch_step: [0, 500]\n",
        "  cal_metric_during_train: True\n",
        "  pretrained_model: ./pretrain_models/ch_ppocr_server_v3_rec_infer\n",
        "  checkpoints:\n",
        "  save_inference_dir: ./inference/rec_model\n",
        "  use_visualdl: False\n",
        "  infer_img: doc/imgs_words/ch/word_1.jpg\n",
        "  character_dict_path: ppocr/utils/ppocr_keys_v1.txt\n",
        "  character_type: ch\n",
        "  max_text_length: 25\n",
        "  infer_mode: False\n",
        "  use_space_char: True\n",
        "\n",
        "Optimizer:\n",
        "  name: Adam\n",
        "  beta1: 0.9\n",
        "  beta2: 0.999\n",
        "  lr:\n",
        "    learning_rate: 0.001\n",
        "  regularizer:\n",
        "    name: 'L2'\n",
        "    factor: 0.0001\n",
        "\n",
        "Architecture:\n",
        "  model_type: rec\n",
        "  algorithm: CRNN\n",
        "  Transform: null\n",
        "  Backbone:\n",
        "    name: ResNet\n",
        "    layers: 34\n",
        "  Neck:\n",
        "    name: SequenceEncoder\n",
        "    encoder_type: rnn\n",
        "    hidden_size: 256\n",
        "  Head:\n",
        "    name: CTCHead\n",
        "    fc_decay: 0.0001\n",
        "\n",
        "Loss:\n",
        "  name: CTCLoss\n",
        "\n",
        "PostProcess:\n",
        "  name: CTCLabelDecode\n",
        "\n",
        "Metric:\n",
        "  name: RecMetric\n",
        "  main_indicator: acc\n",
        "\n",
        "Train:\n",
        "  dataset:\n",
        "    name: SimpleDataSet\n",
        "    data_dir: ./\n",
        "    label_file_list: [\"train.txt\"]\n",
        "    transforms:\n",
        "      - DecodeImage: {channel_first: False}\n",
        "      - RecAug: {}\n",
        "      - CTCLabelEncode: {}\n",
        "      - KeepKeys: {keep_keys: [\"image\", \"label\", \"length\"]}\n",
        "  loader:\n",
        "    shuffle: True\n",
        "    batch_size: 8\n",
        "    drop_last: False\n",
        "    num_workers: 2\n",
        "\n",
        "Eval:\n",
        "  dataset:\n",
        "    name: SimpleDataSet\n",
        "    data_dir: ./\n",
        "    label_file_list: [\"val.txt\"]\n",
        "    transforms:\n",
        "      - DecodeImage: {channel_first: False}\n",
        "      - CTCLabelEncode: {}\n",
        "      - KeepKeys: {keep_keys: [\"image\", \"label\", \"length\"]}\n",
        "  loader:\n",
        "    shuffle: False\n",
        "    drop_last: False\n",
        "    batch_size: 4\n",
        "    num_workers: 2\n",
        "\"\"\"\n",
        "\n",
        "with open(\"configs/rec/custom_rec.yml\", \"w\") as f:\n",
        "    f.write(config)"
      ],
      "metadata": {
        "id": "oGVC5waC8ATI"
      },
      "execution_count": null,
      "outputs": []
    },
    {
      "cell_type": "code",
      "source": [
        "!python tools/train.py -c configs/rec/custom_rec.yml"
      ],
      "metadata": {
        "colab": {
          "base_uri": "https://localhost:8080/"
        },
        "id": "lpWE_SYT8CVE",
        "outputId": "df4725f8-56f2-4278-cf77-09f3b61a7cef"
      },
      "execution_count": null,
      "outputs": [
        {
          "output_type": "stream",
          "name": "stdout",
          "text": [
            "Error: Can not import paddle core while this file exists: /usr/local/lib/python3.11/dist-packages/paddle/fluid/libpaddle.so\n",
            "Traceback (most recent call last):\n",
            "  File \"/content/PaddleOCR/tools/train.py\", line 28, in <module>\n",
            "    import paddle\n",
            "  File \"/usr/local/lib/python3.11/dist-packages/paddle/__init__.py\", line 31, in <module>\n",
            "    from .framework import monkey_patch_variable\n",
            "  File \"/usr/local/lib/python3.11/dist-packages/paddle/framework/__init__.py\", line 17, in <module>\n",
            "    from . import random  # noqa: F401\n",
            "    ^^^^^^^^^^^^^^^^^^^^\n",
            "  File \"/usr/local/lib/python3.11/dist-packages/paddle/framework/random.py\", line 17, in <module>\n",
            "    from paddle import fluid\n",
            "  File \"/usr/local/lib/python3.11/dist-packages/paddle/fluid/__init__.py\", line 36, in <module>\n",
            "    from . import framework\n",
            "  File \"/usr/local/lib/python3.11/dist-packages/paddle/fluid/framework.py\", line 35, in <module>\n",
            "    from . import core\n",
            "  File \"/usr/local/lib/python3.11/dist-packages/paddle/fluid/core.py\", line 356, in <module>\n",
            "    raise e\n",
            "  File \"/usr/local/lib/python3.11/dist-packages/paddle/fluid/core.py\", line 269, in <module>\n",
            "    from . import libpaddle\n",
            "ImportError: libcudart.so.11.0: cannot open shared object file: No such file or directory\n"
          ]
        }
      ]
    },
    {
      "cell_type": "markdown",
      "source": [],
      "metadata": {
        "id": "k8MmEgpp7xKZ"
      }
    },
    {
      "cell_type": "markdown",
      "source": [],
      "metadata": {
        "id": "ZG7Q_yYG7dqi"
      }
    },
    {
      "cell_type": "markdown",
      "source": [
        "# Parsing"
      ],
      "metadata": {
        "id": "AmmFogCL6fkr"
      }
    },
    {
      "cell_type": "code",
      "source": [
        "import re\n",
        "\n",
        "def parse_receipt_text(text_lines):\n",
        "    parsed = {\n",
        "        \"store_name\": text_lines[0] if text_lines else None,\n",
        "        \"date\": None,\n",
        "        \"items\": [],\n",
        "        \"total_amount\": None\n",
        "    }\n",
        "\n",
        "    for line in text_lines:\n",
        "        if re.search(r'\\d{1,2}/\\d{1,2}/\\d{4}', line):\n",
        "            parsed[\"date\"] = re.search(r'\\d{1,2}/\\d{1,2}/\\d{4}', line).group()\n",
        "            break\n",
        "\n",
        "    for line in reversed(text_lines):\n",
        "        if \"total\" in line.lower():\n",
        "            angka = re.findall(r'\\d+[.,]?\\d*', line)\n",
        "            if angka:\n",
        "                parsed[\"total_amount\"] = angka[-1]\n",
        "            break\n",
        "\n",
        "    for i in range(1, len(text_lines) - 1):\n",
        "        nama = text_lines[i]\n",
        "        harga = text_lines[i + 1]\n",
        "        if re.match(r'^\\d+[.,]?\\d*$', harga.replace(\",\", \"\").replace(\".\", \"\")):\n",
        "            parsed[\"items\"].append({\n",
        "                \"name\": nama,\n",
        "                \"price\": harga.replace(\",\", \"\").replace(\".\", \"\")\n",
        "            })\n",
        "\n",
        "    return parsed"
      ],
      "metadata": {
        "id": "tNjszp296nIQ"
      },
      "execution_count": null,
      "outputs": []
    },
    {
      "cell_type": "markdown",
      "source": [
        "# Inference"
      ],
      "metadata": {
        "id": "-5M0_bo-5_y0"
      }
    },
    {
      "cell_type": "markdown",
      "source": [
        "## EasyOCR"
      ],
      "metadata": {
        "id": "ZWH9Zrnu6HrR"
      }
    },
    {
      "cell_type": "code",
      "source": [
        "import os\n",
        "import json\n",
        "from PIL import Image\n",
        "from tqdm import tqdm"
      ],
      "metadata": {
        "id": "E35Y328b6FsN"
      },
      "execution_count": null,
      "outputs": []
    },
    {
      "cell_type": "code",
      "source": [
        "def process_easyocr(folder_path, label):\n",
        "    print(f\"\\n📄 Dataset: {label}\\n\")\n",
        "    for img_name in tqdm(sorted(os.listdir(folder_path))):\n",
        "        img_path = os.path.join(folder_path, img_name)\n",
        "        results = reader.readtext(img_path)\n",
        "        text_lines = [res[1] for res in results]  # ambil teks dari result\n",
        "        parsed = parse_receipt_text(text_lines)\n",
        "        parsed[\"image\"] = img_name\n",
        "\n",
        "        print(json.dumps(parsed, indent=2, ensure_ascii=False))\n",
        "        print(\"-\" * 60)"
      ],
      "metadata": {
        "id": "iEoR-Byl6xQA"
      },
      "execution_count": null,
      "outputs": []
    },
    {
      "cell_type": "code",
      "source": [
        "process_easyocr(\"samples/huggingface\", \"Hugging Face\")"
      ],
      "metadata": {
        "colab": {
          "base_uri": "https://localhost:8080/"
        },
        "id": "4CxfUXXL6zpJ",
        "outputId": "847abc08-7b64-40d1-fcac-e3f81b7e2658"
      },
      "execution_count": null,
      "outputs": [
        {
          "output_type": "stream",
          "name": "stdout",
          "text": [
            "\n",
            "📄 Dataset: Hugging Face\n",
            "\n"
          ]
        },
        {
          "output_type": "stream",
          "name": "stderr",
          "text": [
            " 20%|██        | 1/5 [00:25<01:42, 25.66s/it]"
          ]
        },
        {
          "output_type": "stream",
          "name": "stdout",
          "text": [
            "{\n",
            "  \"store_name\": \"Nasi\",\n",
            "  \"date\": null,\n",
            "  \"items\": [\n",
            "    {\n",
            "      \"name\": \"70,ooo\",\n",
            "      \"price\": \"2\"\n",
            "    },\n",
            "    {\n",
            "      \"name\": \"65,OQO\",\n",
            "      \"price\": \"2\"\n",
            "    },\n",
            "    {\n",
            "      \"name\": \"Bok Pangoans San\",\n",
            "      \"price\": \"305\"\n",
            "    },\n",
            "    {\n",
            "      \"name\": \"52.Ogo\",\n",
            "      \"price\": \"2\"\n",
            "    },\n",
            "    {\n",
            "      \"name\": \"Ice Tea\",\n",
            "      \"price\": \"1\"\n",
            "    },\n",
            "    {\n",
            "      \"name\": \"PBI\",\n",
            "      \"price\": \"144695\"\n",
            "    },\n",
            "    {\n",
            "      \"name\": \"Rounding\",\n",
            "      \"price\": \"540\"\n",
            "    },\n",
            "    {\n",
            "      \"name\": \"T\",\n",
            "      \"price\": \"1\"\n",
            "    },\n",
            "    {\n",
            "      \"name\": \"1\",\n",
            "      \"price\": \"591\"\n",
            "    },\n",
            "    {\n",
            "      \"name\": \"591\",\n",
            "      \"price\": \"600\"\n",
            "    }\n",
            "  ],\n",
            "  \"total_amount\": null,\n",
            "  \"image\": \"image_0.jpg\"\n",
            "}\n",
            "------------------------------------------------------------\n"
          ]
        },
        {
          "output_type": "stream",
          "name": "stderr",
          "text": [
            "\r 40%|████      | 2/5 [00:47<01:10, 23.44s/it]"
          ]
        },
        {
          "output_type": "stream",
          "name": "stdout",
          "text": [
            "{\n",
            "  \"store_name\": \"1\",\n",
            "  \"date\": null,\n",
            "  \"items\": [\n",
            "    {\n",
            "      \"name\": \"58,OQo\",\n",
            "      \"price\": \"1\"\n",
            "    },\n",
            "    {\n",
            "      \"name\": \"22,Ooo\",\n",
            "      \"price\": \"1\"\n",
            "    },\n",
            "    {\n",
            "      \"name\": \"NUTTELA BRDWNIES\",\n",
            "      \"price\": \"35\"\n",
            "    },\n",
            "    {\n",
            "      \"name\": \"Ooo\",\n",
            "      \"price\": \"1\"\n",
            "    },\n",
            "    {\n",
            "      \"name\": \"SUBtoTAL\",\n",
            "      \"price\": \"52815\"\n",
            "    },\n",
            "    {\n",
            "      \"name\": \"PB1\",\n",
            "      \"price\": \"25150\"\n",
            "    },\n",
            "    {\n",
            "      \"name\": \"DUE\",\n",
            "      \"price\": \"580965\"\n",
            "    }\n",
            "  ],\n",
            "  \"total_amount\": null,\n",
            "  \"image\": \"image_1.jpg\"\n",
            "}\n",
            "------------------------------------------------------------\n"
          ]
        },
        {
          "output_type": "stream",
          "name": "stderr",
          "text": [
            "\r 60%|██████    | 3/5 [00:57<00:34, 17.17s/it]"
          ]
        },
        {
          "output_type": "stream",
          "name": "stdout",
          "text": [
            "{\n",
            "  \"store_name\": \"2e944 $\",\n",
            "  \"date\": null,\n",
            "  \"items\": [\n",
            "    {\n",
            "      \"name\": \"CHANGE\",\n",
            "      \"price\": \"36\"\n",
            "    },\n",
            "    {\n",
            "      \"name\": \"36\",\n",
            "      \"price\": \"4\"\n",
            "    },\n",
            "    {\n",
            "      \"name\": \"2 PCS\",\n",
            "      \"price\": \"525\"\n",
            "    }\n",
            "  ],\n",
            "  \"total_amount\": null,\n",
            "  \"image\": \"image_10.jpg\"\n",
            "}\n",
            "------------------------------------------------------------\n"
          ]
        },
        {
          "output_type": "stream",
          "name": "stderr",
          "text": [
            "\r 80%|████████  | 4/5 [02:15<00:41, 41.19s/it]"
          ]
        },
        {
          "output_type": "stream",
          "name": "stdout",
          "text": [
            "{\n",
            "  \"store_name\": \"PREMIUM ToAST PAN BREAD\",\n",
            "  \"date\": null,\n",
            "  \"items\": [\n",
            "    {\n",
            "      \"name\": \"TOTAL\",\n",
            "      \"price\": \"24000\"\n",
            "    },\n",
            "    {\n",
            "      \"name\": \"CHANGE\",\n",
            "      \"price\": \"26\"\n",
            "    },\n",
            "    {\n",
            "      \"name\": \"26\",\n",
            "      \"price\": \"1\"\n",
            "    }\n",
            "  ],\n",
            "  \"total_amount\": null,\n",
            "  \"image\": \"image_100.jpg\"\n",
            "}\n",
            "------------------------------------------------------------\n"
          ]
        },
        {
          "output_type": "stream",
          "name": "stderr",
          "text": [
            "100%|██████████| 5/5 [03:44<00:00, 44.97s/it]"
          ]
        },
        {
          "output_type": "stream",
          "name": "stdout",
          "text": [
            "{\n",
            "  \"store_name\": \"Invoice no: 31470773\",\n",
            "  \"date\": \"03/05/2012\",\n",
            "  \"items\": [\n",
            "    {\n",
            "      \"name\": \"worth\",\n",
            "      \"price\": \"1\"\n",
            "    },\n",
            "    {\n",
            "      \"name\": \"Super Nintendo SNES System\",\n",
            "      \"price\": \"100\"\n",
            "    },\n",
            "    {\n",
            "      \"name\": \"each\",\n",
            "      \"price\": \"10399\"\n",
            "    },\n",
            "    {\n",
            "      \"name\": \"103,99\",\n",
            "      \"price\": \"10399\"\n",
            "    },\n",
            "    {\n",
            "      \"name\": \"103,99\",\n",
            "      \"price\": \"109\"\n",
            "    },\n",
            "    {\n",
            "      \"name\": \"109\",\n",
            "      \"price\": \"11439\"\n",
            "    },\n",
            "    {\n",
            "      \"name\": \"+ 3 Games\",\n",
            "      \"price\": \"2\"\n",
            "    },\n",
            "    {\n",
            "      \"name\": \"Nintendo Switch Lite Gray\",\n",
            "      \"price\": \"300\"\n",
            "    },\n",
            "    {\n",
            "      \"name\": \"each\",\n",
            "      \"price\": \"13500\"\n",
            "    },\n",
            "    {\n",
            "      \"name\": \"135,00\",\n",
            "      \"price\": \"40500\"\n",
            "    },\n",
            "    {\n",
            "      \"name\": \"405,00\",\n",
            "      \"price\": \"109\"\n",
            "    },\n",
            "    {\n",
            "      \"name\": \"109\",\n",
            "      \"price\": \"44550\"\n",
            "    },\n",
            "    {\n",
            "      \"name\": \"10%\",\n",
            "      \"price\": \"50899\"\n",
            "    },\n",
            "    {\n",
            "      \"name\": \"508,99\",\n",
            "      \"price\": \"5090\"\n",
            "    },\n",
            "    {\n",
            "      \"name\": \"50,90\",\n",
            "      \"price\": \"55989\"\n",
            "    }\n",
            "  ],\n",
            "  \"total_amount\": null,\n",
            "  \"image\": \"image_1000.jpg\"\n",
            "}\n",
            "------------------------------------------------------------\n"
          ]
        },
        {
          "output_type": "stream",
          "name": "stderr",
          "text": [
            "\n"
          ]
        }
      ]
    },
    {
      "cell_type": "code",
      "source": [
        "process_easyocr(\"samples/roboflow\", \"Roboflow\")"
      ],
      "metadata": {
        "colab": {
          "base_uri": "https://localhost:8080/"
        },
        "id": "NOvAHjy565q8",
        "outputId": "f03dc0a8-a80d-4b16-95c4-e2b9bfa9620b"
      },
      "execution_count": null,
      "outputs": [
        {
          "output_type": "stream",
          "name": "stdout",
          "text": [
            "\n",
            "📄 Dataset: Roboflow\n",
            "\n"
          ]
        },
        {
          "output_type": "stream",
          "name": "stderr",
          "text": [
            " 20%|██        | 1/5 [00:07<00:30,  7.73s/it]"
          ]
        },
        {
          "output_type": "stream",
          "name": "stdout",
          "text": [
            "{\n",
            "  \"store_name\": \"GREEN FIELD\",\n",
            "  \"date\": \"5/26/2016\",\n",
            "  \"items\": [\n",
            "    {\n",
            "      \"name\": \"Table\",\n",
            "      \"price\": \"811\"\n",
            "    },\n",
            "    {\n",
            "      \"name\": \"Coffee\",\n",
            "      \"price\": \"300\"\n",
            "    },\n",
            "    {\n",
            "      \"name\": \"Lunch\",\n",
            "      \"price\": \"4590\"\n",
            "    },\n",
            "    {\n",
            "      \"name\": \"Coke\",\n",
            "      \"price\": \"300\"\n",
            "    },\n",
            "    {\n",
            "      \"name\": \"SuB .ToTal\",\n",
            "      \"price\": \"5190\"\n",
            "    },\n",
            "    {\n",
            "      \"name\": \"ToTaL:\",\n",
            "      \"price\": \"45658\"\n",
            "    }\n",
            "  ],\n",
            "  \"total_amount\": null,\n",
            "  \"image\": \"1000-receipt_jpg.rf.6135dc2e5cbeb3378a627ed420ec94f9.jpg\"\n",
            "}\n",
            "------------------------------------------------------------\n"
          ]
        },
        {
          "output_type": "stream",
          "name": "stderr",
          "text": [
            "\r 40%|████      | 2/5 [00:18<00:27,  9.29s/it]"
          ]
        },
        {
          "output_type": "stream",
          "name": "stdout",
          "text": [
            "{\n",
            "  \"store_name\": \"GBTD\",\n",
            "  \"date\": null,\n",
            "  \"items\": [\n",
            "    {\n",
            "      \"name\": \"Roosevelt Fleld\",\n",
            "      \"price\": \"0480\"\n",
            "    },\n",
            "    {\n",
            "      \"name\": \"Coffee\",\n",
            "      \"price\": \"295\"\n",
            "    },\n",
            "    {\n",
            "      \"name\": \"Chicken Parmesan\",\n",
            "      \"price\": \"1795\"\n",
            "    },\n",
            "    {\n",
            "      \"name\": \"Top Sirloin\",\n",
            "      \"price\": \"95\"\n",
            "    },\n",
            "    {\n",
            "      \"name\": \"g\",\n",
            "      \"price\": \"95\"\n",
            "    },\n",
            "    {\n",
            "      \"name\": \"Coffee\",\n",
            "      \"price\": \"95\"\n",
            "    },\n",
            "    {\n",
            "      \"name\": \"Total:\",\n",
            "      \"price\": \"63\"\n",
            "    },\n",
            "    {\n",
            "      \"name\": \"63\",\n",
            "      \"price\": \"75\"\n",
            "    },\n",
            "    {\n",
            "      \"name\": \"Fax?\",\n",
            "      \"price\": \"5250\"\n",
            "    },\n",
            "    {\n",
            "      \"name\": \"Total:\",\n",
            "      \"price\": \"6925\"\n",
            "    },\n",
            "    {\n",
            "      \"name\": \"Total\",\n",
            "      \"price\": \"25\"\n",
            "    },\n",
            "    {\n",
            "      \"name\": \"20*\",\n",
            "      \"price\": \"1385\"\n",
            "    },\n",
            "    {\n",
            "      \"name\": \"18x\",\n",
            "      \"price\": \"1247\"\n",
            "    },\n",
            "    {\n",
            "      \"name\": \"15x\",\n",
            "      \"price\": \"1039\"\n",
            "    },\n",
            "    {\n",
            "      \"name\": \"Us\",\n",
            "      \"price\": \"69\"\n",
            "    }\n",
            "  ],\n",
            "  \"total_amount\": null,\n",
            "  \"image\": \"1001-receipt_jpg.rf.e26675ac1e744860bef24fb946739a0f.jpg\"\n",
            "}\n",
            "------------------------------------------------------------\n"
          ]
        },
        {
          "output_type": "stream",
          "name": "stderr",
          "text": [
            "\r 60%|██████    | 3/5 [00:27<00:18,  9.25s/it]"
          ]
        },
        {
          "output_type": "stream",
          "name": "stdout",
          "text": [
            "{\n",
            "  \"store_name\": \"E] Gran Har d Plata\",\n",
            "  \"date\": null,\n",
            "  \"items\": [\n",
            "    {\n",
            "      \"name\": \"Order\",\n",
            "      \"price\": \"8262\"\n",
            "    },\n",
            "    {\n",
            "      \"name\": \"Miller LIte\",\n",
            "      \"price\": \"500\"\n",
            "    },\n",
            "    {\n",
            "      \"name\": \"SufesoTax:\",\n",
            "      \"price\": \"399\"\n",
            "    },\n",
            "    {\n",
            "      \"name\": \"total:\",\n",
            "      \"price\": \"853\"\n",
            "    },\n",
            "    {\n",
            "      \"name\": \"Cash Tendered:\",\n",
            "      \"price\": \"535\"\n",
            "    }\n",
            "  ],\n",
            "  \"total_amount\": null,\n",
            "  \"image\": \"1003-receipt_jpg.rf.9a9cff0d6cb40a8e91e4e1a633e085ff.jpg\"\n",
            "}\n",
            "------------------------------------------------------------\n"
          ]
        },
        {
          "output_type": "stream",
          "name": "stderr",
          "text": [
            "\r 80%|████████  | 4/5 [00:35<00:09,  9.02s/it]"
          ]
        },
        {
          "output_type": "stream",
          "name": "stdout",
          "text": [
            "{\n",
            "  \"store_name\": \"GOLDEN\",\n",
            "  \"date\": null,\n",
            "  \"items\": [\n",
            "    {\n",
            "      \"name\": \"TERIYAKI\",\n",
            "      \"price\": \"8810\"\n",
            "    },\n",
            "    {\n",
            "      \"name\": \"CA.\",\n",
            "      \"price\": \"90280\"\n",
            "    },\n",
            "    {\n",
            "      \"name\": \"AVOCADO\",\n",
            "      \"price\": \"8195\"\n",
            "    },\n",
            "    {\n",
            "      \"name\": \"DRINK\",\n",
            "      \"price\": \"8229\"\n",
            "    },\n",
            "    {\n",
            "      \"name\": \"Total\",\n",
            "      \"price\": \"415\"\n",
            "    },\n",
            "    {\n",
            "      \"name\": \"415\",\n",
            "      \"price\": \"03\"\n",
            "    }\n",
            "  ],\n",
            "  \"total_amount\": null,\n",
            "  \"image\": \"1004-receipt_jpg.rf.0a235b556d0d56a496eae4366508984b.jpg\"\n",
            "}\n",
            "------------------------------------------------------------\n"
          ]
        },
        {
          "output_type": "stream",
          "name": "stderr",
          "text": [
            "100%|██████████| 5/5 [00:45<00:00,  9.01s/it]"
          ]
        },
        {
          "output_type": "stream",
          "name": "stdout",
          "text": [
            "{\n",
            "  \"store_name\": \"SOLDEN BOwL\",\n",
            "  \"date\": null,\n",
            "  \"items\": [\n",
            "    {\n",
            "      \"name\": \"Ca.\",\n",
            "      \"price\": \"80280\"\n",
            "    },\n",
            "    {\n",
            "      \"name\": \"#01\",\n",
            "      \"price\": \"000141\"\n",
            "    },\n",
            "    {\n",
            "      \"name\": \"oo141\",\n",
            "      \"price\": \"461\"\n",
            "    },\n",
            "    {\n",
            "      \"name\": \"AVOCADO\",\n",
            "      \"price\": \"81\"\n",
            "    },\n",
            "    {\n",
            "      \"name\": \"81\",\n",
            "      \"price\": \"95\"\n",
            "    },\n",
            "    {\n",
            "      \"name\": \"Drink\",\n",
            "      \"price\": \"8229\"\n",
            "    },\n",
            "    {\n",
            "      \"name\": \"1 3\",\n",
            "      \"price\": \"03\"\n",
            "    },\n",
            "    {\n",
            "      \"name\": \"CASH\",\n",
            "      \"price\": \"82000\"\n",
            "    },\n",
            "    {\n",
            "      \"name\": \"cG\",\n",
            "      \"price\": \"8497\"\n",
            "    }\n",
            "  ],\n",
            "  \"total_amount\": null,\n",
            "  \"image\": \"1004-receipt_jpg.rf.94c061b1b10d1db0670c619ee7474281.jpg\"\n",
            "}\n",
            "------------------------------------------------------------\n"
          ]
        },
        {
          "output_type": "stream",
          "name": "stderr",
          "text": [
            "\n"
          ]
        }
      ]
    },
    {
      "cell_type": "markdown",
      "source": [
        "## Pytesseract"
      ],
      "metadata": {
        "id": "B3-RwL5Z_alB"
      }
    },
    {
      "cell_type": "code",
      "source": [
        "def process_pytesseract(folder_path, label):\n",
        "    print(f\"\\n📄 Dataset: {label}\\n\")\n",
        "    for img_name in tqdm(sorted(os.listdir(folder_path))):\n",
        "        img_path = os.path.join(folder_path, img_name)\n",
        "        image = Image.open(img_path)\n",
        "\n",
        "        # Jalankan OCR\n",
        "        text = pytesseract.image_to_string(image, lang='eng')\n",
        "\n",
        "        # Preprocessing teks\n",
        "        text_lines = [line.strip() for line in text.split(\"\\n\") if line.strip()]\n",
        "\n",
        "        # Parsing entitas\n",
        "        parsed = parse_receipt_text(text_lines)\n",
        "        parsed[\"image\"] = img_name\n",
        "\n",
        "        # Tampilkan hasil\n",
        "        print(json.dumps(parsed, indent=2, ensure_ascii=False))\n",
        "        print(\"-\" * 60)"
      ],
      "metadata": {
        "id": "rcY_4o4F_d3L"
      },
      "execution_count": null,
      "outputs": []
    },
    {
      "cell_type": "code",
      "source": [
        "process_pytesseract(\"samples/huggingface\", \"Hugging Face\")"
      ],
      "metadata": {
        "colab": {
          "base_uri": "https://localhost:8080/"
        },
        "id": "JYu_U3R__giB",
        "outputId": "55e2e33d-1c48-48a8-c99c-97e4d7d125e5"
      },
      "execution_count": null,
      "outputs": [
        {
          "output_type": "stream",
          "name": "stdout",
          "text": [
            "\n",
            "📄 Dataset: Hugging Face\n",
            "\n"
          ]
        },
        {
          "output_type": "stream",
          "name": "stderr",
          "text": [
            " 20%|██        | 1/5 [00:00<00:00,  4.71it/s]"
          ]
        },
        {
          "output_type": "stream",
          "name": "stdout",
          "text": [
            "{\n",
            "  \"store_name\": null,\n",
            "  \"date\": null,\n",
            "  \"items\": [],\n",
            "  \"total_amount\": null,\n",
            "  \"image\": \"image_0.jpg\"\n",
            "}\n",
            "------------------------------------------------------------\n"
          ]
        },
        {
          "output_type": "stream",
          "name": "stderr",
          "text": [
            "\r 40%|████      | 2/5 [00:00<00:00,  4.10it/s]"
          ]
        },
        {
          "output_type": "stream",
          "name": "stdout",
          "text": [
            "{\n",
            "  \"store_name\": null,\n",
            "  \"date\": null,\n",
            "  \"items\": [],\n",
            "  \"total_amount\": null,\n",
            "  \"image\": \"image_1.jpg\"\n",
            "}\n",
            "------------------------------------------------------------\n"
          ]
        },
        {
          "output_type": "stream",
          "name": "stderr",
          "text": [
            "\r 60%|██████    | 3/5 [00:01<00:00,  2.68it/s]"
          ]
        },
        {
          "output_type": "stream",
          "name": "stdout",
          "text": [
            "{\n",
            "  \"store_name\": \"1 Cheezemania\",\n",
            "  \"date\": null,\n",
            "  \"items\": [],\n",
            "  \"total_amount\": null,\n",
            "  \"image\": \"image_10.jpg\"\n",
            "}\n",
            "------------------------------------------------------------\n"
          ]
        },
        {
          "output_type": "stream",
          "name": "stderr",
          "text": [
            "\r 80%|████████  | 4/5 [00:03<00:01,  1.21s/it]"
          ]
        },
        {
          "output_type": "stream",
          "name": "stdout",
          "text": [
            "{\n",
            "  \"store_name\": \"er ca case aL Res el ae tna eb el We nid fa Ke Oe a OA ON RG ee oe em Ne mS\",\n",
            "  \"date\": null,\n",
            "  \"items\": [],\n",
            "  \"total_amount\": \"24,000\",\n",
            "  \"image\": \"image_100.jpg\"\n",
            "}\n",
            "------------------------------------------------------------\n"
          ]
        },
        {
          "output_type": "stream",
          "name": "stderr",
          "text": [
            "100%|██████████| 5/5 [00:07<00:00,  1.44s/it]"
          ]
        },
        {
          "output_type": "stream",
          "name": "stdout",
          "text": [
            "{\n",
            "  \"store_name\": \"Invoice no: 31470773\",\n",
            "  \"date\": \"03/05/2012\",\n",
            "  \"items\": [\n",
            "    {\n",
            "      \"name\": \"Qty\",\n",
            "      \"price\": \"100\"\n",
            "    },\n",
            "    {\n",
            "      \"name\": \"1,00\",\n",
            "      \"price\": \"300\"\n",
            "    },\n",
            "    {\n",
            "      \"name\": \"worth\",\n",
            "      \"price\": \"11439\"\n",
            "    },\n",
            "    {\n",
            "      \"name\": \"114,39\",\n",
            "      \"price\": \"44550\"\n",
            "    },\n",
            "    {\n",
            "      \"name\": \"Gross worth\",\n",
            "      \"price\": \"55989\"\n",
            "    }\n",
            "  ],\n",
            "  \"total_amount\": null,\n",
            "  \"image\": \"image_1000.jpg\"\n",
            "}\n",
            "------------------------------------------------------------\n"
          ]
        },
        {
          "output_type": "stream",
          "name": "stderr",
          "text": [
            "\n"
          ]
        }
      ]
    },
    {
      "cell_type": "code",
      "source": [
        "process_pytesseract(\"samples/roboflow\", \"Roboflow\")"
      ],
      "metadata": {
        "colab": {
          "base_uri": "https://localhost:8080/"
        },
        "id": "TBEE1-Pq_k7x",
        "outputId": "38fbe4ac-f758-48f8-d5c4-816798f8dd40"
      },
      "execution_count": null,
      "outputs": [
        {
          "output_type": "stream",
          "name": "stdout",
          "text": [
            "\n",
            "📄 Dataset: Roboflow\n",
            "\n"
          ]
        },
        {
          "output_type": "stream",
          "name": "stderr",
          "text": [
            " 20%|██        | 1/5 [00:01<00:07,  1.94s/it]"
          ]
        },
        {
          "output_type": "stream",
          "name": "stdout",
          "text": [
            "{\n",
            "  \"store_name\": \"5305 E PACIFIC COAST HWY\",\n",
            "  \"date\": \"5/26/2016\",\n",
            "  \"items\": [],\n",
            "  \"total_amount\": null,\n",
            "  \"image\": \"1000-receipt_jpg.rf.6135dc2e5cbeb3378a627ed420ec94f9.jpg\"\n",
            "}\n",
            "------------------------------------------------------------\n"
          ]
        },
        {
          "output_type": "stream",
          "name": "stderr",
          "text": [
            "\r 40%|████      | 2/5 [00:02<00:03,  1.30s/it]"
          ]
        },
        {
          "output_type": "stream",
          "name": "stdout",
          "text": [
            "{\n",
            "  \"store_name\": \"STEPHEN R _ SvrCk:\",\n",
            "  \"date\": null,\n",
            "  \"items\": [],\n",
            "  \"total_amount\": \"42\",\n",
            "  \"image\": \"1001-receipt_jpg.rf.e26675ac1e744860bef24fb946739a0f.jpg\"\n",
            "}\n",
            "------------------------------------------------------------\n"
          ]
        },
        {
          "output_type": "stream",
          "name": "stderr",
          "text": [
            "\r 60%|██████    | 3/5 [00:03<00:01,  1.08it/s]"
          ]
        },
        {
          "output_type": "stream",
          "name": "stdout",
          "text": [
            "{\n",
            "  \"store_name\": \"F Gran hat de Plata\",\n",
            "  \"date\": null,\n",
            "  \"items\": [],\n",
            "  \"total_amount\": null,\n",
            "  \"image\": \"1003-receipt_jpg.rf.9a9cff0d6cb40a8e91e4e1a633e085ff.jpg\"\n",
            "}\n",
            "------------------------------------------------------------\n"
          ]
        },
        {
          "output_type": "stream",
          "name": "stderr",
          "text": [
            "\r 80%|████████  | 4/5 [00:04<00:00,  1.18it/s]"
          ]
        },
        {
          "output_type": "stream",
          "name": "stdout",
          "text": [
            "{\n",
            "  \"store_name\": \"OLDEN BowL :\",\n",
            "  \"date\": null,\n",
            "  \"items\": [\n",
            "    {\n",
            "      \"name\": \"10 GARFIELD ven\",\n",
            "      \"price\": \"86\"\n",
            "    }\n",
            "  ],\n",
            "  \"total_amount\": null,\n",
            "  \"image\": \"1004-receipt_jpg.rf.0a235b556d0d56a496eae4366508984b.jpg\"\n",
            "}\n",
            "------------------------------------------------------------\n"
          ]
        },
        {
          "output_type": "stream",
          "name": "stderr",
          "text": [
            "100%|██████████| 5/5 [00:04<00:00,  1.09it/s]"
          ]
        },
        {
          "output_type": "stream",
          "name": "stdout",
          "text": [
            "{\n",
            "  \"store_name\": \"di ae 90280\",\n",
            "  \"date\": null,\n",
            "  \"items\": [],\n",
            "  \"total_amount\": null,\n",
            "  \"image\": \"1004-receipt_jpg.rf.94c061b1b10d1db0670c619ee7474281.jpg\"\n",
            "}\n",
            "------------------------------------------------------------\n"
          ]
        },
        {
          "output_type": "stream",
          "name": "stderr",
          "text": [
            "\n"
          ]
        }
      ]
    },
    {
      "cell_type": "markdown",
      "source": [
        "# Save Model"
      ],
      "metadata": {
        "id": "kP88b5Tq934o"
      }
    },
    {
      "cell_type": "code",
      "source": [],
      "metadata": {
        "id": "1v48KbYn95Sp"
      },
      "execution_count": null,
      "outputs": []
    }
  ],
  "metadata": {
    "colab": {
      "provenance": [],
      "gpuType": "T4"
    },
    "kernelspec": {
      "display_name": "Python 3",
      "name": "python3"
    },
    "language_info": {
      "name": "python"
    },
    "accelerator": "GPU"
  },
  "nbformat": 4,
  "nbformat_minor": 0
}