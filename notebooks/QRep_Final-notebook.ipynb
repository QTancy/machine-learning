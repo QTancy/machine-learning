{
  "nbformat": 4,
  "nbformat_minor": 0,
  "metadata": {
    "colab": {
      "provenance": [],
      "gpuType": "T4"
    },
    "kernelspec": {
      "name": "python3",
      "display_name": "Python 3"
    },
    "language_info": {
      "name": "python"
    },
    "accelerator": "GPU",
    "widgets": {
      "application/vnd.jupyter.widget-state+json": {
        "9a2f97d9860a4971b955377b77c98aa8": {
          "model_module": "@jupyter-widgets/controls",
          "model_name": "HBoxModel",
          "model_module_version": "1.5.0",
          "state": {
            "_dom_classes": [],
            "_model_module": "@jupyter-widgets/controls",
            "_model_module_version": "1.5.0",
            "_model_name": "HBoxModel",
            "_view_count": null,
            "_view_module": "@jupyter-widgets/controls",
            "_view_module_version": "1.5.0",
            "_view_name": "HBoxView",
            "box_style": "",
            "children": [
              "IPY_MODEL_1eac4efa6c394a3f9727501a954b6fe9",
              "IPY_MODEL_990478abc3d94ed9ac45577a22ed765d",
              "IPY_MODEL_83100223d6ca42caa0b4966c598f7a8b"
            ],
            "layout": "IPY_MODEL_d618139a3b04439d8803606ad3d31b1e"
          }
        },
        "1eac4efa6c394a3f9727501a954b6fe9": {
          "model_module": "@jupyter-widgets/controls",
          "model_name": "HTMLModel",
          "model_module_version": "1.5.0",
          "state": {
            "_dom_classes": [],
            "_model_module": "@jupyter-widgets/controls",
            "_model_module_version": "1.5.0",
            "_model_name": "HTMLModel",
            "_view_count": null,
            "_view_module": "@jupyter-widgets/controls",
            "_view_module_version": "1.5.0",
            "_view_name": "HTMLView",
            "description": "",
            "description_tooltip": null,
            "layout": "IPY_MODEL_eccb399176fc44ea9213a5098b00ff84",
            "placeholder": "​",
            "style": "IPY_MODEL_b8c487669a1943b7be33f2e1ff543116",
            "value": "tokenizer_config.json: 100%"
          }
        },
        "990478abc3d94ed9ac45577a22ed765d": {
          "model_module": "@jupyter-widgets/controls",
          "model_name": "FloatProgressModel",
          "model_module_version": "1.5.0",
          "state": {
            "_dom_classes": [],
            "_model_module": "@jupyter-widgets/controls",
            "_model_module_version": "1.5.0",
            "_model_name": "FloatProgressModel",
            "_view_count": null,
            "_view_module": "@jupyter-widgets/controls",
            "_view_module_version": "1.5.0",
            "_view_name": "ProgressView",
            "bar_style": "success",
            "description": "",
            "description_tooltip": null,
            "layout": "IPY_MODEL_8f4de66f8f3e4b9199733016f4059269",
            "max": 42,
            "min": 0,
            "orientation": "horizontal",
            "style": "IPY_MODEL_4b31fd3402b3454f997fb0b0191c431a",
            "value": 42
          }
        },
        "83100223d6ca42caa0b4966c598f7a8b": {
          "model_module": "@jupyter-widgets/controls",
          "model_name": "HTMLModel",
          "model_module_version": "1.5.0",
          "state": {
            "_dom_classes": [],
            "_model_module": "@jupyter-widgets/controls",
            "_model_module_version": "1.5.0",
            "_model_name": "HTMLModel",
            "_view_count": null,
            "_view_module": "@jupyter-widgets/controls",
            "_view_module_version": "1.5.0",
            "_view_name": "HTMLView",
            "description": "",
            "description_tooltip": null,
            "layout": "IPY_MODEL_6865a9d405304032ae483c24d21d571d",
            "placeholder": "​",
            "style": "IPY_MODEL_ffa4e27f9e704588ae9f3cfe703b84ef",
            "value": " 42.0/42.0 [00:00&lt;00:00, 2.93kB/s]"
          }
        },
        "d618139a3b04439d8803606ad3d31b1e": {
          "model_module": "@jupyter-widgets/base",
          "model_name": "LayoutModel",
          "model_module_version": "1.2.0",
          "state": {
            "_model_module": "@jupyter-widgets/base",
            "_model_module_version": "1.2.0",
            "_model_name": "LayoutModel",
            "_view_count": null,
            "_view_module": "@jupyter-widgets/base",
            "_view_module_version": "1.2.0",
            "_view_name": "LayoutView",
            "align_content": null,
            "align_items": null,
            "align_self": null,
            "border": null,
            "bottom": null,
            "display": null,
            "flex": null,
            "flex_flow": null,
            "grid_area": null,
            "grid_auto_columns": null,
            "grid_auto_flow": null,
            "grid_auto_rows": null,
            "grid_column": null,
            "grid_gap": null,
            "grid_row": null,
            "grid_template_areas": null,
            "grid_template_columns": null,
            "grid_template_rows": null,
            "height": null,
            "justify_content": null,
            "justify_items": null,
            "left": null,
            "margin": null,
            "max_height": null,
            "max_width": null,
            "min_height": null,
            "min_width": null,
            "object_fit": null,
            "object_position": null,
            "order": null,
            "overflow": null,
            "overflow_x": null,
            "overflow_y": null,
            "padding": null,
            "right": null,
            "top": null,
            "visibility": null,
            "width": null
          }
        },
        "eccb399176fc44ea9213a5098b00ff84": {
          "model_module": "@jupyter-widgets/base",
          "model_name": "LayoutModel",
          "model_module_version": "1.2.0",
          "state": {
            "_model_module": "@jupyter-widgets/base",
            "_model_module_version": "1.2.0",
            "_model_name": "LayoutModel",
            "_view_count": null,
            "_view_module": "@jupyter-widgets/base",
            "_view_module_version": "1.2.0",
            "_view_name": "LayoutView",
            "align_content": null,
            "align_items": null,
            "align_self": null,
            "border": null,
            "bottom": null,
            "display": null,
            "flex": null,
            "flex_flow": null,
            "grid_area": null,
            "grid_auto_columns": null,
            "grid_auto_flow": null,
            "grid_auto_rows": null,
            "grid_column": null,
            "grid_gap": null,
            "grid_row": null,
            "grid_template_areas": null,
            "grid_template_columns": null,
            "grid_template_rows": null,
            "height": null,
            "justify_content": null,
            "justify_items": null,
            "left": null,
            "margin": null,
            "max_height": null,
            "max_width": null,
            "min_height": null,
            "min_width": null,
            "object_fit": null,
            "object_position": null,
            "order": null,
            "overflow": null,
            "overflow_x": null,
            "overflow_y": null,
            "padding": null,
            "right": null,
            "top": null,
            "visibility": null,
            "width": null
          }
        },
        "b8c487669a1943b7be33f2e1ff543116": {
          "model_module": "@jupyter-widgets/controls",
          "model_name": "DescriptionStyleModel",
          "model_module_version": "1.5.0",
          "state": {
            "_model_module": "@jupyter-widgets/controls",
            "_model_module_version": "1.5.0",
            "_model_name": "DescriptionStyleModel",
            "_view_count": null,
            "_view_module": "@jupyter-widgets/base",
            "_view_module_version": "1.2.0",
            "_view_name": "StyleView",
            "description_width": ""
          }
        },
        "8f4de66f8f3e4b9199733016f4059269": {
          "model_module": "@jupyter-widgets/base",
          "model_name": "LayoutModel",
          "model_module_version": "1.2.0",
          "state": {
            "_model_module": "@jupyter-widgets/base",
            "_model_module_version": "1.2.0",
            "_model_name": "LayoutModel",
            "_view_count": null,
            "_view_module": "@jupyter-widgets/base",
            "_view_module_version": "1.2.0",
            "_view_name": "LayoutView",
            "align_content": null,
            "align_items": null,
            "align_self": null,
            "border": null,
            "bottom": null,
            "display": null,
            "flex": null,
            "flex_flow": null,
            "grid_area": null,
            "grid_auto_columns": null,
            "grid_auto_flow": null,
            "grid_auto_rows": null,
            "grid_column": null,
            "grid_gap": null,
            "grid_row": null,
            "grid_template_areas": null,
            "grid_template_columns": null,
            "grid_template_rows": null,
            "height": null,
            "justify_content": null,
            "justify_items": null,
            "left": null,
            "margin": null,
            "max_height": null,
            "max_width": null,
            "min_height": null,
            "min_width": null,
            "object_fit": null,
            "object_position": null,
            "order": null,
            "overflow": null,
            "overflow_x": null,
            "overflow_y": null,
            "padding": null,
            "right": null,
            "top": null,
            "visibility": null,
            "width": null
          }
        },
        "4b31fd3402b3454f997fb0b0191c431a": {
          "model_module": "@jupyter-widgets/controls",
          "model_name": "ProgressStyleModel",
          "model_module_version": "1.5.0",
          "state": {
            "_model_module": "@jupyter-widgets/controls",
            "_model_module_version": "1.5.0",
            "_model_name": "ProgressStyleModel",
            "_view_count": null,
            "_view_module": "@jupyter-widgets/base",
            "_view_module_version": "1.2.0",
            "_view_name": "StyleView",
            "bar_color": null,
            "description_width": ""
          }
        },
        "6865a9d405304032ae483c24d21d571d": {
          "model_module": "@jupyter-widgets/base",
          "model_name": "LayoutModel",
          "model_module_version": "1.2.0",
          "state": {
            "_model_module": "@jupyter-widgets/base",
            "_model_module_version": "1.2.0",
            "_model_name": "LayoutModel",
            "_view_count": null,
            "_view_module": "@jupyter-widgets/base",
            "_view_module_version": "1.2.0",
            "_view_name": "LayoutView",
            "align_content": null,
            "align_items": null,
            "align_self": null,
            "border": null,
            "bottom": null,
            "display": null,
            "flex": null,
            "flex_flow": null,
            "grid_area": null,
            "grid_auto_columns": null,
            "grid_auto_flow": null,
            "grid_auto_rows": null,
            "grid_column": null,
            "grid_gap": null,
            "grid_row": null,
            "grid_template_areas": null,
            "grid_template_columns": null,
            "grid_template_rows": null,
            "height": null,
            "justify_content": null,
            "justify_items": null,
            "left": null,
            "margin": null,
            "max_height": null,
            "max_width": null,
            "min_height": null,
            "min_width": null,
            "object_fit": null,
            "object_position": null,
            "order": null,
            "overflow": null,
            "overflow_x": null,
            "overflow_y": null,
            "padding": null,
            "right": null,
            "top": null,
            "visibility": null,
            "width": null
          }
        },
        "ffa4e27f9e704588ae9f3cfe703b84ef": {
          "model_module": "@jupyter-widgets/controls",
          "model_name": "DescriptionStyleModel",
          "model_module_version": "1.5.0",
          "state": {
            "_model_module": "@jupyter-widgets/controls",
            "_model_module_version": "1.5.0",
            "_model_name": "DescriptionStyleModel",
            "_view_count": null,
            "_view_module": "@jupyter-widgets/base",
            "_view_module_version": "1.2.0",
            "_view_name": "StyleView",
            "description_width": ""
          }
        },
        "cf60cd162a344d89912d00ca94534b68": {
          "model_module": "@jupyter-widgets/controls",
          "model_name": "HBoxModel",
          "model_module_version": "1.5.0",
          "state": {
            "_dom_classes": [],
            "_model_module": "@jupyter-widgets/controls",
            "_model_module_version": "1.5.0",
            "_model_name": "HBoxModel",
            "_view_count": null,
            "_view_module": "@jupyter-widgets/controls",
            "_view_module_version": "1.5.0",
            "_view_name": "HBoxView",
            "box_style": "",
            "children": [
              "IPY_MODEL_bc148c65a19f448d88641d3691744dca",
              "IPY_MODEL_f9415c3a97ff410caa960f272b0882d5",
              "IPY_MODEL_db3a774b4b9b49ecace57fa5a1e80aa2"
            ],
            "layout": "IPY_MODEL_ba7849098f4d47b5aa2dbdfabc4285dc"
          }
        },
        "bc148c65a19f448d88641d3691744dca": {
          "model_module": "@jupyter-widgets/controls",
          "model_name": "HTMLModel",
          "model_module_version": "1.5.0",
          "state": {
            "_dom_classes": [],
            "_model_module": "@jupyter-widgets/controls",
            "_model_module_version": "1.5.0",
            "_model_name": "HTMLModel",
            "_view_count": null,
            "_view_module": "@jupyter-widgets/controls",
            "_view_module_version": "1.5.0",
            "_view_name": "HTMLView",
            "description": "",
            "description_tooltip": null,
            "layout": "IPY_MODEL_bbe0425bb89848afa7f6d6cb0be804ea",
            "placeholder": "​",
            "style": "IPY_MODEL_f3ff53fe62cf4d2b86125c287ef567f2",
            "value": "config.json: 100%"
          }
        },
        "f9415c3a97ff410caa960f272b0882d5": {
          "model_module": "@jupyter-widgets/controls",
          "model_name": "FloatProgressModel",
          "model_module_version": "1.5.0",
          "state": {
            "_dom_classes": [],
            "_model_module": "@jupyter-widgets/controls",
            "_model_module_version": "1.5.0",
            "_model_name": "FloatProgressModel",
            "_view_count": null,
            "_view_module": "@jupyter-widgets/controls",
            "_view_module_version": "1.5.0",
            "_view_name": "ProgressView",
            "bar_style": "success",
            "description": "",
            "description_tooltip": null,
            "layout": "IPY_MODEL_3250557a4f774c9eb052638f9acb4b22",
            "max": 1014,
            "min": 0,
            "orientation": "horizontal",
            "style": "IPY_MODEL_e2d8ef5866724e07b96a9576da53c89a",
            "value": 1014
          }
        },
        "db3a774b4b9b49ecace57fa5a1e80aa2": {
          "model_module": "@jupyter-widgets/controls",
          "model_name": "HTMLModel",
          "model_module_version": "1.5.0",
          "state": {
            "_dom_classes": [],
            "_model_module": "@jupyter-widgets/controls",
            "_model_module_version": "1.5.0",
            "_model_name": "HTMLModel",
            "_view_count": null,
            "_view_module": "@jupyter-widgets/controls",
            "_view_module_version": "1.5.0",
            "_view_name": "HTMLView",
            "description": "",
            "description_tooltip": null,
            "layout": "IPY_MODEL_9367d06062764cbaa78eb0eb8cfb33db",
            "placeholder": "​",
            "style": "IPY_MODEL_26d64349fb164524b72ecb13f2e44fc1",
            "value": " 1.01k/1.01k [00:00&lt;00:00, 105kB/s]"
          }
        },
        "ba7849098f4d47b5aa2dbdfabc4285dc": {
          "model_module": "@jupyter-widgets/base",
          "model_name": "LayoutModel",
          "model_module_version": "1.2.0",
          "state": {
            "_model_module": "@jupyter-widgets/base",
            "_model_module_version": "1.2.0",
            "_model_name": "LayoutModel",
            "_view_count": null,
            "_view_module": "@jupyter-widgets/base",
            "_view_module_version": "1.2.0",
            "_view_name": "LayoutView",
            "align_content": null,
            "align_items": null,
            "align_self": null,
            "border": null,
            "bottom": null,
            "display": null,
            "flex": null,
            "flex_flow": null,
            "grid_area": null,
            "grid_auto_columns": null,
            "grid_auto_flow": null,
            "grid_auto_rows": null,
            "grid_column": null,
            "grid_gap": null,
            "grid_row": null,
            "grid_template_areas": null,
            "grid_template_columns": null,
            "grid_template_rows": null,
            "height": null,
            "justify_content": null,
            "justify_items": null,
            "left": null,
            "margin": null,
            "max_height": null,
            "max_width": null,
            "min_height": null,
            "min_width": null,
            "object_fit": null,
            "object_position": null,
            "order": null,
            "overflow": null,
            "overflow_x": null,
            "overflow_y": null,
            "padding": null,
            "right": null,
            "top": null,
            "visibility": null,
            "width": null
          }
        },
        "bbe0425bb89848afa7f6d6cb0be804ea": {
          "model_module": "@jupyter-widgets/base",
          "model_name": "LayoutModel",
          "model_module_version": "1.2.0",
          "state": {
            "_model_module": "@jupyter-widgets/base",
            "_model_module_version": "1.2.0",
            "_model_name": "LayoutModel",
            "_view_count": null,
            "_view_module": "@jupyter-widgets/base",
            "_view_module_version": "1.2.0",
            "_view_name": "LayoutView",
            "align_content": null,
            "align_items": null,
            "align_self": null,
            "border": null,
            "bottom": null,
            "display": null,
            "flex": null,
            "flex_flow": null,
            "grid_area": null,
            "grid_auto_columns": null,
            "grid_auto_flow": null,
            "grid_auto_rows": null,
            "grid_column": null,
            "grid_gap": null,
            "grid_row": null,
            "grid_template_areas": null,
            "grid_template_columns": null,
            "grid_template_rows": null,
            "height": null,
            "justify_content": null,
            "justify_items": null,
            "left": null,
            "margin": null,
            "max_height": null,
            "max_width": null,
            "min_height": null,
            "min_width": null,
            "object_fit": null,
            "object_position": null,
            "order": null,
            "overflow": null,
            "overflow_x": null,
            "overflow_y": null,
            "padding": null,
            "right": null,
            "top": null,
            "visibility": null,
            "width": null
          }
        },
        "f3ff53fe62cf4d2b86125c287ef567f2": {
          "model_module": "@jupyter-widgets/controls",
          "model_name": "DescriptionStyleModel",
          "model_module_version": "1.5.0",
          "state": {
            "_model_module": "@jupyter-widgets/controls",
            "_model_module_version": "1.5.0",
            "_model_name": "DescriptionStyleModel",
            "_view_count": null,
            "_view_module": "@jupyter-widgets/base",
            "_view_module_version": "1.2.0",
            "_view_name": "StyleView",
            "description_width": ""
          }
        },
        "3250557a4f774c9eb052638f9acb4b22": {
          "model_module": "@jupyter-widgets/base",
          "model_name": "LayoutModel",
          "model_module_version": "1.2.0",
          "state": {
            "_model_module": "@jupyter-widgets/base",
            "_model_module_version": "1.2.0",
            "_model_name": "LayoutModel",
            "_view_count": null,
            "_view_module": "@jupyter-widgets/base",
            "_view_module_version": "1.2.0",
            "_view_name": "LayoutView",
            "align_content": null,
            "align_items": null,
            "align_self": null,
            "border": null,
            "bottom": null,
            "display": null,
            "flex": null,
            "flex_flow": null,
            "grid_area": null,
            "grid_auto_columns": null,
            "grid_auto_flow": null,
            "grid_auto_rows": null,
            "grid_column": null,
            "grid_gap": null,
            "grid_row": null,
            "grid_template_areas": null,
            "grid_template_columns": null,
            "grid_template_rows": null,
            "height": null,
            "justify_content": null,
            "justify_items": null,
            "left": null,
            "margin": null,
            "max_height": null,
            "max_width": null,
            "min_height": null,
            "min_width": null,
            "object_fit": null,
            "object_position": null,
            "order": null,
            "overflow": null,
            "overflow_x": null,
            "overflow_y": null,
            "padding": null,
            "right": null,
            "top": null,
            "visibility": null,
            "width": null
          }
        },
        "e2d8ef5866724e07b96a9576da53c89a": {
          "model_module": "@jupyter-widgets/controls",
          "model_name": "ProgressStyleModel",
          "model_module_version": "1.5.0",
          "state": {
            "_model_module": "@jupyter-widgets/controls",
            "_model_module_version": "1.5.0",
            "_model_name": "ProgressStyleModel",
            "_view_count": null,
            "_view_module": "@jupyter-widgets/base",
            "_view_module_version": "1.2.0",
            "_view_name": "StyleView",
            "bar_color": null,
            "description_width": ""
          }
        },
        "9367d06062764cbaa78eb0eb8cfb33db": {
          "model_module": "@jupyter-widgets/base",
          "model_name": "LayoutModel",
          "model_module_version": "1.2.0",
          "state": {
            "_model_module": "@jupyter-widgets/base",
            "_model_module_version": "1.2.0",
            "_model_name": "LayoutModel",
            "_view_count": null,
            "_view_module": "@jupyter-widgets/base",
            "_view_module_version": "1.2.0",
            "_view_name": "LayoutView",
            "align_content": null,
            "align_items": null,
            "align_self": null,
            "border": null,
            "bottom": null,
            "display": null,
            "flex": null,
            "flex_flow": null,
            "grid_area": null,
            "grid_auto_columns": null,
            "grid_auto_flow": null,
            "grid_auto_rows": null,
            "grid_column": null,
            "grid_gap": null,
            "grid_row": null,
            "grid_template_areas": null,
            "grid_template_columns": null,
            "grid_template_rows": null,
            "height": null,
            "justify_content": null,
            "justify_items": null,
            "left": null,
            "margin": null,
            "max_height": null,
            "max_width": null,
            "min_height": null,
            "min_width": null,
            "object_fit": null,
            "object_position": null,
            "order": null,
            "overflow": null,
            "overflow_x": null,
            "overflow_y": null,
            "padding": null,
            "right": null,
            "top": null,
            "visibility": null,
            "width": null
          }
        },
        "26d64349fb164524b72ecb13f2e44fc1": {
          "model_module": "@jupyter-widgets/controls",
          "model_name": "DescriptionStyleModel",
          "model_module_version": "1.5.0",
          "state": {
            "_model_module": "@jupyter-widgets/controls",
            "_model_module_version": "1.5.0",
            "_model_name": "DescriptionStyleModel",
            "_view_count": null,
            "_view_module": "@jupyter-widgets/base",
            "_view_module_version": "1.2.0",
            "_view_name": "StyleView",
            "description_width": ""
          }
        },
        "73ca9c769f4448fd91884ab33f5919fb": {
          "model_module": "@jupyter-widgets/controls",
          "model_name": "HBoxModel",
          "model_module_version": "1.5.0",
          "state": {
            "_dom_classes": [],
            "_model_module": "@jupyter-widgets/controls",
            "_model_module_version": "1.5.0",
            "_model_name": "HBoxModel",
            "_view_count": null,
            "_view_module": "@jupyter-widgets/controls",
            "_view_module_version": "1.5.0",
            "_view_name": "HBoxView",
            "box_style": "",
            "children": [
              "IPY_MODEL_9d24c9d4f89f44eea5e3d0dcf99be108",
              "IPY_MODEL_9bffb8466d6e48d19f56fbec6eb2fdd3",
              "IPY_MODEL_80e113614f924f67a4687bd9188ccf81"
            ],
            "layout": "IPY_MODEL_34e7d8b557e24d13a363448ffe7f4071"
          }
        },
        "9d24c9d4f89f44eea5e3d0dcf99be108": {
          "model_module": "@jupyter-widgets/controls",
          "model_name": "HTMLModel",
          "model_module_version": "1.5.0",
          "state": {
            "_dom_classes": [],
            "_model_module": "@jupyter-widgets/controls",
            "_model_module_version": "1.5.0",
            "_model_name": "HTMLModel",
            "_view_count": null,
            "_view_module": "@jupyter-widgets/controls",
            "_view_module_version": "1.5.0",
            "_view_name": "HTMLView",
            "description": "",
            "description_tooltip": null,
            "layout": "IPY_MODEL_0ef0eee7c207492d97a4f6b13fff0891",
            "placeholder": "​",
            "style": "IPY_MODEL_b9f27b9c408d4f7bad3ee21296318314",
            "value": "vocab.txt: 100%"
          }
        },
        "9bffb8466d6e48d19f56fbec6eb2fdd3": {
          "model_module": "@jupyter-widgets/controls",
          "model_name": "FloatProgressModel",
          "model_module_version": "1.5.0",
          "state": {
            "_dom_classes": [],
            "_model_module": "@jupyter-widgets/controls",
            "_model_module_version": "1.5.0",
            "_model_name": "FloatProgressModel",
            "_view_count": null,
            "_view_module": "@jupyter-widgets/controls",
            "_view_module_version": "1.5.0",
            "_view_name": "ProgressView",
            "bar_style": "success",
            "description": "",
            "description_tooltip": null,
            "layout": "IPY_MODEL_e36153e9dd8446389230dbc97d7896b6",
            "max": 234118,
            "min": 0,
            "orientation": "horizontal",
            "style": "IPY_MODEL_23449f49d9fe4c9985ca8bcfe4ca256f",
            "value": 234118
          }
        },
        "80e113614f924f67a4687bd9188ccf81": {
          "model_module": "@jupyter-widgets/controls",
          "model_name": "HTMLModel",
          "model_module_version": "1.5.0",
          "state": {
            "_dom_classes": [],
            "_model_module": "@jupyter-widgets/controls",
            "_model_module_version": "1.5.0",
            "_model_name": "HTMLModel",
            "_view_count": null,
            "_view_module": "@jupyter-widgets/controls",
            "_view_module_version": "1.5.0",
            "_view_name": "HTMLView",
            "description": "",
            "description_tooltip": null,
            "layout": "IPY_MODEL_ed363c9414fd4f28ab4ba888acba9ff6",
            "placeholder": "​",
            "style": "IPY_MODEL_4896ae0198694c52b724c4b1884d6bb1",
            "value": " 234k/234k [00:00&lt;00:00, 1.42MB/s]"
          }
        },
        "34e7d8b557e24d13a363448ffe7f4071": {
          "model_module": "@jupyter-widgets/base",
          "model_name": "LayoutModel",
          "model_module_version": "1.2.0",
          "state": {
            "_model_module": "@jupyter-widgets/base",
            "_model_module_version": "1.2.0",
            "_model_name": "LayoutModel",
            "_view_count": null,
            "_view_module": "@jupyter-widgets/base",
            "_view_module_version": "1.2.0",
            "_view_name": "LayoutView",
            "align_content": null,
            "align_items": null,
            "align_self": null,
            "border": null,
            "bottom": null,
            "display": null,
            "flex": null,
            "flex_flow": null,
            "grid_area": null,
            "grid_auto_columns": null,
            "grid_auto_flow": null,
            "grid_auto_rows": null,
            "grid_column": null,
            "grid_gap": null,
            "grid_row": null,
            "grid_template_areas": null,
            "grid_template_columns": null,
            "grid_template_rows": null,
            "height": null,
            "justify_content": null,
            "justify_items": null,
            "left": null,
            "margin": null,
            "max_height": null,
            "max_width": null,
            "min_height": null,
            "min_width": null,
            "object_fit": null,
            "object_position": null,
            "order": null,
            "overflow": null,
            "overflow_x": null,
            "overflow_y": null,
            "padding": null,
            "right": null,
            "top": null,
            "visibility": null,
            "width": null
          }
        },
        "0ef0eee7c207492d97a4f6b13fff0891": {
          "model_module": "@jupyter-widgets/base",
          "model_name": "LayoutModel",
          "model_module_version": "1.2.0",
          "state": {
            "_model_module": "@jupyter-widgets/base",
            "_model_module_version": "1.2.0",
            "_model_name": "LayoutModel",
            "_view_count": null,
            "_view_module": "@jupyter-widgets/base",
            "_view_module_version": "1.2.0",
            "_view_name": "LayoutView",
            "align_content": null,
            "align_items": null,
            "align_self": null,
            "border": null,
            "bottom": null,
            "display": null,
            "flex": null,
            "flex_flow": null,
            "grid_area": null,
            "grid_auto_columns": null,
            "grid_auto_flow": null,
            "grid_auto_rows": null,
            "grid_column": null,
            "grid_gap": null,
            "grid_row": null,
            "grid_template_areas": null,
            "grid_template_columns": null,
            "grid_template_rows": null,
            "height": null,
            "justify_content": null,
            "justify_items": null,
            "left": null,
            "margin": null,
            "max_height": null,
            "max_width": null,
            "min_height": null,
            "min_width": null,
            "object_fit": null,
            "object_position": null,
            "order": null,
            "overflow": null,
            "overflow_x": null,
            "overflow_y": null,
            "padding": null,
            "right": null,
            "top": null,
            "visibility": null,
            "width": null
          }
        },
        "b9f27b9c408d4f7bad3ee21296318314": {
          "model_module": "@jupyter-widgets/controls",
          "model_name": "DescriptionStyleModel",
          "model_module_version": "1.5.0",
          "state": {
            "_model_module": "@jupyter-widgets/controls",
            "_model_module_version": "1.5.0",
            "_model_name": "DescriptionStyleModel",
            "_view_count": null,
            "_view_module": "@jupyter-widgets/base",
            "_view_module_version": "1.2.0",
            "_view_name": "StyleView",
            "description_width": ""
          }
        },
        "e36153e9dd8446389230dbc97d7896b6": {
          "model_module": "@jupyter-widgets/base",
          "model_name": "LayoutModel",
          "model_module_version": "1.2.0",
          "state": {
            "_model_module": "@jupyter-widgets/base",
            "_model_module_version": "1.2.0",
            "_model_name": "LayoutModel",
            "_view_count": null,
            "_view_module": "@jupyter-widgets/base",
            "_view_module_version": "1.2.0",
            "_view_name": "LayoutView",
            "align_content": null,
            "align_items": null,
            "align_self": null,
            "border": null,
            "bottom": null,
            "display": null,
            "flex": null,
            "flex_flow": null,
            "grid_area": null,
            "grid_auto_columns": null,
            "grid_auto_flow": null,
            "grid_auto_rows": null,
            "grid_column": null,
            "grid_gap": null,
            "grid_row": null,
            "grid_template_areas": null,
            "grid_template_columns": null,
            "grid_template_rows": null,
            "height": null,
            "justify_content": null,
            "justify_items": null,
            "left": null,
            "margin": null,
            "max_height": null,
            "max_width": null,
            "min_height": null,
            "min_width": null,
            "object_fit": null,
            "object_position": null,
            "order": null,
            "overflow": null,
            "overflow_x": null,
            "overflow_y": null,
            "padding": null,
            "right": null,
            "top": null,
            "visibility": null,
            "width": null
          }
        },
        "23449f49d9fe4c9985ca8bcfe4ca256f": {
          "model_module": "@jupyter-widgets/controls",
          "model_name": "ProgressStyleModel",
          "model_module_version": "1.5.0",
          "state": {
            "_model_module": "@jupyter-widgets/controls",
            "_model_module_version": "1.5.0",
            "_model_name": "ProgressStyleModel",
            "_view_count": null,
            "_view_module": "@jupyter-widgets/base",
            "_view_module_version": "1.2.0",
            "_view_name": "StyleView",
            "bar_color": null,
            "description_width": ""
          }
        },
        "ed363c9414fd4f28ab4ba888acba9ff6": {
          "model_module": "@jupyter-widgets/base",
          "model_name": "LayoutModel",
          "model_module_version": "1.2.0",
          "state": {
            "_model_module": "@jupyter-widgets/base",
            "_model_module_version": "1.2.0",
            "_model_name": "LayoutModel",
            "_view_count": null,
            "_view_module": "@jupyter-widgets/base",
            "_view_module_version": "1.2.0",
            "_view_name": "LayoutView",
            "align_content": null,
            "align_items": null,
            "align_self": null,
            "border": null,
            "bottom": null,
            "display": null,
            "flex": null,
            "flex_flow": null,
            "grid_area": null,
            "grid_auto_columns": null,
            "grid_auto_flow": null,
            "grid_auto_rows": null,
            "grid_column": null,
            "grid_gap": null,
            "grid_row": null,
            "grid_template_areas": null,
            "grid_template_columns": null,
            "grid_template_rows": null,
            "height": null,
            "justify_content": null,
            "justify_items": null,
            "left": null,
            "margin": null,
            "max_height": null,
            "max_width": null,
            "min_height": null,
            "min_width": null,
            "object_fit": null,
            "object_position": null,
            "order": null,
            "overflow": null,
            "overflow_x": null,
            "overflow_y": null,
            "padding": null,
            "right": null,
            "top": null,
            "visibility": null,
            "width": null
          }
        },
        "4896ae0198694c52b724c4b1884d6bb1": {
          "model_module": "@jupyter-widgets/controls",
          "model_name": "DescriptionStyleModel",
          "model_module_version": "1.5.0",
          "state": {
            "_model_module": "@jupyter-widgets/controls",
            "_model_module_version": "1.5.0",
            "_model_name": "DescriptionStyleModel",
            "_view_count": null,
            "_view_module": "@jupyter-widgets/base",
            "_view_module_version": "1.2.0",
            "_view_name": "StyleView",
            "description_width": ""
          }
        },
        "0a4c0d328f2b4e9db0fc1999a032378a": {
          "model_module": "@jupyter-widgets/controls",
          "model_name": "HBoxModel",
          "model_module_version": "1.5.0",
          "state": {
            "_dom_classes": [],
            "_model_module": "@jupyter-widgets/controls",
            "_model_module_version": "1.5.0",
            "_model_name": "HBoxModel",
            "_view_count": null,
            "_view_module": "@jupyter-widgets/controls",
            "_view_module_version": "1.5.0",
            "_view_name": "HBoxView",
            "box_style": "",
            "children": [
              "IPY_MODEL_b2f7a2f32f684c9c92d31cbd202771f6",
              "IPY_MODEL_fdc38a1b03a345a3a2969ad2e76a4aa2",
              "IPY_MODEL_1e335a4d4c9e4f1a82bbb007ede1dee2"
            ],
            "layout": "IPY_MODEL_469f0135fb554bdb9fbcad4b6c4d2f56"
          }
        },
        "b2f7a2f32f684c9c92d31cbd202771f6": {
          "model_module": "@jupyter-widgets/controls",
          "model_name": "HTMLModel",
          "model_module_version": "1.5.0",
          "state": {
            "_dom_classes": [],
            "_model_module": "@jupyter-widgets/controls",
            "_model_module_version": "1.5.0",
            "_model_name": "HTMLModel",
            "_view_count": null,
            "_view_module": "@jupyter-widgets/controls",
            "_view_module_version": "1.5.0",
            "_view_name": "HTMLView",
            "description": "",
            "description_tooltip": null,
            "layout": "IPY_MODEL_bd249f87d2894cf7b414b5b50c220203",
            "placeholder": "​",
            "style": "IPY_MODEL_e3d7726dcf914f76affc693b2fa71021",
            "value": "added_tokens.json: 100%"
          }
        },
        "fdc38a1b03a345a3a2969ad2e76a4aa2": {
          "model_module": "@jupyter-widgets/controls",
          "model_name": "FloatProgressModel",
          "model_module_version": "1.5.0",
          "state": {
            "_dom_classes": [],
            "_model_module": "@jupyter-widgets/controls",
            "_model_module_version": "1.5.0",
            "_model_name": "FloatProgressModel",
            "_view_count": null,
            "_view_module": "@jupyter-widgets/controls",
            "_view_module_version": "1.5.0",
            "_view_name": "ProgressView",
            "bar_style": "success",
            "description": "",
            "description_tooltip": null,
            "layout": "IPY_MODEL_5f264692fce14b78841c44e8d9f196d4",
            "max": 2,
            "min": 0,
            "orientation": "horizontal",
            "style": "IPY_MODEL_377bc1a82d4d498c88d54a75028c627c",
            "value": 2
          }
        },
        "1e335a4d4c9e4f1a82bbb007ede1dee2": {
          "model_module": "@jupyter-widgets/controls",
          "model_name": "HTMLModel",
          "model_module_version": "1.5.0",
          "state": {
            "_dom_classes": [],
            "_model_module": "@jupyter-widgets/controls",
            "_model_module_version": "1.5.0",
            "_model_name": "HTMLModel",
            "_view_count": null,
            "_view_module": "@jupyter-widgets/controls",
            "_view_module_version": "1.5.0",
            "_view_name": "HTMLView",
            "description": "",
            "description_tooltip": null,
            "layout": "IPY_MODEL_cb842bd6138e4eabbdd460b96ee4c24f",
            "placeholder": "​",
            "style": "IPY_MODEL_01221757f12c4c879ec5963d22f4fdf0",
            "value": " 2.00/2.00 [00:00&lt;00:00, 136B/s]"
          }
        },
        "469f0135fb554bdb9fbcad4b6c4d2f56": {
          "model_module": "@jupyter-widgets/base",
          "model_name": "LayoutModel",
          "model_module_version": "1.2.0",
          "state": {
            "_model_module": "@jupyter-widgets/base",
            "_model_module_version": "1.2.0",
            "_model_name": "LayoutModel",
            "_view_count": null,
            "_view_module": "@jupyter-widgets/base",
            "_view_module_version": "1.2.0",
            "_view_name": "LayoutView",
            "align_content": null,
            "align_items": null,
            "align_self": null,
            "border": null,
            "bottom": null,
            "display": null,
            "flex": null,
            "flex_flow": null,
            "grid_area": null,
            "grid_auto_columns": null,
            "grid_auto_flow": null,
            "grid_auto_rows": null,
            "grid_column": null,
            "grid_gap": null,
            "grid_row": null,
            "grid_template_areas": null,
            "grid_template_columns": null,
            "grid_template_rows": null,
            "height": null,
            "justify_content": null,
            "justify_items": null,
            "left": null,
            "margin": null,
            "max_height": null,
            "max_width": null,
            "min_height": null,
            "min_width": null,
            "object_fit": null,
            "object_position": null,
            "order": null,
            "overflow": null,
            "overflow_x": null,
            "overflow_y": null,
            "padding": null,
            "right": null,
            "top": null,
            "visibility": null,
            "width": null
          }
        },
        "bd249f87d2894cf7b414b5b50c220203": {
          "model_module": "@jupyter-widgets/base",
          "model_name": "LayoutModel",
          "model_module_version": "1.2.0",
          "state": {
            "_model_module": "@jupyter-widgets/base",
            "_model_module_version": "1.2.0",
            "_model_name": "LayoutModel",
            "_view_count": null,
            "_view_module": "@jupyter-widgets/base",
            "_view_module_version": "1.2.0",
            "_view_name": "LayoutView",
            "align_content": null,
            "align_items": null,
            "align_self": null,
            "border": null,
            "bottom": null,
            "display": null,
            "flex": null,
            "flex_flow": null,
            "grid_area": null,
            "grid_auto_columns": null,
            "grid_auto_flow": null,
            "grid_auto_rows": null,
            "grid_column": null,
            "grid_gap": null,
            "grid_row": null,
            "grid_template_areas": null,
            "grid_template_columns": null,
            "grid_template_rows": null,
            "height": null,
            "justify_content": null,
            "justify_items": null,
            "left": null,
            "margin": null,
            "max_height": null,
            "max_width": null,
            "min_height": null,
            "min_width": null,
            "object_fit": null,
            "object_position": null,
            "order": null,
            "overflow": null,
            "overflow_x": null,
            "overflow_y": null,
            "padding": null,
            "right": null,
            "top": null,
            "visibility": null,
            "width": null
          }
        },
        "e3d7726dcf914f76affc693b2fa71021": {
          "model_module": "@jupyter-widgets/controls",
          "model_name": "DescriptionStyleModel",
          "model_module_version": "1.5.0",
          "state": {
            "_model_module": "@jupyter-widgets/controls",
            "_model_module_version": "1.5.0",
            "_model_name": "DescriptionStyleModel",
            "_view_count": null,
            "_view_module": "@jupyter-widgets/base",
            "_view_module_version": "1.2.0",
            "_view_name": "StyleView",
            "description_width": ""
          }
        },
        "5f264692fce14b78841c44e8d9f196d4": {
          "model_module": "@jupyter-widgets/base",
          "model_name": "LayoutModel",
          "model_module_version": "1.2.0",
          "state": {
            "_model_module": "@jupyter-widgets/base",
            "_model_module_version": "1.2.0",
            "_model_name": "LayoutModel",
            "_view_count": null,
            "_view_module": "@jupyter-widgets/base",
            "_view_module_version": "1.2.0",
            "_view_name": "LayoutView",
            "align_content": null,
            "align_items": null,
            "align_self": null,
            "border": null,
            "bottom": null,
            "display": null,
            "flex": null,
            "flex_flow": null,
            "grid_area": null,
            "grid_auto_columns": null,
            "grid_auto_flow": null,
            "grid_auto_rows": null,
            "grid_column": null,
            "grid_gap": null,
            "grid_row": null,
            "grid_template_areas": null,
            "grid_template_columns": null,
            "grid_template_rows": null,
            "height": null,
            "justify_content": null,
            "justify_items": null,
            "left": null,
            "margin": null,
            "max_height": null,
            "max_width": null,
            "min_height": null,
            "min_width": null,
            "object_fit": null,
            "object_position": null,
            "order": null,
            "overflow": null,
            "overflow_x": null,
            "overflow_y": null,
            "padding": null,
            "right": null,
            "top": null,
            "visibility": null,
            "width": null
          }
        },
        "377bc1a82d4d498c88d54a75028c627c": {
          "model_module": "@jupyter-widgets/controls",
          "model_name": "ProgressStyleModel",
          "model_module_version": "1.5.0",
          "state": {
            "_model_module": "@jupyter-widgets/controls",
            "_model_module_version": "1.5.0",
            "_model_name": "ProgressStyleModel",
            "_view_count": null,
            "_view_module": "@jupyter-widgets/base",
            "_view_module_version": "1.2.0",
            "_view_name": "StyleView",
            "bar_color": null,
            "description_width": ""
          }
        },
        "cb842bd6138e4eabbdd460b96ee4c24f": {
          "model_module": "@jupyter-widgets/base",
          "model_name": "LayoutModel",
          "model_module_version": "1.2.0",
          "state": {
            "_model_module": "@jupyter-widgets/base",
            "_model_module_version": "1.2.0",
            "_model_name": "LayoutModel",
            "_view_count": null,
            "_view_module": "@jupyter-widgets/base",
            "_view_module_version": "1.2.0",
            "_view_name": "LayoutView",
            "align_content": null,
            "align_items": null,
            "align_self": null,
            "border": null,
            "bottom": null,
            "display": null,
            "flex": null,
            "flex_flow": null,
            "grid_area": null,
            "grid_auto_columns": null,
            "grid_auto_flow": null,
            "grid_auto_rows": null,
            "grid_column": null,
            "grid_gap": null,
            "grid_row": null,
            "grid_template_areas": null,
            "grid_template_columns": null,
            "grid_template_rows": null,
            "height": null,
            "justify_content": null,
            "justify_items": null,
            "left": null,
            "margin": null,
            "max_height": null,
            "max_width": null,
            "min_height": null,
            "min_width": null,
            "object_fit": null,
            "object_position": null,
            "order": null,
            "overflow": null,
            "overflow_x": null,
            "overflow_y": null,
            "padding": null,
            "right": null,
            "top": null,
            "visibility": null,
            "width": null
          }
        },
        "01221757f12c4c879ec5963d22f4fdf0": {
          "model_module": "@jupyter-widgets/controls",
          "model_name": "DescriptionStyleModel",
          "model_module_version": "1.5.0",
          "state": {
            "_model_module": "@jupyter-widgets/controls",
            "_model_module_version": "1.5.0",
            "_model_name": "DescriptionStyleModel",
            "_view_count": null,
            "_view_module": "@jupyter-widgets/base",
            "_view_module_version": "1.2.0",
            "_view_name": "StyleView",
            "description_width": ""
          }
        },
        "ac672dd2965f4cbfb78db9b580433b4a": {
          "model_module": "@jupyter-widgets/controls",
          "model_name": "HBoxModel",
          "model_module_version": "1.5.0",
          "state": {
            "_dom_classes": [],
            "_model_module": "@jupyter-widgets/controls",
            "_model_module_version": "1.5.0",
            "_model_name": "HBoxModel",
            "_view_count": null,
            "_view_module": "@jupyter-widgets/controls",
            "_view_module_version": "1.5.0",
            "_view_name": "HBoxView",
            "box_style": "",
            "children": [
              "IPY_MODEL_fd111da0f7d44bf4b6de6130fe94a42c",
              "IPY_MODEL_c4ff5f208a4e4913903a64d6757d4966",
              "IPY_MODEL_bec374dd4a2c452da40c72b31c68272e"
            ],
            "layout": "IPY_MODEL_6ff65e8f998245e4a10fc9845687558a"
          }
        },
        "fd111da0f7d44bf4b6de6130fe94a42c": {
          "model_module": "@jupyter-widgets/controls",
          "model_name": "HTMLModel",
          "model_module_version": "1.5.0",
          "state": {
            "_dom_classes": [],
            "_model_module": "@jupyter-widgets/controls",
            "_model_module_version": "1.5.0",
            "_model_name": "HTMLModel",
            "_view_count": null,
            "_view_module": "@jupyter-widgets/controls",
            "_view_module_version": "1.5.0",
            "_view_name": "HTMLView",
            "description": "",
            "description_tooltip": null,
            "layout": "IPY_MODEL_4cfdc234a6854e11818511a14ad3014c",
            "placeholder": "​",
            "style": "IPY_MODEL_06f2dfb1c3604c86a5aa0ba4b86f50c1",
            "value": "special_tokens_map.json: 100%"
          }
        },
        "c4ff5f208a4e4913903a64d6757d4966": {
          "model_module": "@jupyter-widgets/controls",
          "model_name": "FloatProgressModel",
          "model_module_version": "1.5.0",
          "state": {
            "_dom_classes": [],
            "_model_module": "@jupyter-widgets/controls",
            "_model_module_version": "1.5.0",
            "_model_name": "FloatProgressModel",
            "_view_count": null,
            "_view_module": "@jupyter-widgets/controls",
            "_view_module_version": "1.5.0",
            "_view_name": "ProgressView",
            "bar_style": "success",
            "description": "",
            "description_tooltip": null,
            "layout": "IPY_MODEL_0c14b749cbcc4df685adb48382653ae9",
            "max": 112,
            "min": 0,
            "orientation": "horizontal",
            "style": "IPY_MODEL_feae7a70f8144330a47a13dc6fe8210c",
            "value": 112
          }
        },
        "bec374dd4a2c452da40c72b31c68272e": {
          "model_module": "@jupyter-widgets/controls",
          "model_name": "HTMLModel",
          "model_module_version": "1.5.0",
          "state": {
            "_dom_classes": [],
            "_model_module": "@jupyter-widgets/controls",
            "_model_module_version": "1.5.0",
            "_model_name": "HTMLModel",
            "_view_count": null,
            "_view_module": "@jupyter-widgets/controls",
            "_view_module_version": "1.5.0",
            "_view_name": "HTMLView",
            "description": "",
            "description_tooltip": null,
            "layout": "IPY_MODEL_8b44615193ea4893b310cbefdaaed2df",
            "placeholder": "​",
            "style": "IPY_MODEL_ea809d295d3341d881d6c06eb67d8cce",
            "value": " 112/112 [00:00&lt;00:00, 8.07kB/s]"
          }
        },
        "6ff65e8f998245e4a10fc9845687558a": {
          "model_module": "@jupyter-widgets/base",
          "model_name": "LayoutModel",
          "model_module_version": "1.2.0",
          "state": {
            "_model_module": "@jupyter-widgets/base",
            "_model_module_version": "1.2.0",
            "_model_name": "LayoutModel",
            "_view_count": null,
            "_view_module": "@jupyter-widgets/base",
            "_view_module_version": "1.2.0",
            "_view_name": "LayoutView",
            "align_content": null,
            "align_items": null,
            "align_self": null,
            "border": null,
            "bottom": null,
            "display": null,
            "flex": null,
            "flex_flow": null,
            "grid_area": null,
            "grid_auto_columns": null,
            "grid_auto_flow": null,
            "grid_auto_rows": null,
            "grid_column": null,
            "grid_gap": null,
            "grid_row": null,
            "grid_template_areas": null,
            "grid_template_columns": null,
            "grid_template_rows": null,
            "height": null,
            "justify_content": null,
            "justify_items": null,
            "left": null,
            "margin": null,
            "max_height": null,
            "max_width": null,
            "min_height": null,
            "min_width": null,
            "object_fit": null,
            "object_position": null,
            "order": null,
            "overflow": null,
            "overflow_x": null,
            "overflow_y": null,
            "padding": null,
            "right": null,
            "top": null,
            "visibility": null,
            "width": null
          }
        },
        "4cfdc234a6854e11818511a14ad3014c": {
          "model_module": "@jupyter-widgets/base",
          "model_name": "LayoutModel",
          "model_module_version": "1.2.0",
          "state": {
            "_model_module": "@jupyter-widgets/base",
            "_model_module_version": "1.2.0",
            "_model_name": "LayoutModel",
            "_view_count": null,
            "_view_module": "@jupyter-widgets/base",
            "_view_module_version": "1.2.0",
            "_view_name": "LayoutView",
            "align_content": null,
            "align_items": null,
            "align_self": null,
            "border": null,
            "bottom": null,
            "display": null,
            "flex": null,
            "flex_flow": null,
            "grid_area": null,
            "grid_auto_columns": null,
            "grid_auto_flow": null,
            "grid_auto_rows": null,
            "grid_column": null,
            "grid_gap": null,
            "grid_row": null,
            "grid_template_areas": null,
            "grid_template_columns": null,
            "grid_template_rows": null,
            "height": null,
            "justify_content": null,
            "justify_items": null,
            "left": null,
            "margin": null,
            "max_height": null,
            "max_width": null,
            "min_height": null,
            "min_width": null,
            "object_fit": null,
            "object_position": null,
            "order": null,
            "overflow": null,
            "overflow_x": null,
            "overflow_y": null,
            "padding": null,
            "right": null,
            "top": null,
            "visibility": null,
            "width": null
          }
        },
        "06f2dfb1c3604c86a5aa0ba4b86f50c1": {
          "model_module": "@jupyter-widgets/controls",
          "model_name": "DescriptionStyleModel",
          "model_module_version": "1.5.0",
          "state": {
            "_model_module": "@jupyter-widgets/controls",
            "_model_module_version": "1.5.0",
            "_model_name": "DescriptionStyleModel",
            "_view_count": null,
            "_view_module": "@jupyter-widgets/base",
            "_view_module_version": "1.2.0",
            "_view_name": "StyleView",
            "description_width": ""
          }
        },
        "0c14b749cbcc4df685adb48382653ae9": {
          "model_module": "@jupyter-widgets/base",
          "model_name": "LayoutModel",
          "model_module_version": "1.2.0",
          "state": {
            "_model_module": "@jupyter-widgets/base",
            "_model_module_version": "1.2.0",
            "_model_name": "LayoutModel",
            "_view_count": null,
            "_view_module": "@jupyter-widgets/base",
            "_view_module_version": "1.2.0",
            "_view_name": "LayoutView",
            "align_content": null,
            "align_items": null,
            "align_self": null,
            "border": null,
            "bottom": null,
            "display": null,
            "flex": null,
            "flex_flow": null,
            "grid_area": null,
            "grid_auto_columns": null,
            "grid_auto_flow": null,
            "grid_auto_rows": null,
            "grid_column": null,
            "grid_gap": null,
            "grid_row": null,
            "grid_template_areas": null,
            "grid_template_columns": null,
            "grid_template_rows": null,
            "height": null,
            "justify_content": null,
            "justify_items": null,
            "left": null,
            "margin": null,
            "max_height": null,
            "max_width": null,
            "min_height": null,
            "min_width": null,
            "object_fit": null,
            "object_position": null,
            "order": null,
            "overflow": null,
            "overflow_x": null,
            "overflow_y": null,
            "padding": null,
            "right": null,
            "top": null,
            "visibility": null,
            "width": null
          }
        },
        "feae7a70f8144330a47a13dc6fe8210c": {
          "model_module": "@jupyter-widgets/controls",
          "model_name": "ProgressStyleModel",
          "model_module_version": "1.5.0",
          "state": {
            "_model_module": "@jupyter-widgets/controls",
            "_model_module_version": "1.5.0",
            "_model_name": "ProgressStyleModel",
            "_view_count": null,
            "_view_module": "@jupyter-widgets/base",
            "_view_module_version": "1.2.0",
            "_view_name": "StyleView",
            "bar_color": null,
            "description_width": ""
          }
        },
        "8b44615193ea4893b310cbefdaaed2df": {
          "model_module": "@jupyter-widgets/base",
          "model_name": "LayoutModel",
          "model_module_version": "1.2.0",
          "state": {
            "_model_module": "@jupyter-widgets/base",
            "_model_module_version": "1.2.0",
            "_model_name": "LayoutModel",
            "_view_count": null,
            "_view_module": "@jupyter-widgets/base",
            "_view_module_version": "1.2.0",
            "_view_name": "LayoutView",
            "align_content": null,
            "align_items": null,
            "align_self": null,
            "border": null,
            "bottom": null,
            "display": null,
            "flex": null,
            "flex_flow": null,
            "grid_area": null,
            "grid_auto_columns": null,
            "grid_auto_flow": null,
            "grid_auto_rows": null,
            "grid_column": null,
            "grid_gap": null,
            "grid_row": null,
            "grid_template_areas": null,
            "grid_template_columns": null,
            "grid_template_rows": null,
            "height": null,
            "justify_content": null,
            "justify_items": null,
            "left": null,
            "margin": null,
            "max_height": null,
            "max_width": null,
            "min_height": null,
            "min_width": null,
            "object_fit": null,
            "object_position": null,
            "order": null,
            "overflow": null,
            "overflow_x": null,
            "overflow_y": null,
            "padding": null,
            "right": null,
            "top": null,
            "visibility": null,
            "width": null
          }
        },
        "ea809d295d3341d881d6c06eb67d8cce": {
          "model_module": "@jupyter-widgets/controls",
          "model_name": "DescriptionStyleModel",
          "model_module_version": "1.5.0",
          "state": {
            "_model_module": "@jupyter-widgets/controls",
            "_model_module_version": "1.5.0",
            "_model_name": "DescriptionStyleModel",
            "_view_count": null,
            "_view_module": "@jupyter-widgets/base",
            "_view_module_version": "1.2.0",
            "_view_name": "StyleView",
            "description_width": ""
          }
        },
        "94189a94014940c78ca8325567e2561e": {
          "model_module": "@jupyter-widgets/controls",
          "model_name": "HBoxModel",
          "model_module_version": "1.5.0",
          "state": {
            "_dom_classes": [],
            "_model_module": "@jupyter-widgets/controls",
            "_model_module_version": "1.5.0",
            "_model_name": "HBoxModel",
            "_view_count": null,
            "_view_module": "@jupyter-widgets/controls",
            "_view_module_version": "1.5.0",
            "_view_name": "HBoxView",
            "box_style": "",
            "children": [
              "IPY_MODEL_fe3af6a413154725a60a27d299685932",
              "IPY_MODEL_34abffa9effc436ab145703ee6d12ed1",
              "IPY_MODEL_23586b5f22e9456a9e6b411bdb9b3c2d"
            ],
            "layout": "IPY_MODEL_66cbb26908114a1db52a136629b94b3d"
          }
        },
        "fe3af6a413154725a60a27d299685932": {
          "model_module": "@jupyter-widgets/controls",
          "model_name": "HTMLModel",
          "model_module_version": "1.5.0",
          "state": {
            "_dom_classes": [],
            "_model_module": "@jupyter-widgets/controls",
            "_model_module_version": "1.5.0",
            "_model_name": "HTMLModel",
            "_view_count": null,
            "_view_module": "@jupyter-widgets/controls",
            "_view_module_version": "1.5.0",
            "_view_name": "HTMLView",
            "description": "",
            "description_tooltip": null,
            "layout": "IPY_MODEL_ff35c9a54a05465eb930c338a8d56404",
            "placeholder": "​",
            "style": "IPY_MODEL_e6c8b3eba66e4ef1b503392a69b21e17",
            "value": "pytorch_model.bin: 100%"
          }
        },
        "34abffa9effc436ab145703ee6d12ed1": {
          "model_module": "@jupyter-widgets/controls",
          "model_name": "FloatProgressModel",
          "model_module_version": "1.5.0",
          "state": {
            "_dom_classes": [],
            "_model_module": "@jupyter-widgets/controls",
            "_model_module_version": "1.5.0",
            "_model_name": "FloatProgressModel",
            "_view_count": null,
            "_view_module": "@jupyter-widgets/controls",
            "_view_module_version": "1.5.0",
            "_view_name": "ProgressView",
            "bar_style": "success",
            "description": "",
            "description_tooltip": null,
            "layout": "IPY_MODEL_5df4b138eb714f75b6fdf692dd63c00c",
            "max": 444780374,
            "min": 0,
            "orientation": "horizontal",
            "style": "IPY_MODEL_232eec531a804f58ab79ae7efd7a9a8e",
            "value": 444780374
          }
        },
        "23586b5f22e9456a9e6b411bdb9b3c2d": {
          "model_module": "@jupyter-widgets/controls",
          "model_name": "HTMLModel",
          "model_module_version": "1.5.0",
          "state": {
            "_dom_classes": [],
            "_model_module": "@jupyter-widgets/controls",
            "_model_module_version": "1.5.0",
            "_model_name": "HTMLModel",
            "_view_count": null,
            "_view_module": "@jupyter-widgets/controls",
            "_view_module_version": "1.5.0",
            "_view_name": "HTMLView",
            "description": "",
            "description_tooltip": null,
            "layout": "IPY_MODEL_b72cd312b5cb46708e18802acf13b866",
            "placeholder": "​",
            "style": "IPY_MODEL_ceea1fbe28374e0881e7e7746997ea2e",
            "value": " 445M/445M [00:01&lt;00:00, 219MB/s]"
          }
        },
        "66cbb26908114a1db52a136629b94b3d": {
          "model_module": "@jupyter-widgets/base",
          "model_name": "LayoutModel",
          "model_module_version": "1.2.0",
          "state": {
            "_model_module": "@jupyter-widgets/base",
            "_model_module_version": "1.2.0",
            "_model_name": "LayoutModel",
            "_view_count": null,
            "_view_module": "@jupyter-widgets/base",
            "_view_module_version": "1.2.0",
            "_view_name": "LayoutView",
            "align_content": null,
            "align_items": null,
            "align_self": null,
            "border": null,
            "bottom": null,
            "display": null,
            "flex": null,
            "flex_flow": null,
            "grid_area": null,
            "grid_auto_columns": null,
            "grid_auto_flow": null,
            "grid_auto_rows": null,
            "grid_column": null,
            "grid_gap": null,
            "grid_row": null,
            "grid_template_areas": null,
            "grid_template_columns": null,
            "grid_template_rows": null,
            "height": null,
            "justify_content": null,
            "justify_items": null,
            "left": null,
            "margin": null,
            "max_height": null,
            "max_width": null,
            "min_height": null,
            "min_width": null,
            "object_fit": null,
            "object_position": null,
            "order": null,
            "overflow": null,
            "overflow_x": null,
            "overflow_y": null,
            "padding": null,
            "right": null,
            "top": null,
            "visibility": null,
            "width": null
          }
        },
        "ff35c9a54a05465eb930c338a8d56404": {
          "model_module": "@jupyter-widgets/base",
          "model_name": "LayoutModel",
          "model_module_version": "1.2.0",
          "state": {
            "_model_module": "@jupyter-widgets/base",
            "_model_module_version": "1.2.0",
            "_model_name": "LayoutModel",
            "_view_count": null,
            "_view_module": "@jupyter-widgets/base",
            "_view_module_version": "1.2.0",
            "_view_name": "LayoutView",
            "align_content": null,
            "align_items": null,
            "align_self": null,
            "border": null,
            "bottom": null,
            "display": null,
            "flex": null,
            "flex_flow": null,
            "grid_area": null,
            "grid_auto_columns": null,
            "grid_auto_flow": null,
            "grid_auto_rows": null,
            "grid_column": null,
            "grid_gap": null,
            "grid_row": null,
            "grid_template_areas": null,
            "grid_template_columns": null,
            "grid_template_rows": null,
            "height": null,
            "justify_content": null,
            "justify_items": null,
            "left": null,
            "margin": null,
            "max_height": null,
            "max_width": null,
            "min_height": null,
            "min_width": null,
            "object_fit": null,
            "object_position": null,
            "order": null,
            "overflow": null,
            "overflow_x": null,
            "overflow_y": null,
            "padding": null,
            "right": null,
            "top": null,
            "visibility": null,
            "width": null
          }
        },
        "e6c8b3eba66e4ef1b503392a69b21e17": {
          "model_module": "@jupyter-widgets/controls",
          "model_name": "DescriptionStyleModel",
          "model_module_version": "1.5.0",
          "state": {
            "_model_module": "@jupyter-widgets/controls",
            "_model_module_version": "1.5.0",
            "_model_name": "DescriptionStyleModel",
            "_view_count": null,
            "_view_module": "@jupyter-widgets/base",
            "_view_module_version": "1.2.0",
            "_view_name": "StyleView",
            "description_width": ""
          }
        },
        "5df4b138eb714f75b6fdf692dd63c00c": {
          "model_module": "@jupyter-widgets/base",
          "model_name": "LayoutModel",
          "model_module_version": "1.2.0",
          "state": {
            "_model_module": "@jupyter-widgets/base",
            "_model_module_version": "1.2.0",
            "_model_name": "LayoutModel",
            "_view_count": null,
            "_view_module": "@jupyter-widgets/base",
            "_view_module_version": "1.2.0",
            "_view_name": "LayoutView",
            "align_content": null,
            "align_items": null,
            "align_self": null,
            "border": null,
            "bottom": null,
            "display": null,
            "flex": null,
            "flex_flow": null,
            "grid_area": null,
            "grid_auto_columns": null,
            "grid_auto_flow": null,
            "grid_auto_rows": null,
            "grid_column": null,
            "grid_gap": null,
            "grid_row": null,
            "grid_template_areas": null,
            "grid_template_columns": null,
            "grid_template_rows": null,
            "height": null,
            "justify_content": null,
            "justify_items": null,
            "left": null,
            "margin": null,
            "max_height": null,
            "max_width": null,
            "min_height": null,
            "min_width": null,
            "object_fit": null,
            "object_position": null,
            "order": null,
            "overflow": null,
            "overflow_x": null,
            "overflow_y": null,
            "padding": null,
            "right": null,
            "top": null,
            "visibility": null,
            "width": null
          }
        },
        "232eec531a804f58ab79ae7efd7a9a8e": {
          "model_module": "@jupyter-widgets/controls",
          "model_name": "ProgressStyleModel",
          "model_module_version": "1.5.0",
          "state": {
            "_model_module": "@jupyter-widgets/controls",
            "_model_module_version": "1.5.0",
            "_model_name": "ProgressStyleModel",
            "_view_count": null,
            "_view_module": "@jupyter-widgets/base",
            "_view_module_version": "1.2.0",
            "_view_name": "StyleView",
            "bar_color": null,
            "description_width": ""
          }
        },
        "b72cd312b5cb46708e18802acf13b866": {
          "model_module": "@jupyter-widgets/base",
          "model_name": "LayoutModel",
          "model_module_version": "1.2.0",
          "state": {
            "_model_module": "@jupyter-widgets/base",
            "_model_module_version": "1.2.0",
            "_model_name": "LayoutModel",
            "_view_count": null,
            "_view_module": "@jupyter-widgets/base",
            "_view_module_version": "1.2.0",
            "_view_name": "LayoutView",
            "align_content": null,
            "align_items": null,
            "align_self": null,
            "border": null,
            "bottom": null,
            "display": null,
            "flex": null,
            "flex_flow": null,
            "grid_area": null,
            "grid_auto_columns": null,
            "grid_auto_flow": null,
            "grid_auto_rows": null,
            "grid_column": null,
            "grid_gap": null,
            "grid_row": null,
            "grid_template_areas": null,
            "grid_template_columns": null,
            "grid_template_rows": null,
            "height": null,
            "justify_content": null,
            "justify_items": null,
            "left": null,
            "margin": null,
            "max_height": null,
            "max_width": null,
            "min_height": null,
            "min_width": null,
            "object_fit": null,
            "object_position": null,
            "order": null,
            "overflow": null,
            "overflow_x": null,
            "overflow_y": null,
            "padding": null,
            "right": null,
            "top": null,
            "visibility": null,
            "width": null
          }
        },
        "ceea1fbe28374e0881e7e7746997ea2e": {
          "model_module": "@jupyter-widgets/controls",
          "model_name": "DescriptionStyleModel",
          "model_module_version": "1.5.0",
          "state": {
            "_model_module": "@jupyter-widgets/controls",
            "_model_module_version": "1.5.0",
            "_model_name": "DescriptionStyleModel",
            "_view_count": null,
            "_view_module": "@jupyter-widgets/base",
            "_view_module_version": "1.2.0",
            "_view_name": "StyleView",
            "description_width": ""
          }
        }
      }
    }
  },
  "cells": [
    {
      "cell_type": "code",
      "source": [
        "!pip install groq"
      ],
      "metadata": {
        "colab": {
          "base_uri": "https://localhost:8080/"
        },
        "id": "NQZgAFc_tBA5",
        "outputId": "6596abb4-80cd-4bb0-e14d-837b6fa6669c"
      },
      "execution_count": null,
      "outputs": [
        {
          "output_type": "stream",
          "name": "stdout",
          "text": [
            "Collecting groq\n",
            "  Downloading groq-0.26.0-py3-none-any.whl.metadata (15 kB)\n",
            "Requirement already satisfied: anyio<5,>=3.5.0 in /usr/local/lib/python3.11/dist-packages (from groq) (4.9.0)\n",
            "Requirement already satisfied: distro<2,>=1.7.0 in /usr/local/lib/python3.11/dist-packages (from groq) (1.9.0)\n",
            "Requirement already satisfied: httpx<1,>=0.23.0 in /usr/local/lib/python3.11/dist-packages (from groq) (0.28.1)\n",
            "Requirement already satisfied: pydantic<3,>=1.9.0 in /usr/local/lib/python3.11/dist-packages (from groq) (2.11.5)\n",
            "Requirement already satisfied: sniffio in /usr/local/lib/python3.11/dist-packages (from groq) (1.3.1)\n",
            "Requirement already satisfied: typing-extensions<5,>=4.10 in /usr/local/lib/python3.11/dist-packages (from groq) (4.13.2)\n",
            "Requirement already satisfied: idna>=2.8 in /usr/local/lib/python3.11/dist-packages (from anyio<5,>=3.5.0->groq) (3.10)\n",
            "Requirement already satisfied: certifi in /usr/local/lib/python3.11/dist-packages (from httpx<1,>=0.23.0->groq) (2025.4.26)\n",
            "Requirement already satisfied: httpcore==1.* in /usr/local/lib/python3.11/dist-packages (from httpx<1,>=0.23.0->groq) (1.0.9)\n",
            "Requirement already satisfied: h11>=0.16 in /usr/local/lib/python3.11/dist-packages (from httpcore==1.*->httpx<1,>=0.23.0->groq) (0.16.0)\n",
            "Requirement already satisfied: annotated-types>=0.6.0 in /usr/local/lib/python3.11/dist-packages (from pydantic<3,>=1.9.0->groq) (0.7.0)\n",
            "Requirement already satisfied: pydantic-core==2.33.2 in /usr/local/lib/python3.11/dist-packages (from pydantic<3,>=1.9.0->groq) (2.33.2)\n",
            "Requirement already satisfied: typing-inspection>=0.4.0 in /usr/local/lib/python3.11/dist-packages (from pydantic<3,>=1.9.0->groq) (0.4.1)\n",
            "Downloading groq-0.26.0-py3-none-any.whl (129 kB)\n",
            "\u001b[?25l   \u001b[90m━━━━━━━━━━━━━━━━━━━━━━━━━━━━━━━━━━━━━━━━\u001b[0m \u001b[32m0.0/129.6 kB\u001b[0m \u001b[31m?\u001b[0m eta \u001b[36m-:--:--\u001b[0m\r\u001b[2K   \u001b[90m━━━━━━━━━━━━━━━━━━━━━━━━━━━━━━━━━━━━━━━━\u001b[0m \u001b[32m129.6/129.6 kB\u001b[0m \u001b[31m5.5 MB/s\u001b[0m eta \u001b[36m0:00:00\u001b[0m\n",
            "\u001b[?25hInstalling collected packages: groq\n",
            "Successfully installed groq-0.26.0\n"
          ]
        }
      ]
    },
    {
      "cell_type": "code",
      "source": [
        "!pip install -q nlpaug"
      ],
      "metadata": {
        "id": "_15uofXSvD8V"
      },
      "execution_count": null,
      "outputs": []
    },
    {
      "cell_type": "code",
      "source": [
        "!pip install -q transformers datasets evaluate accelerate"
      ],
      "metadata": {
        "id": "AAH7583LwMNx"
      },
      "execution_count": null,
      "outputs": []
    },
    {
      "cell_type": "code",
      "source": [
        "!pip install \"numpy<2.0\""
      ],
      "metadata": {
        "colab": {
          "base_uri": "https://localhost:8080/"
        },
        "id": "2bTnxdZ002AV",
        "outputId": "79fda6d3-6fed-4eb2-8a3d-c88abc57b691"
      },
      "execution_count": null,
      "outputs": [
        {
          "output_type": "stream",
          "name": "stdout",
          "text": [
            "Collecting numpy<2.0\n",
            "  Downloading numpy-1.26.4-cp311-cp311-manylinux_2_17_x86_64.manylinux2014_x86_64.whl.metadata (61 kB)\n",
            "\u001b[?25l     \u001b[90m━━━━━━━━━━━━━━━━━━━━━━━━━━━━━━━━━━━━━━━━\u001b[0m \u001b[32m0.0/61.0 kB\u001b[0m \u001b[31m?\u001b[0m eta \u001b[36m-:--:--\u001b[0m\r\u001b[2K     \u001b[90m━━━━━━━━━━━━━━━━━━━━━━━━━━━━━━━━━━━━━━━━\u001b[0m \u001b[32m61.0/61.0 kB\u001b[0m \u001b[31m4.5 MB/s\u001b[0m eta \u001b[36m0:00:00\u001b[0m\n",
            "\u001b[?25hDownloading numpy-1.26.4-cp311-cp311-manylinux_2_17_x86_64.manylinux2014_x86_64.whl (18.3 MB)\n",
            "\u001b[2K   \u001b[90m━━━━━━━━━━━━━━━━━━━━━━━━━━━━━━━━━━━━━━━━\u001b[0m \u001b[32m18.3/18.3 MB\u001b[0m \u001b[31m87.7 MB/s\u001b[0m eta \u001b[36m0:00:00\u001b[0m\n",
            "\u001b[?25hInstalling collected packages: numpy\n",
            "  Attempting uninstall: numpy\n",
            "    Found existing installation: numpy 2.0.2\n",
            "    Uninstalling numpy-2.0.2:\n",
            "      Successfully uninstalled numpy-2.0.2\n",
            "\u001b[31mERROR: pip's dependency resolver does not currently take into account all the packages that are installed. This behaviour is the source of the following dependency conflicts.\n",
            "thinc 8.3.6 requires numpy<3.0.0,>=2.0.0, but you have numpy 1.26.4 which is incompatible.\u001b[0m\u001b[31m\n",
            "\u001b[0mSuccessfully installed numpy-1.26.4\n"
          ]
        }
      ]
    },
    {
      "cell_type": "code",
      "execution_count": null,
      "metadata": {
        "colab": {
          "base_uri": "https://localhost:8080/"
        },
        "id": "mlSAzyMjmBqH",
        "outputId": "09727bca-80e3-46fe-b742-0d5bfdd3e3ba"
      },
      "outputs": [
        {
          "output_type": "stream",
          "name": "stdout",
          "text": [
            "\u001b[2K   \u001b[90m━━━━━━━━━━━━━━━━━━━━━━━━━━━━━━━━━━━━━━━━\u001b[0m \u001b[32m84.0/84.0 kB\u001b[0m \u001b[31m5.0 MB/s\u001b[0m eta \u001b[36m0:00:00\u001b[0m\n",
            "\u001b[2K   \u001b[90m━━━━━━━━━━━━━━━━━━━━━━━━━━━━━━━━━━━━━━━━\u001b[0m \u001b[32m363.4/363.4 MB\u001b[0m \u001b[31m4.6 MB/s\u001b[0m eta \u001b[36m0:00:00\u001b[0m\n",
            "\u001b[2K   \u001b[90m━━━━━━━━━━━━━━━━━━━━━━━━━━━━━━━━━━━━━━━━\u001b[0m \u001b[32m13.8/13.8 MB\u001b[0m \u001b[31m114.5 MB/s\u001b[0m eta \u001b[36m0:00:00\u001b[0m\n",
            "\u001b[2K   \u001b[90m━━━━━━━━━━━━━━━━━━━━━━━━━━━━━━━━━━━━━━━━\u001b[0m \u001b[32m24.6/24.6 MB\u001b[0m \u001b[31m95.2 MB/s\u001b[0m eta \u001b[36m0:00:00\u001b[0m\n",
            "\u001b[2K   \u001b[90m━━━━━━━━━━━━━━━━━━━━━━━━━━━━━━━━━━━━━━━━\u001b[0m \u001b[32m883.7/883.7 kB\u001b[0m \u001b[31m53.9 MB/s\u001b[0m eta \u001b[36m0:00:00\u001b[0m\n",
            "\u001b[2K   \u001b[90m━━━━━━━━━━━━━━━━━━━━━━━━━━━━━━━━━━━━━━━━\u001b[0m \u001b[32m664.8/664.8 MB\u001b[0m \u001b[31m3.0 MB/s\u001b[0m eta \u001b[36m0:00:00\u001b[0m\n",
            "\u001b[2K   \u001b[90m━━━━━━━━━━━━━━━━━━━━━━━━━━━━━━━━━━━━━━━━\u001b[0m \u001b[32m211.5/211.5 MB\u001b[0m \u001b[31m5.7 MB/s\u001b[0m eta \u001b[36m0:00:00\u001b[0m\n",
            "\u001b[2K   \u001b[90m━━━━━━━━━━━━━━━━━━━━━━━━━━━━━━━━━━━━━━━━\u001b[0m \u001b[32m56.3/56.3 MB\u001b[0m \u001b[31m9.9 MB/s\u001b[0m eta \u001b[36m0:00:00\u001b[0m\n",
            "\u001b[2K   \u001b[90m━━━━━━━━━━━━━━━━━━━━━━━━━━━━━━━━━━━━━━━━\u001b[0m \u001b[32m127.9/127.9 MB\u001b[0m \u001b[31m7.1 MB/s\u001b[0m eta \u001b[36m0:00:00\u001b[0m\n",
            "\u001b[2K   \u001b[90m━━━━━━━━━━━━━━━━━━━━━━━━━━━━━━━━━━━━━━━━\u001b[0m \u001b[32m207.5/207.5 MB\u001b[0m \u001b[31m6.1 MB/s\u001b[0m eta \u001b[36m0:00:00\u001b[0m\n",
            "\u001b[2K   \u001b[90m━━━━━━━━━━━━━━━━━━━━━━━━━━━━━━━━━━━━━━━━\u001b[0m \u001b[32m21.1/21.1 MB\u001b[0m \u001b[31m106.1 MB/s\u001b[0m eta \u001b[36m0:00:00\u001b[0m\n",
            "\u001b[2K   \u001b[90m━━━━━━━━━━━━━━━━━━━━━━━━━━━━━━━━━━━━━━━━\u001b[0m \u001b[32m410.5/410.5 kB\u001b[0m \u001b[31m14.9 MB/s\u001b[0m eta \u001b[36m0:00:00\u001b[0m\n",
            "\u001b[?25hTensorFlow version: 2.18.0\n"
          ]
        }
      ],
      "source": [
        "# Install required packages\n",
        "!pip install -q transformers datasets evaluate accelerate\n",
        "!pip install -q nlpaug\n",
        "!pip install -q openai  # Untuk AI labeling (opsional)\n",
        "\n",
        "import tensorflow as tf\n",
        "import pandas as pd\n",
        "import numpy as np\n",
        "import json\n",
        "import ast\n",
        "import os\n",
        "from sklearn.model_selection import train_test_split\n",
        "import matplotlib.pyplot as plt\n",
        "\n",
        "print(\"TensorFlow version:\", tf.__version__)"
      ]
    },
    {
      "cell_type": "code",
      "source": [
        "from groq import Groq"
      ],
      "metadata": {
        "id": "iPrZjEBKtPTS"
      },
      "execution_count": null,
      "outputs": []
    },
    {
      "cell_type": "code",
      "source": [
        "# Configure Kaggle API & download dataset\n",
        "!mkdir -p ~/.kaggle\n",
        "!cp kaggle.json ~/.kaggle/\n",
        "!chmod 600 ~/.kaggle/kaggle.json\n",
        "!kaggle datasets download -d pandupt/ocr-dataset-indonesia -p /content/ocr_indonesia --unzip"
      ],
      "metadata": {
        "colab": {
          "base_uri": "https://localhost:8080/"
        },
        "id": "RauKrj_ApecI",
        "outputId": "60042539-e850-4a7b-e6fc-bc9b3405f4eb"
      },
      "execution_count": null,
      "outputs": [
        {
          "output_type": "stream",
          "name": "stdout",
          "text": [
            "Dataset URL: https://www.kaggle.com/datasets/pandupt/ocr-dataset-indonesia\n",
            "License(s): apache-2.0\n",
            "Downloading ocr-dataset-indonesia.zip to /content/ocr_indonesia\n",
            " 99% 463M/468M [00:07<00:00, 70.0MB/s]\n",
            "100% 468M/468M [00:07<00:00, 66.6MB/s]\n"
          ]
        }
      ]
    },
    {
      "cell_type": "markdown",
      "source": [
        "# Data Extraction"
      ],
      "metadata": {
        "id": "nEkFv4cgp46t"
      }
    },
    {
      "cell_type": "code",
      "source": [
        "# Parse HF-style JSONL to DataFrame df_items\n",
        "ann_path = \"/content/ocr_indonesia/data/annotations/huggingface_train.jsonl\"\n",
        "rows = []\n",
        "with open(ann_path, \"r\", encoding=\"utf-8\") as f:\n",
        "    for line in f:\n",
        "        rec   = json.loads(line)\n",
        "        rid   = rec[\"id\"]\n",
        "        outer = json.loads(rec[\"parsed_data\"])\n",
        "        s     = outer[\"json\"]\n",
        "        if s.startswith('\"') and s.endswith('\"'):\n",
        "            s = s[1:-1]\n",
        "        s = s.encode(\"utf-8\").decode(\"unicode_escape\")\n",
        "        try:\n",
        "            inner = ast.literal_eval(s)\n",
        "        except:\n",
        "            continue\n",
        "        for li in inner.get(\"line_items\", []):\n",
        "            if isinstance(li, dict):\n",
        "                item   = li.get(\"item_name\",\"\").strip()\n",
        "                amount = li.get(\"item_value\",\"\").replace(\".\",\"\").replace(\",\",\"\")\n",
        "                if item and amount.isdigit():\n",
        "                    rows.append({\n",
        "                        \"receipt_id\": rid,\n",
        "                        \"item\":       item,\n",
        "                        \"amount\":     int(amount)\n",
        "                    })\n",
        "\n",
        "df_items = pd.DataFrame(rows)\n",
        "print(f\"Extracted {len(df_items)} line‐items\")"
      ],
      "metadata": {
        "colab": {
          "base_uri": "https://localhost:8080/"
        },
        "id": "m-Ihr430p7CK",
        "outputId": "a8989b2f-7c98-4b80-8198-3d4289155efd"
      },
      "execution_count": null,
      "outputs": [
        {
          "output_type": "stream",
          "name": "stdout",
          "text": [
            "Extracted 7038 line‐items\n"
          ]
        }
      ]
    },
    {
      "cell_type": "markdown",
      "source": [
        "# Improved Labeling (Keywords + AI API)"
      ],
      "metadata": {
        "id": "pMNMlKWeqMPe"
      }
    },
    {
      "cell_type": "code",
      "source": [
        "# Extended keywords untuk labeling yang lebih baik\n",
        "extended_keywords = {\n",
        "    'makanan': [\n",
        "        # Makanan Indonesia\n",
        "        'nasi', 'ayam', 'mie', 'roti', 'sate', 'ikan', 'bakso', 'tahu', 'tempe',\n",
        "        'soto', 'rendang', 'lumpia', 'risol', 'bubur', 'kwetiau', 'udang', 'cumi',\n",
        "        'bebek', 'siomay', 'bihun', 'telur', 'telor', 'tlr', 'tlur', 'bakar',\n",
        "        'goreng', 'gado', 'pecel', 'rawon', 'opor', 'gulai', 'sambal', 'lalapan',\n",
        "        'nila', 'gurame', 'lele', 'bawal', 'kakap', 'tongkol', 'bandeng', 'patin',\n",
        "        'martabak', 'ketoprak', 'batagor', 'pempek', 'tekwan', 'otak-otak',\n",
        "\n",
        "        # Makanan Internasional\n",
        "        'burger', 'pizza', 'pasta', 'spaghetti', 'sushi', 'ramen', 'udon',\n",
        "        'beef', 'chicken', 'wagyu', 'bacon', 'karaage', 'katsu', 'steak',\n",
        "        'sandwich', 'salad', 'soup', 'rice', 'fried', 'grilled', 'roasted',\n",
        "\n",
        "        # Snack & Dessert\n",
        "        'kue', 'cake', 'donat', 'donut', 'croissant', 'pie', 'brownie', 'cookies',\n",
        "        'pastry', 'bakpia', 'kacang', 'keripik', 'chips', 'coklat', 'chocolate',\n",
        "        'es krim', 'ice cream', 'pudding', 'jelly', 'wafer', 'biskuit',\n",
        "\n",
        "        # Variasi penulisan\n",
        "        'chkn', 'ckn', 'aym', 'nsi', 'gkg', 'grg', 'bkr', 'sty', 'ste',\n",
        "        'mball', 'bso', 'udg', 'cm', 'ikn', 'ns', 'mi'\n",
        "    ],\n",
        "\n",
        "    'minuman': [\n",
        "        # Minuman umum\n",
        "        'air', 'aqua', 'teh', 'kopi', 'jus', 'juice', 'soda', 'es', 'ice',\n",
        "        'mineral', 'water', 'drink', 'beverage',\n",
        "\n",
        "        # Kopi\n",
        "        'coffee', 'latte', 'cappuccino', 'espresso', 'americano', 'mocha',\n",
        "        'macchiato', 'frappuccino', 'cold brew', 'v60', 'kopi susu',\n",
        "\n",
        "        # Teh & variasi\n",
        "        'tea', 'ocha', 'matcha', 'thai tea', 'milk tea', 'bubble', 'boba',\n",
        "        'tarik', 'manis', 'lemon tea', 'fruit tea',\n",
        "\n",
        "        # Soft drinks\n",
        "        'cola', 'coke', 'pepsi', 'fanta', 'sprite', 'pocari', 'gatorade',\n",
        "        'isotonic', 'energy drink', 'redbull',\n",
        "\n",
        "        # Others\n",
        "        'milkshake', 'smoothie', 'yogurt', 'yakult', 'susu', 'milk',\n",
        "        'beer', 'bir', 'wine'\n",
        "    ],\n",
        "\n",
        "    'atk': [\n",
        "        'pulpen', 'pen', 'pensil', 'pencil', 'notebook', 'book', 'buku',\n",
        "        'kertas', 'paper', 'stapler', 'staples', 'penghapus', 'eraser',\n",
        "        'spidol', 'marker', 'map', 'folder', 'file', 'clip', 'paperclip',\n",
        "        'gunting', 'scissors', 'lem', 'glue', 'tape', 'selotip', 'ruler',\n",
        "        'penggaris', 'correction', 'tipex', 'highlighter', 'stabilo',\n",
        "        'post-it', 'sticky note', 'envelope', 'amplop'\n",
        "    ],\n",
        "\n",
        "    'transport': [\n",
        "        'ojek', 'ojol', 'taksi', 'taxi', 'cab', 'bus', 'kereta', 'train',\n",
        "        'grab', 'gojek', 'go-jek', 'uber', 'parking', 'parkir', 'toll',\n",
        "        'tol', 'tiket', 'ticket', 'fare', 'transport', 'transportation',\n",
        "        'charge', 'fee', 'bensin', 'fuel', 'gas', 'pertamax', 'premium',\n",
        "        'mrt', 'lrt', 'krl', 'commuter', 'angkot', 'mikrolet'\n",
        "    ],\n",
        "\n",
        "    'hiburan': [\n",
        "        'bioskop', 'cinema', 'movie', 'film', 'netflix', 'spotify', 'game',\n",
        "        'gaming', 'konser', 'concert', 'musik', 'music', 'karaoke', 'ktv',\n",
        "        'teater', 'theater', 'museum', 'tiket', 'ticket', 'show', 'live',\n",
        "        'streaming', 'subscription', 'membership', 'youtube', 'disney',\n",
        "        'hbo', 'viu', 'wetv', 'iqiyi'\n",
        "    ],\n",
        "\n",
        "    'kesehatan': [\n",
        "        'apotik', 'apotek', 'pharmacy', 'obat', 'medicine', 'drug', 'vitamin',\n",
        "        'supplement', 'dokter', 'doctor', 'clinic', 'klinik', 'rs', 'rumah sakit',\n",
        "        'hospital', 'medical', 'medis', 'tablet', 'kapsul', 'capsule', 'sirup',\n",
        "        'syrup', 'salep', 'ointment', 'plester', 'bandage', 'masker', 'mask',\n",
        "        'hand sanitizer', 'antiseptic', 'bpjs', 'lab', 'laboratory', 'test',\n",
        "        'check up', 'checkup', 'konsultasi', 'consultation'\n",
        "    ],\n",
        "\n",
        "    'elektronik': [\n",
        "        'hp', 'handphone', 'phone', 'smartphone', 'laptop', 'computer', 'pc',\n",
        "        'tablet', 'ipad', 'charger', 'cable', 'kabel', 'earphone', 'headphone',\n",
        "        'headset', 'speaker', 'mouse', 'keyboard', 'monitor', 'printer',\n",
        "        'scanner', 'usb', 'memory', 'hardisk', 'ssd', 'ram', 'processor',\n",
        "        'battery', 'baterai', 'powerbank', 'adapter', 'hdmi', 'wifi', 'router'\n",
        "    ],\n",
        "\n",
        "    'fashion': [\n",
        "        'baju', 'kaos', 'shirt', 'kemeja', 'celana', 'pants', 'trousers',\n",
        "        'rok', 'skirt', 'dress', 'gaun', 'jacket', 'jaket', 'sweater', 'hoodie',\n",
        "        'sepatu', 'shoes', 'sandal', 'slipper', 'tas', 'bag', 'backpack',\n",
        "        'wallet', 'dompet', 'belt', 'ikat pinggang', 'hat', 'topi', 'cap',\n",
        "        'scarf', 'syal', 'gloves', 'sarung tangan', 'socks', 'kaos kaki',\n",
        "        'underwear', 'pakaian dalam', 'jeans', 'batik', 'kebaya'\n",
        "    ]\n",
        "}\n",
        "\n",
        "def improved_auto_label(item: str) -> str:\n",
        "    s = item.lower()\n",
        "    # Hitung skor match untuk setiap kategori\n",
        "    scores = {}\n",
        "    for cat, kws in extended_keywords.items():\n",
        "        score = sum(1 for kw in kws if kw in s)\n",
        "        if score > 0:\n",
        "            scores[cat] = score\n",
        "\n",
        "    # Return kategori dengan skor tertinggi\n",
        "    if scores:\n",
        "        return max(scores, key=scores.get)\n",
        "    return 'lain-lain'\n",
        "\n",
        "# Apply improved labeling\n",
        "labels_df = pd.DataFrame({'item': df_items['item'].unique()})\n",
        "labels_df['category'] = labels_df['item'].apply(improved_auto_label)\n",
        "\n",
        "print(\"Distribusi kategori setelah improved labeling:\")\n",
        "print(labels_df['category'].value_counts())"
      ],
      "metadata": {
        "colab": {
          "base_uri": "https://localhost:8080/"
        },
        "id": "0eawq_T5qRKC",
        "outputId": "f78beab6-8ed4-4307-8815-30f8f8c18695"
      },
      "execution_count": null,
      "outputs": [
        {
          "output_type": "stream",
          "name": "stdout",
          "text": [
            "Distribusi kategori setelah improved labeling:\n",
            "category\n",
            "lain-lain     2868\n",
            "makanan       1424\n",
            "minuman       1044\n",
            "kesehatan      115\n",
            "elektronik      95\n",
            "fashion         75\n",
            "atk             72\n",
            "transport       59\n",
            "hiburan         11\n",
            "Name: count, dtype: int64\n"
          ]
        }
      ]
    },
    {
      "cell_type": "code",
      "source": [
        "# Labeling (AI API)\n",
        "'''\n",
        "def ai_label_batch_groq(items: List[str], batch_size: int = 20) -> Dict[str, str]:\n",
        "    client = Groq(api_key=\"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\")  # Get free API key from console.groq.com\n",
        "    labeled_items = {}\n",
        "\n",
        "    categories = ['makanan', 'minuman', 'atk', 'transport', 'hiburan',\n",
        "                  'kesehatan', 'elektronik', 'fashion', 'lain-lain']\n",
        "\n",
        "    for i in range(0, len(items), batch_size):\n",
        "        batch = items[i:i+batch_size]\n",
        "\n",
        "        #prompt = f'''#Klasifikasikan item receipt Indonesia ke kategori:\n",
        "        #Kategori: {', '.join(categories)}\n",
        "\n",
        "        #Items:\n",
        "        #{chr(10).join(f\"{j+1}. {item}\" for j, item in enumerate(batch))}\n",
        "\n",
        "        #Output format: item -> kategori\n",
        "        '''\n",
        "\n",
        "        try:\n",
        "            response = client.chat.completions.create(\n",
        "                model=\"meta-llama/llama-guard-4-12b\",  # atau \"llama2-70b-4096\"\n",
        "                messages=[\n",
        "                    {\"role\": \"system\", \"content\": \"Klasifikasikan item receipt Indonesia.\"},\n",
        "                    {\"role\": \"user\", \"content\": prompt}\n",
        "                ],\n",
        "                temperature=0.3,\n",
        "                max_tokens=1000\n",
        "            )\n",
        "\n",
        "            result = response.choices[0].message.content\n",
        "            lines = result.strip().split('\\n')\n",
        "\n",
        "            for line in lines:\n",
        "                if '->' in line:\n",
        "                    parts = line.split('->')\n",
        "                    if len(parts) == 2:\n",
        "                        item_part = parts[0].strip()\n",
        "                        category = parts[1].strip().lower()\n",
        "                        item_name = item_part.split('. ', 1)[-1] if '. ' in item_part else item_part\n",
        "                        if category in categories:\n",
        "                            labeled_items[item_name] = category\n",
        "\n",
        "        except Exception as e:\n",
        "            print(f\"Error in batch {i//batch_size}: {e}\")\n",
        "            continue\n",
        "\n",
        "    return labeled_items\n",
        "\n",
        "# Ambil items yang masih 'lain-lain' untuk di-label ulang dengan AI\n",
        "unlabeled_items = labels_df[labels_df['category'] == 'lain-lain']['item'].tolist()\n",
        "if unlabeled_items:\n",
        "    print(f\"Re-labeling {len(unlabeled_items)} items dengan AI...\")\n",
        "    ai_labels = ai_label_batch_groq(unlabeled_items[:100])  # Groq (gratis)\n",
        "\n",
        "    # Update labels\n",
        "    for item, category in ai_labels.items():\n",
        "      labels_df.loc[labels_df['item'] == item, 'category'] = category\n",
        "'''"
      ],
      "metadata": {
        "colab": {
          "base_uri": "https://localhost:8080/"
        },
        "id": "AMaE7DOoqmd_",
        "outputId": "8511d4e0-a916-4801-8262-fee9a03abfb8"
      },
      "execution_count": null,
      "outputs": [
        {
          "output_type": "stream",
          "name": "stdout",
          "text": [
            "Re-labeling 2868 items dengan AI...\n"
          ]
        }
      ]
    },
    {
      "cell_type": "code",
      "source": [
        "# Apply improved labeling\n",
        "#labels_df = pd.DataFrame({'item': df_items['item'].unique()})\n",
        "#labels_df['category'] = labels_df['item'].apply(improved_auto_label)\n",
        "\n",
        "#print(\"Distribusi kategori setelah improved labeling:\")\n",
        "#print(labels_df['category'].value_counts())"
      ],
      "metadata": {
        "colab": {
          "base_uri": "https://localhost:8080/"
        },
        "id": "ZxTXK6ZfuKzH",
        "outputId": "8c5c055e-8405-41f7-e798-833c0776acef"
      },
      "execution_count": null,
      "outputs": [
        {
          "output_type": "stream",
          "name": "stdout",
          "text": [
            "Distribusi kategori setelah improved labeling:\n",
            "category\n",
            "lain-lain     2868\n",
            "makanan       1424\n",
            "minuman       1044\n",
            "kesehatan      115\n",
            "elektronik      95\n",
            "fashion         75\n",
            "atk             72\n",
            "transport       59\n",
            "hiburan         11\n",
            "Name: count, dtype: int64\n"
          ]
        }
      ]
    },
    {
      "cell_type": "code",
      "source": [
        "# Save enhanced labels\n",
        "labels_df.to_csv('qrep_labels_enhanced.csv', index=False)"
      ],
      "metadata": {
        "id": "637x2c3guoWT"
      },
      "execution_count": null,
      "outputs": []
    },
    {
      "cell_type": "markdown",
      "source": [
        "# Text Augmentation"
      ],
      "metadata": {
        "id": "68CxfVC7u9TJ"
      }
    },
    {
      "cell_type": "code",
      "source": [
        "import nlpaug.augmenter.char as nac\n",
        "import nlpaug.augmenter.word as naw\n",
        "from typing import List\n",
        "\n",
        "class TextAugmenter:\n",
        "    def __init__(self):\n",
        "        # Character level augmenters\n",
        "        self.char_augmenters = [\n",
        "            nac.KeyboardAug(aug_char_max=2, aug_word_p=0.3),  # Typo keyboard\n",
        "            nac.OcrAug(aug_char_max=2, aug_word_p=0.3),       # OCR errors\n",
        "        ]\n",
        "\n",
        "        # Word level augmenters\n",
        "        self.word_augmenters = [\n",
        "            naw.SpellingAug(dict_path='/content/ocr_indonesia/spelling_dict.txt',\n",
        "                           aug_max=2) if os.path.exists('/content/ocr_indonesia/spelling_dict.txt') else None,\n",
        "            naw.SynonymAug(aug_src='wordnet', lang='ind') if False else None,  # Need Indonesian wordnet\n",
        "        ]\n",
        "\n",
        "        # Filter out None augmenters\n",
        "        self.word_augmenters = [aug for aug in self.word_augmenters if aug is not None]\n",
        "\n",
        "    def augment_text(self, text: str, num_augment: int = 2) -> List[str]:\n",
        "        \"\"\"Generate augmented versions of text\"\"\"\n",
        "        augmented_texts = [text]  # Include original\n",
        "\n",
        "        # Character augmentation (OCR errors simulation)\n",
        "        for aug in self.char_augmenters[:num_augment]:\n",
        "            try:\n",
        "                aug_text = aug.augment(text)\n",
        "                if isinstance(aug_text, list):\n",
        "                    augmented_texts.extend(aug_text[:1])\n",
        "                else:\n",
        "                    augmented_texts.append(aug_text)\n",
        "            except:\n",
        "                pass\n",
        "\n",
        "        # Simple augmentations for Indonesian text\n",
        "        # Lowercase/uppercase variations\n",
        "        augmented_texts.append(text.lower())\n",
        "        augmented_texts.append(text.upper())\n",
        "\n",
        "        # Remove spaces (common in receipts)\n",
        "        augmented_texts.append(text.replace(' ', ''))\n",
        "\n",
        "        # Add common receipt abbreviations\n",
        "        abbreviations = {\n",
        "            'ayam': ['aym', 'chkn', 'chicken'],\n",
        "            'goreng': ['grg', 'greng'],\n",
        "            'nasi': ['ns', 'nsi'],\n",
        "            'ikan': ['ikn'],\n",
        "            'kopi': ['coffee', 'kpi'],\n",
        "            'air': ['aqua', 'h2o']\n",
        "        }\n",
        "\n",
        "        words = text.lower().split()\n",
        "        for word, abbrevs in abbreviations.items():\n",
        "            if word in words:\n",
        "                for abbrev in abbrevs[:1]:  # Use only first abbreviation\n",
        "                    new_text = text.lower().replace(word, abbrev)\n",
        "                    augmented_texts.append(new_text)\n",
        "\n",
        "        # Remove duplicates and limit\n",
        "        augmented_texts = list(set(augmented_texts))[:num_augment + 1]\n",
        "\n",
        "        return augmented_texts"
      ],
      "metadata": {
        "id": "-KFJVkrPu_6M"
      },
      "execution_count": null,
      "outputs": []
    },
    {
      "cell_type": "code",
      "source": [
        "# Test augmenter\n",
        "augmenter = TextAugmenter()\n",
        "sample_items = [\"Nasi Goreng Ayam\", \"Es Teh Manis\", \"Kopi Susu\"]\n",
        "for item in sample_items:\n",
        "    print(f\"\\nOriginal: {item}\")\n",
        "    print(f\"Augmented: {augmenter.augment_text(item, num_augment=3)}\")"
      ],
      "metadata": {
        "colab": {
          "base_uri": "https://localhost:8080/"
        },
        "id": "QvJMZhPYvN3t",
        "outputId": "68c2b5c4-bda7-4250-c092-04a05b242e5f"
      },
      "execution_count": null,
      "outputs": [
        {
          "output_type": "stream",
          "name": "stdout",
          "text": [
            "\n",
            "Original: Nasi Goreng Ayam\n",
            "Augmented: ['nasi goreng ayam', 'Nasi Cokeng Ayam', 'Nasi horenh Ayam', 'Nasi Goreng Ayam']\n",
            "\n",
            "Original: Es Teh Manis\n",
            "Augmented: ['es teh manis', 'EsTehManis', 'Es Teh han8s', 'ES TEH MANIS']\n",
            "\n",
            "Original: Kopi Susu\n",
            "Augmented: ['Kopi So8u', 'KOPI SUSU', 'Kopi SHs8', 'coffee susu']\n"
          ]
        }
      ]
    },
    {
      "cell_type": "markdown",
      "source": [
        "# Prepare Augmented Dataset"
      ],
      "metadata": {
        "id": "UCkGhXT7vTm7"
      }
    },
    {
      "cell_type": "code",
      "source": [
        "from sklearn.preprocessing import LabelEncoder\n",
        "\n",
        "# Merge and create augmented dataset\n",
        "data = df_items.merge(labels_df, on=\"item\")\n",
        "\n",
        "# Create augmented training data\n",
        "augmented_rows = []\n",
        "for _, row in data.iterrows():\n",
        "    # Original\n",
        "    augmented_rows.append({\n",
        "        'item': row['item'],\n",
        "        'category': row['category'],\n",
        "        'is_augmented': False\n",
        "    })\n",
        "\n",
        "    # Augmented versions (only for training)\n",
        "    if row['category'] != 'lain-lain':  # Skip augmenting 'lain-lain'\n",
        "        aug_texts = augmenter.augment_text(row['item'], num_augment=2)\n",
        "        for aug_text in aug_texts[1:]:  # Skip original\n",
        "            augmented_rows.append({\n",
        "                'item': aug_text,\n",
        "                'category': row['category'],\n",
        "                'is_augmented': True\n",
        "            })\n",
        "\n",
        "augmented_df = pd.DataFrame(augmented_rows)\n",
        "print(f\"\\nTotal data setelah augmentasi: {len(augmented_df)}\")\n",
        "print(f\"Original: {len(augmented_df[~augmented_df['is_augmented']])}\")\n",
        "print(f\"Augmented: {len(augmented_df[augmented_df['is_augmented']])}\")\n",
        "\n",
        "# Encode labels\n",
        "le = LabelEncoder()\n",
        "\n",
        "# Fit dan transform kategori\n",
        "labels = np.array([\"lain-lain\",\n",
        "                   \"makanan\",\n",
        "                   \"minuman\",\n",
        "                   \"kesehatan\",\n",
        "                   \"elektronik\",\n",
        "                   \"fashion\",\n",
        "                   \"atk\",\n",
        "                   \"transport\",\n",
        "                   \"hiburan\"])\n",
        "\n",
        "le.fit(labels)\n",
        "augmented_df['label'] = le.transform(augmented_df['category'])\n",
        "\n",
        "# Split with stratification\n",
        "train_df, val_df = train_test_split(\n",
        "    augmented_df[~augmented_df['is_augmented']],  # Only original for validation\n",
        "    test_size=0.2,\n",
        "    stratify=augmented_df[~augmented_df['is_augmented']]['label'],\n",
        "    random_state=42\n",
        ")"
      ],
      "metadata": {
        "colab": {
          "base_uri": "https://localhost:8080/"
        },
        "id": "HJq229pMvWDF",
        "outputId": "326a6764-5b76-4272-caad-1a4c73f91e6d"
      },
      "execution_count": null,
      "outputs": [
        {
          "output_type": "stream",
          "name": "stdout",
          "text": [
            "\n",
            "Total data setelah augmentasi: 14304\n",
            "Original: 7038\n",
            "Augmented: 7266\n"
          ]
        }
      ]
    },
    {
      "cell_type": "code",
      "source": [
        "# Add augmented data only to training\n",
        "train_df = pd.concat([\n",
        "    train_df,\n",
        "    augmented_df[augmented_df['is_augmented']]\n",
        "])\n",
        "\n",
        "print(f\"\\nTrain size (with augmentation): {len(train_df)}\")\n",
        "print(f\"Val size (original only): {len(val_df)}\")"
      ],
      "metadata": {
        "colab": {
          "base_uri": "https://localhost:8080/"
        },
        "id": "TavYWMLxvbkT",
        "outputId": "a7688964-2107-44ee-bff0-d80a9ae4fbb7"
      },
      "execution_count": null,
      "outputs": [
        {
          "output_type": "stream",
          "name": "stdout",
          "text": [
            "\n",
            "Train size (with augmentation): 12896\n",
            "Val size (original only): 1408\n"
          ]
        }
      ]
    },
    {
      "cell_type": "markdown",
      "source": [
        "# Modeling"
      ],
      "metadata": {
        "id": "CZOEhkfpvjI4"
      }
    },
    {
      "cell_type": "code",
      "source": [
        "from tensorflow.keras import Input, Model\n",
        "from tensorflow.keras.layers import (\n",
        "    TextVectorization, Embedding, Bidirectional, LSTM, GRU,\n",
        "    Dense, Dropout, GlobalAveragePooling1D, LayerNormalization,\n",
        "    Concatenate\n",
        ")\n",
        "from tensorflow.keras.optimizers import AdamW\n",
        "from tensorflow.keras.callbacks import EarlyStopping, ReduceLROnPlateau, ModelCheckpoint\n",
        "import tensorflow as tf\n",
        "\n",
        "# Prepare data\n",
        "batch_size = 32\n",
        "AUTOTUNE = tf.data.AUTOTUNE\n",
        "\n",
        "def df_to_dataset(dataframe, shuffle=True):\n",
        "    ds = tf.data.Dataset.from_tensor_slices((\n",
        "        dataframe['item'].values,\n",
        "        dataframe['label'].values\n",
        "    ))\n",
        "    if shuffle:\n",
        "        ds = ds.shuffle(len(dataframe))\n",
        "    ds = ds.batch(batch_size).prefetch(AUTOTUNE)\n",
        "    return ds\n",
        "\n",
        "train_ds = df_to_dataset(train_df, shuffle=True)\n",
        "val_ds = df_to_dataset(val_df, shuffle=False)"
      ],
      "metadata": {
        "id": "PUIUWeN3vkom"
      },
      "execution_count": null,
      "outputs": []
    },
    {
      "cell_type": "code",
      "source": [
        "# Text vectorization with larger vocabulary\n",
        "max_vocab = 5000  # Increased from 2500\n",
        "max_len = 20      # Increased from 16\n",
        "\n",
        "vectorizer = TextVectorization(\n",
        "    max_tokens=max_vocab,\n",
        "    output_mode=\"int\",\n",
        "    output_sequence_length=max_len,\n",
        "    standardize='lower_and_strip_punctuation'\n",
        ")\n",
        "vectorizer.adapt(train_ds.map(lambda text, label: text))"
      ],
      "metadata": {
        "id": "sTdcHPXhvpk0"
      },
      "execution_count": null,
      "outputs": []
    },
    {
      "cell_type": "code",
      "source": [
        "# Build improved model with better regularization\n",
        "def build_improved_model(num_classes, vocab_size=max_vocab):\n",
        "    inputs = Input(shape=(1,), dtype=tf.string)\n",
        "\n",
        "    # Vectorization\n",
        "    x = vectorizer(inputs)\n",
        "\n",
        "    # Embedding with regularization\n",
        "    x = Embedding(\n",
        "        input_dim=vocab_size,\n",
        "        output_dim=64,  # Increased from 16\n",
        "        mask_zero=True,\n",
        "        embeddings_regularizer=tf.keras.regularizers.l2(1e-4)\n",
        "    )(x)\n",
        "\n",
        "    # Spatial Dropout (better for NLP)\n",
        "    x = tf.keras.layers.SpatialDropout1D(0.3)(x)\n",
        "\n",
        "    # Bidirectional LSTM with more units\n",
        "    lstm_out = Bidirectional(\n",
        "        LSTM(\n",
        "            32,  # Increased from 8\n",
        "            return_sequences=True,\n",
        "            dropout=0.3,\n",
        "            recurrent_dropout=0.2,\n",
        "            kernel_regularizer=tf.keras.regularizers.l2(1e-4)\n",
        "        )\n",
        "    )(x)\n",
        "\n",
        "    # Global pooling (better than just last output)\n",
        "    avg_pool = GlobalAveragePooling1D()(lstm_out)\n",
        "    max_pool = tf.keras.layers.GlobalMaxPooling1D()(lstm_out)\n",
        "\n",
        "    # Concatenate pooling\n",
        "    concat = Concatenate()([avg_pool, max_pool])\n",
        "\n",
        "    # Layer normalization\n",
        "    concat = LayerNormalization()(concat)\n",
        "\n",
        "    # Dense layers with dropout\n",
        "    x = Dense(\n",
        "        64,\n",
        "        activation='relu',\n",
        "        kernel_regularizer=tf.keras.regularizers.l2(1e-4)\n",
        "    )(concat)\n",
        "    x = Dropout(0.4)(x)\n",
        "\n",
        "    x = Dense(\n",
        "        32,\n",
        "        activation='relu',\n",
        "        kernel_regularizer=tf.keras.regularizers.l2(1e-4)\n",
        "    )(x)\n",
        "    x = Dropout(0.3)(x)\n",
        "\n",
        "    # Output layer\n",
        "    outputs = Dense(num_classes, activation='softmax')(x)\n",
        "\n",
        "    model = Model(inputs=inputs, outputs=outputs)\n",
        "\n",
        "    # Use AdamW optimizer (better for regularization)\n",
        "    optimizer = AdamW(\n",
        "        learning_rate=1e-3,\n",
        "        weight_decay=1e-4\n",
        "    )\n",
        "\n",
        "    model.compile(\n",
        "        optimizer=optimizer,\n",
        "        loss='sparse_categorical_crossentropy',\n",
        "        metrics=['accuracy']\n",
        "    )\n",
        "\n",
        "    return model"
      ],
      "metadata": {
        "id": "RYsiicczvtOv"
      },
      "execution_count": null,
      "outputs": []
    },
    {
      "cell_type": "code",
      "source": [
        "# Build and summarize model\n",
        "num_classes = len(le.classes_)\n",
        "model = build_improved_model(num_classes)\n",
        "model.summary()"
      ],
      "metadata": {
        "colab": {
          "base_uri": "https://localhost:8080/",
          "height": 829
        },
        "id": "igARVn-kvwad",
        "outputId": "a1a9018f-7bbf-47d1-ffd6-661c033dda76"
      },
      "execution_count": null,
      "outputs": [
        {
          "output_type": "stream",
          "name": "stderr",
          "text": [
            "/usr/local/lib/python3.11/dist-packages/keras/src/layers/layer.py:938: UserWarning: Layer 'global_max_pooling1d' (of type GlobalMaxPooling1D) was passed an input with a mask attached to it. However, this layer does not support masking and will therefore destroy the mask information. Downstream layers will not see the mask.\n",
            "  warnings.warn(\n"
          ]
        },
        {
          "output_type": "display_data",
          "data": {
            "text/plain": [
              "\u001b[1mModel: \"functional\"\u001b[0m\n"
            ],
            "text/html": [
              "<pre style=\"white-space:pre;overflow-x:auto;line-height:normal;font-family:Menlo,'DejaVu Sans Mono',consolas,'Courier New',monospace\"><span style=\"font-weight: bold\">Model: \"functional\"</span>\n",
              "</pre>\n"
            ]
          },
          "metadata": {}
        },
        {
          "output_type": "display_data",
          "data": {
            "text/plain": [
              "┏━━━━━━━━━━━━━━━━━━━━━┳━━━━━━━━━━━━━━━━━━━┳━━━━━━━━━━━━┳━━━━━━━━━━━━━━━━━━━┓\n",
              "┃\u001b[1m \u001b[0m\u001b[1mLayer (type)       \u001b[0m\u001b[1m \u001b[0m┃\u001b[1m \u001b[0m\u001b[1mOutput Shape     \u001b[0m\u001b[1m \u001b[0m┃\u001b[1m \u001b[0m\u001b[1m   Param #\u001b[0m\u001b[1m \u001b[0m┃\u001b[1m \u001b[0m\u001b[1mConnected to     \u001b[0m\u001b[1m \u001b[0m┃\n",
              "┡━━━━━━━━━━━━━━━━━━━━━╇━━━━━━━━━━━━━━━━━━━╇━━━━━━━━━━━━╇━━━━━━━━━━━━━━━━━━━┩\n",
              "│ input_layer         │ (\u001b[38;5;45mNone\u001b[0m, \u001b[38;5;34m1\u001b[0m)         │          \u001b[38;5;34m0\u001b[0m │ -                 │\n",
              "│ (\u001b[38;5;33mInputLayer\u001b[0m)        │                   │            │                   │\n",
              "├─────────────────────┼───────────────────┼────────────┼───────────────────┤\n",
              "│ text_vectorization  │ (\u001b[38;5;45mNone\u001b[0m, \u001b[38;5;34m20\u001b[0m)        │          \u001b[38;5;34m0\u001b[0m │ input_layer[\u001b[38;5;34m0\u001b[0m][\u001b[38;5;34m0\u001b[0m] │\n",
              "│ (\u001b[38;5;33mTextVectorization\u001b[0m) │                   │            │                   │\n",
              "├─────────────────────┼───────────────────┼────────────┼───────────────────┤\n",
              "│ embedding           │ (\u001b[38;5;45mNone\u001b[0m, \u001b[38;5;34m20\u001b[0m, \u001b[38;5;34m64\u001b[0m)    │    \u001b[38;5;34m320,000\u001b[0m │ text_vectorizati… │\n",
              "│ (\u001b[38;5;33mEmbedding\u001b[0m)         │                   │            │                   │\n",
              "├─────────────────────┼───────────────────┼────────────┼───────────────────┤\n",
              "│ spatial_dropout1d   │ (\u001b[38;5;45mNone\u001b[0m, \u001b[38;5;34m20\u001b[0m, \u001b[38;5;34m64\u001b[0m)    │          \u001b[38;5;34m0\u001b[0m │ embedding[\u001b[38;5;34m0\u001b[0m][\u001b[38;5;34m0\u001b[0m]   │\n",
              "│ (\u001b[38;5;33mSpatialDropout1D\u001b[0m)  │                   │            │                   │\n",
              "├─────────────────────┼───────────────────┼────────────┼───────────────────┤\n",
              "│ not_equal           │ (\u001b[38;5;45mNone\u001b[0m, \u001b[38;5;34m20\u001b[0m)        │          \u001b[38;5;34m0\u001b[0m │ text_vectorizati… │\n",
              "│ (\u001b[38;5;33mNotEqual\u001b[0m)          │                   │            │                   │\n",
              "├─────────────────────┼───────────────────┼────────────┼───────────────────┤\n",
              "│ bidirectional       │ (\u001b[38;5;45mNone\u001b[0m, \u001b[38;5;34m20\u001b[0m, \u001b[38;5;34m64\u001b[0m)    │     \u001b[38;5;34m24,832\u001b[0m │ spatial_dropout1… │\n",
              "│ (\u001b[38;5;33mBidirectional\u001b[0m)     │                   │            │ not_equal[\u001b[38;5;34m0\u001b[0m][\u001b[38;5;34m0\u001b[0m]   │\n",
              "├─────────────────────┼───────────────────┼────────────┼───────────────────┤\n",
              "│ global_average_poo… │ (\u001b[38;5;45mNone\u001b[0m, \u001b[38;5;34m64\u001b[0m)        │          \u001b[38;5;34m0\u001b[0m │ bidirectional[\u001b[38;5;34m0\u001b[0m]… │\n",
              "│ (\u001b[38;5;33mGlobalAveragePool…\u001b[0m │                   │            │ not_equal[\u001b[38;5;34m0\u001b[0m][\u001b[38;5;34m0\u001b[0m]   │\n",
              "├─────────────────────┼───────────────────┼────────────┼───────────────────┤\n",
              "│ global_max_pooling… │ (\u001b[38;5;45mNone\u001b[0m, \u001b[38;5;34m64\u001b[0m)        │          \u001b[38;5;34m0\u001b[0m │ bidirectional[\u001b[38;5;34m0\u001b[0m]… │\n",
              "│ (\u001b[38;5;33mGlobalMaxPooling1…\u001b[0m │                   │            │                   │\n",
              "├─────────────────────┼───────────────────┼────────────┼───────────────────┤\n",
              "│ concatenate         │ (\u001b[38;5;45mNone\u001b[0m, \u001b[38;5;34m128\u001b[0m)       │          \u001b[38;5;34m0\u001b[0m │ global_average_p… │\n",
              "│ (\u001b[38;5;33mConcatenate\u001b[0m)       │                   │            │ global_max_pooli… │\n",
              "├─────────────────────┼───────────────────┼────────────┼───────────────────┤\n",
              "│ layer_normalization │ (\u001b[38;5;45mNone\u001b[0m, \u001b[38;5;34m128\u001b[0m)       │        \u001b[38;5;34m256\u001b[0m │ concatenate[\u001b[38;5;34m0\u001b[0m][\u001b[38;5;34m0\u001b[0m] │\n",
              "│ (\u001b[38;5;33mLayerNormalizatio…\u001b[0m │                   │            │                   │\n",
              "├─────────────────────┼───────────────────┼────────────┼───────────────────┤\n",
              "│ dense (\u001b[38;5;33mDense\u001b[0m)       │ (\u001b[38;5;45mNone\u001b[0m, \u001b[38;5;34m64\u001b[0m)        │      \u001b[38;5;34m8,256\u001b[0m │ layer_normalizat… │\n",
              "├─────────────────────┼───────────────────┼────────────┼───────────────────┤\n",
              "│ dropout (\u001b[38;5;33mDropout\u001b[0m)   │ (\u001b[38;5;45mNone\u001b[0m, \u001b[38;5;34m64\u001b[0m)        │          \u001b[38;5;34m0\u001b[0m │ dense[\u001b[38;5;34m0\u001b[0m][\u001b[38;5;34m0\u001b[0m]       │\n",
              "├─────────────────────┼───────────────────┼────────────┼───────────────────┤\n",
              "│ dense_1 (\u001b[38;5;33mDense\u001b[0m)     │ (\u001b[38;5;45mNone\u001b[0m, \u001b[38;5;34m32\u001b[0m)        │      \u001b[38;5;34m2,080\u001b[0m │ dropout[\u001b[38;5;34m0\u001b[0m][\u001b[38;5;34m0\u001b[0m]     │\n",
              "├─────────────────────┼───────────────────┼────────────┼───────────────────┤\n",
              "│ dropout_1 (\u001b[38;5;33mDropout\u001b[0m) │ (\u001b[38;5;45mNone\u001b[0m, \u001b[38;5;34m32\u001b[0m)        │          \u001b[38;5;34m0\u001b[0m │ dense_1[\u001b[38;5;34m0\u001b[0m][\u001b[38;5;34m0\u001b[0m]     │\n",
              "├─────────────────────┼───────────────────┼────────────┼───────────────────┤\n",
              "│ dense_2 (\u001b[38;5;33mDense\u001b[0m)     │ (\u001b[38;5;45mNone\u001b[0m, \u001b[38;5;34m9\u001b[0m)         │        \u001b[38;5;34m297\u001b[0m │ dropout_1[\u001b[38;5;34m0\u001b[0m][\u001b[38;5;34m0\u001b[0m]   │\n",
              "└─────────────────────┴───────────────────┴────────────┴───────────────────┘\n"
            ],
            "text/html": [
              "<pre style=\"white-space:pre;overflow-x:auto;line-height:normal;font-family:Menlo,'DejaVu Sans Mono',consolas,'Courier New',monospace\">┏━━━━━━━━━━━━━━━━━━━━━┳━━━━━━━━━━━━━━━━━━━┳━━━━━━━━━━━━┳━━━━━━━━━━━━━━━━━━━┓\n",
              "┃<span style=\"font-weight: bold\"> Layer (type)        </span>┃<span style=\"font-weight: bold\"> Output Shape      </span>┃<span style=\"font-weight: bold\">    Param # </span>┃<span style=\"font-weight: bold\"> Connected to      </span>┃\n",
              "┡━━━━━━━━━━━━━━━━━━━━━╇━━━━━━━━━━━━━━━━━━━╇━━━━━━━━━━━━╇━━━━━━━━━━━━━━━━━━━┩\n",
              "│ input_layer         │ (<span style=\"color: #00d7ff; text-decoration-color: #00d7ff\">None</span>, <span style=\"color: #00af00; text-decoration-color: #00af00\">1</span>)         │          <span style=\"color: #00af00; text-decoration-color: #00af00\">0</span> │ -                 │\n",
              "│ (<span style=\"color: #0087ff; text-decoration-color: #0087ff\">InputLayer</span>)        │                   │            │                   │\n",
              "├─────────────────────┼───────────────────┼────────────┼───────────────────┤\n",
              "│ text_vectorization  │ (<span style=\"color: #00d7ff; text-decoration-color: #00d7ff\">None</span>, <span style=\"color: #00af00; text-decoration-color: #00af00\">20</span>)        │          <span style=\"color: #00af00; text-decoration-color: #00af00\">0</span> │ input_layer[<span style=\"color: #00af00; text-decoration-color: #00af00\">0</span>][<span style=\"color: #00af00; text-decoration-color: #00af00\">0</span>] │\n",
              "│ (<span style=\"color: #0087ff; text-decoration-color: #0087ff\">TextVectorization</span>) │                   │            │                   │\n",
              "├─────────────────────┼───────────────────┼────────────┼───────────────────┤\n",
              "│ embedding           │ (<span style=\"color: #00d7ff; text-decoration-color: #00d7ff\">None</span>, <span style=\"color: #00af00; text-decoration-color: #00af00\">20</span>, <span style=\"color: #00af00; text-decoration-color: #00af00\">64</span>)    │    <span style=\"color: #00af00; text-decoration-color: #00af00\">320,000</span> │ text_vectorizati… │\n",
              "│ (<span style=\"color: #0087ff; text-decoration-color: #0087ff\">Embedding</span>)         │                   │            │                   │\n",
              "├─────────────────────┼───────────────────┼────────────┼───────────────────┤\n",
              "│ spatial_dropout1d   │ (<span style=\"color: #00d7ff; text-decoration-color: #00d7ff\">None</span>, <span style=\"color: #00af00; text-decoration-color: #00af00\">20</span>, <span style=\"color: #00af00; text-decoration-color: #00af00\">64</span>)    │          <span style=\"color: #00af00; text-decoration-color: #00af00\">0</span> │ embedding[<span style=\"color: #00af00; text-decoration-color: #00af00\">0</span>][<span style=\"color: #00af00; text-decoration-color: #00af00\">0</span>]   │\n",
              "│ (<span style=\"color: #0087ff; text-decoration-color: #0087ff\">SpatialDropout1D</span>)  │                   │            │                   │\n",
              "├─────────────────────┼───────────────────┼────────────┼───────────────────┤\n",
              "│ not_equal           │ (<span style=\"color: #00d7ff; text-decoration-color: #00d7ff\">None</span>, <span style=\"color: #00af00; text-decoration-color: #00af00\">20</span>)        │          <span style=\"color: #00af00; text-decoration-color: #00af00\">0</span> │ text_vectorizati… │\n",
              "│ (<span style=\"color: #0087ff; text-decoration-color: #0087ff\">NotEqual</span>)          │                   │            │                   │\n",
              "├─────────────────────┼───────────────────┼────────────┼───────────────────┤\n",
              "│ bidirectional       │ (<span style=\"color: #00d7ff; text-decoration-color: #00d7ff\">None</span>, <span style=\"color: #00af00; text-decoration-color: #00af00\">20</span>, <span style=\"color: #00af00; text-decoration-color: #00af00\">64</span>)    │     <span style=\"color: #00af00; text-decoration-color: #00af00\">24,832</span> │ spatial_dropout1… │\n",
              "│ (<span style=\"color: #0087ff; text-decoration-color: #0087ff\">Bidirectional</span>)     │                   │            │ not_equal[<span style=\"color: #00af00; text-decoration-color: #00af00\">0</span>][<span style=\"color: #00af00; text-decoration-color: #00af00\">0</span>]   │\n",
              "├─────────────────────┼───────────────────┼────────────┼───────────────────┤\n",
              "│ global_average_poo… │ (<span style=\"color: #00d7ff; text-decoration-color: #00d7ff\">None</span>, <span style=\"color: #00af00; text-decoration-color: #00af00\">64</span>)        │          <span style=\"color: #00af00; text-decoration-color: #00af00\">0</span> │ bidirectional[<span style=\"color: #00af00; text-decoration-color: #00af00\">0</span>]… │\n",
              "│ (<span style=\"color: #0087ff; text-decoration-color: #0087ff\">GlobalAveragePool…</span> │                   │            │ not_equal[<span style=\"color: #00af00; text-decoration-color: #00af00\">0</span>][<span style=\"color: #00af00; text-decoration-color: #00af00\">0</span>]   │\n",
              "├─────────────────────┼───────────────────┼────────────┼───────────────────┤\n",
              "│ global_max_pooling… │ (<span style=\"color: #00d7ff; text-decoration-color: #00d7ff\">None</span>, <span style=\"color: #00af00; text-decoration-color: #00af00\">64</span>)        │          <span style=\"color: #00af00; text-decoration-color: #00af00\">0</span> │ bidirectional[<span style=\"color: #00af00; text-decoration-color: #00af00\">0</span>]… │\n",
              "│ (<span style=\"color: #0087ff; text-decoration-color: #0087ff\">GlobalMaxPooling1…</span> │                   │            │                   │\n",
              "├─────────────────────┼───────────────────┼────────────┼───────────────────┤\n",
              "│ concatenate         │ (<span style=\"color: #00d7ff; text-decoration-color: #00d7ff\">None</span>, <span style=\"color: #00af00; text-decoration-color: #00af00\">128</span>)       │          <span style=\"color: #00af00; text-decoration-color: #00af00\">0</span> │ global_average_p… │\n",
              "│ (<span style=\"color: #0087ff; text-decoration-color: #0087ff\">Concatenate</span>)       │                   │            │ global_max_pooli… │\n",
              "├─────────────────────┼───────────────────┼────────────┼───────────────────┤\n",
              "│ layer_normalization │ (<span style=\"color: #00d7ff; text-decoration-color: #00d7ff\">None</span>, <span style=\"color: #00af00; text-decoration-color: #00af00\">128</span>)       │        <span style=\"color: #00af00; text-decoration-color: #00af00\">256</span> │ concatenate[<span style=\"color: #00af00; text-decoration-color: #00af00\">0</span>][<span style=\"color: #00af00; text-decoration-color: #00af00\">0</span>] │\n",
              "│ (<span style=\"color: #0087ff; text-decoration-color: #0087ff\">LayerNormalizatio…</span> │                   │            │                   │\n",
              "├─────────────────────┼───────────────────┼────────────┼───────────────────┤\n",
              "│ dense (<span style=\"color: #0087ff; text-decoration-color: #0087ff\">Dense</span>)       │ (<span style=\"color: #00d7ff; text-decoration-color: #00d7ff\">None</span>, <span style=\"color: #00af00; text-decoration-color: #00af00\">64</span>)        │      <span style=\"color: #00af00; text-decoration-color: #00af00\">8,256</span> │ layer_normalizat… │\n",
              "├─────────────────────┼───────────────────┼────────────┼───────────────────┤\n",
              "│ dropout (<span style=\"color: #0087ff; text-decoration-color: #0087ff\">Dropout</span>)   │ (<span style=\"color: #00d7ff; text-decoration-color: #00d7ff\">None</span>, <span style=\"color: #00af00; text-decoration-color: #00af00\">64</span>)        │          <span style=\"color: #00af00; text-decoration-color: #00af00\">0</span> │ dense[<span style=\"color: #00af00; text-decoration-color: #00af00\">0</span>][<span style=\"color: #00af00; text-decoration-color: #00af00\">0</span>]       │\n",
              "├─────────────────────┼───────────────────┼────────────┼───────────────────┤\n",
              "│ dense_1 (<span style=\"color: #0087ff; text-decoration-color: #0087ff\">Dense</span>)     │ (<span style=\"color: #00d7ff; text-decoration-color: #00d7ff\">None</span>, <span style=\"color: #00af00; text-decoration-color: #00af00\">32</span>)        │      <span style=\"color: #00af00; text-decoration-color: #00af00\">2,080</span> │ dropout[<span style=\"color: #00af00; text-decoration-color: #00af00\">0</span>][<span style=\"color: #00af00; text-decoration-color: #00af00\">0</span>]     │\n",
              "├─────────────────────┼───────────────────┼────────────┼───────────────────┤\n",
              "│ dropout_1 (<span style=\"color: #0087ff; text-decoration-color: #0087ff\">Dropout</span>) │ (<span style=\"color: #00d7ff; text-decoration-color: #00d7ff\">None</span>, <span style=\"color: #00af00; text-decoration-color: #00af00\">32</span>)        │          <span style=\"color: #00af00; text-decoration-color: #00af00\">0</span> │ dense_1[<span style=\"color: #00af00; text-decoration-color: #00af00\">0</span>][<span style=\"color: #00af00; text-decoration-color: #00af00\">0</span>]     │\n",
              "├─────────────────────┼───────────────────┼────────────┼───────────────────┤\n",
              "│ dense_2 (<span style=\"color: #0087ff; text-decoration-color: #0087ff\">Dense</span>)     │ (<span style=\"color: #00d7ff; text-decoration-color: #00d7ff\">None</span>, <span style=\"color: #00af00; text-decoration-color: #00af00\">9</span>)         │        <span style=\"color: #00af00; text-decoration-color: #00af00\">297</span> │ dropout_1[<span style=\"color: #00af00; text-decoration-color: #00af00\">0</span>][<span style=\"color: #00af00; text-decoration-color: #00af00\">0</span>]   │\n",
              "└─────────────────────┴───────────────────┴────────────┴───────────────────┘\n",
              "</pre>\n"
            ]
          },
          "metadata": {}
        },
        {
          "output_type": "display_data",
          "data": {
            "text/plain": [
              "\u001b[1m Total params: \u001b[0m\u001b[38;5;34m355,721\u001b[0m (1.36 MB)\n"
            ],
            "text/html": [
              "<pre style=\"white-space:pre;overflow-x:auto;line-height:normal;font-family:Menlo,'DejaVu Sans Mono',consolas,'Courier New',monospace\"><span style=\"font-weight: bold\"> Total params: </span><span style=\"color: #00af00; text-decoration-color: #00af00\">355,721</span> (1.36 MB)\n",
              "</pre>\n"
            ]
          },
          "metadata": {}
        },
        {
          "output_type": "display_data",
          "data": {
            "text/plain": [
              "\u001b[1m Trainable params: \u001b[0m\u001b[38;5;34m355,721\u001b[0m (1.36 MB)\n"
            ],
            "text/html": [
              "<pre style=\"white-space:pre;overflow-x:auto;line-height:normal;font-family:Menlo,'DejaVu Sans Mono',consolas,'Courier New',monospace\"><span style=\"font-weight: bold\"> Trainable params: </span><span style=\"color: #00af00; text-decoration-color: #00af00\">355,721</span> (1.36 MB)\n",
              "</pre>\n"
            ]
          },
          "metadata": {}
        },
        {
          "output_type": "display_data",
          "data": {
            "text/plain": [
              "\u001b[1m Non-trainable params: \u001b[0m\u001b[38;5;34m0\u001b[0m (0.00 B)\n"
            ],
            "text/html": [
              "<pre style=\"white-space:pre;overflow-x:auto;line-height:normal;font-family:Menlo,'DejaVu Sans Mono',consolas,'Courier New',monospace\"><span style=\"font-weight: bold\"> Non-trainable params: </span><span style=\"color: #00af00; text-decoration-color: #00af00\">0</span> (0.00 B)\n",
              "</pre>\n"
            ]
          },
          "metadata": {}
        }
      ]
    },
    {
      "cell_type": "code",
      "source": [
        "# Enhanced callbacks\n",
        "callbacks = [\n",
        "    EarlyStopping(\n",
        "        monitor='val_loss',\n",
        "        patience=5,  # Increased patience\n",
        "        restore_best_weights=True,\n",
        "        verbose=1\n",
        "    ),\n",
        "    ReduceLROnPlateau(\n",
        "        monitor='val_loss',\n",
        "        factor=0.5,\n",
        "        patience=3,\n",
        "        min_lr=1e-6,\n",
        "        verbose=1\n",
        "    ),\n",
        "    ModelCheckpoint(\n",
        "        'best_model_improved.h5',\n",
        "        monitor='val_loss',\n",
        "        save_best_only=True,\n",
        "        verbose=1\n",
        "    )\n",
        "]\n",
        "\n",
        "# Train with more epochs\n",
        "epochs = 50  # Increased, early stopping will handle\n",
        "history = model.fit(\n",
        "    train_ds,\n",
        "    validation_data=val_ds,\n",
        "    epochs=epochs,\n",
        "    callbacks=callbacks,\n",
        "    verbose=1\n",
        ")"
      ],
      "metadata": {
        "colab": {
          "base_uri": "https://localhost:8080/"
        },
        "id": "fYmeog7kvyaA",
        "outputId": "0a21e9d6-e7fe-4fc9-98f1-d235e1f39c4d"
      },
      "execution_count": null,
      "outputs": [
        {
          "output_type": "stream",
          "name": "stdout",
          "text": [
            "Epoch 1/50\n",
            "\u001b[1m403/403\u001b[0m \u001b[32m━━━━━━━━━━━━━━━━━━━━\u001b[0m\u001b[37m\u001b[0m \u001b[1m0s\u001b[0m 174ms/step - accuracy: 0.3304 - loss: 1.7410\n",
            "Epoch 1: val_loss improved from inf to 0.96760, saving model to best_model_improved.h5\n"
          ]
        },
        {
          "output_type": "stream",
          "name": "stderr",
          "text": [
            "WARNING:absl:You are saving your model as an HDF5 file via `model.save()` or `keras.saving.save_model(model)`. This file format is considered legacy. We recommend using instead the native Keras format, e.g. `model.save('my_model.keras')` or `keras.saving.save_model(model, 'my_model.keras')`. \n"
          ]
        },
        {
          "output_type": "stream",
          "name": "stdout",
          "text": [
            "\b\b\b\b\b\b\b\b\b\b\b\b\b\b\b\b\b\b\b\b\b\b\b\b\b\b\b\b\b\b\b\b\b\b\b\b\b\b\b\b\b\b\b\b\b\b\b\b\b\b\b\b\b\b\b\b\b\b\b\b\b\b\b\b\b\b\b\b\b\b\b\b\b\b\b\b\r\u001b[1m403/403\u001b[0m \u001b[32m━━━━━━━━━━━━━━━━━━━━\u001b[0m\u001b[37m\u001b[0m \u001b[1m89s\u001b[0m 180ms/step - accuracy: 0.3307 - loss: 1.7402 - val_accuracy: 0.7749 - val_loss: 0.9676 - learning_rate: 0.0010\n",
            "Epoch 2/50\n",
            "\u001b[1m403/403\u001b[0m \u001b[32m━━━━━━━━━━━━━━━━━━━━\u001b[0m\u001b[37m\u001b[0m \u001b[1m0s\u001b[0m 170ms/step - accuracy: 0.7276 - loss: 0.7987\n",
            "Epoch 2: val_loss improved from 0.96760 to 0.73743, saving model to best_model_improved.h5\n"
          ]
        },
        {
          "output_type": "stream",
          "name": "stderr",
          "text": [
            "WARNING:absl:You are saving your model as an HDF5 file via `model.save()` or `keras.saving.save_model(model)`. This file format is considered legacy. We recommend using instead the native Keras format, e.g. `model.save('my_model.keras')` or `keras.saving.save_model(model, 'my_model.keras')`. \n"
          ]
        },
        {
          "output_type": "stream",
          "name": "stdout",
          "text": [
            "\b\b\b\b\b\b\b\b\b\b\b\b\b\b\b\b\b\b\b\b\b\b\b\b\b\b\b\b\b\b\b\b\b\b\b\b\b\b\b\b\b\b\b\b\b\b\b\b\b\b\b\b\b\b\b\b\b\b\b\b\b\b\b\b\b\b\b\b\b\b\b\b\b\b\b\b\r\u001b[1m403/403\u001b[0m \u001b[32m━━━━━━━━━━━━━━━━━━━━\u001b[0m\u001b[37m\u001b[0m \u001b[1m70s\u001b[0m 173ms/step - accuracy: 0.7276 - loss: 0.7986 - val_accuracy: 0.8288 - val_loss: 0.7374 - learning_rate: 0.0010\n",
            "Epoch 3/50\n",
            "\u001b[1m403/403\u001b[0m \u001b[32m━━━━━━━━━━━━━━━━━━━━\u001b[0m\u001b[37m\u001b[0m \u001b[1m0s\u001b[0m 174ms/step - accuracy: 0.7906 - loss: 0.5872\n",
            "Epoch 3: val_loss improved from 0.73743 to 0.72319, saving model to best_model_improved.h5\n"
          ]
        },
        {
          "output_type": "stream",
          "name": "stderr",
          "text": [
            "WARNING:absl:You are saving your model as an HDF5 file via `model.save()` or `keras.saving.save_model(model)`. This file format is considered legacy. We recommend using instead the native Keras format, e.g. `model.save('my_model.keras')` or `keras.saving.save_model(model, 'my_model.keras')`. \n"
          ]
        },
        {
          "output_type": "stream",
          "name": "stdout",
          "text": [
            "\b\b\b\b\b\b\b\b\b\b\b\b\b\b\b\b\b\b\b\b\b\b\b\b\b\b\b\b\b\b\b\b\b\b\b\b\b\b\b\b\b\b\b\b\b\b\b\b\b\b\b\b\b\b\b\b\b\b\b\b\b\b\b\b\b\b\b\b\b\b\b\b\b\b\b\b\r\u001b[1m403/403\u001b[0m \u001b[32m━━━━━━━━━━━━━━━━━━━━\u001b[0m\u001b[37m\u001b[0m \u001b[1m71s\u001b[0m 177ms/step - accuracy: 0.7906 - loss: 0.5872 - val_accuracy: 0.8381 - val_loss: 0.7232 - learning_rate: 0.0010\n",
            "Epoch 4/50\n",
            "\u001b[1m403/403\u001b[0m \u001b[32m━━━━━━━━━━━━━━━━━━━━\u001b[0m\u001b[37m\u001b[0m \u001b[1m0s\u001b[0m 169ms/step - accuracy: 0.8188 - loss: 0.4971\n",
            "Epoch 4: val_loss improved from 0.72319 to 0.69046, saving model to best_model_improved.h5\n"
          ]
        },
        {
          "output_type": "stream",
          "name": "stderr",
          "text": [
            "WARNING:absl:You are saving your model as an HDF5 file via `model.save()` or `keras.saving.save_model(model)`. This file format is considered legacy. We recommend using instead the native Keras format, e.g. `model.save('my_model.keras')` or `keras.saving.save_model(model, 'my_model.keras')`. \n"
          ]
        },
        {
          "output_type": "stream",
          "name": "stdout",
          "text": [
            "\b\b\b\b\b\b\b\b\b\b\b\b\b\b\b\b\b\b\b\b\b\b\b\b\b\b\b\b\b\b\b\b\b\b\b\b\b\b\b\b\b\b\b\b\b\b\b\b\b\b\b\b\b\b\b\b\b\b\b\b\b\b\b\b\b\b\b\b\b\b\b\b\b\b\b\b\r\u001b[1m403/403\u001b[0m \u001b[32m━━━━━━━━━━━━━━━━━━━━\u001b[0m\u001b[37m\u001b[0m \u001b[1m80s\u001b[0m 172ms/step - accuracy: 0.8188 - loss: 0.4971 - val_accuracy: 0.8516 - val_loss: 0.6905 - learning_rate: 0.0010\n",
            "Epoch 5/50\n",
            "\u001b[1m403/403\u001b[0m \u001b[32m━━━━━━━━━━━━━━━━━━━━\u001b[0m\u001b[37m\u001b[0m \u001b[1m0s\u001b[0m 171ms/step - accuracy: 0.8291 - loss: 0.4758\n",
            "Epoch 5: val_loss did not improve from 0.69046\n",
            "\u001b[1m403/403\u001b[0m \u001b[32m━━━━━━━━━━━━━━━━━━━━\u001b[0m\u001b[37m\u001b[0m \u001b[1m83s\u001b[0m 174ms/step - accuracy: 0.8291 - loss: 0.4758 - val_accuracy: 0.8501 - val_loss: 0.7173 - learning_rate: 0.0010\n",
            "Epoch 6/50\n",
            "\u001b[1m403/403\u001b[0m \u001b[32m━━━━━━━━━━━━━━━━━━━━\u001b[0m\u001b[37m\u001b[0m \u001b[1m0s\u001b[0m 171ms/step - accuracy: 0.8428 - loss: 0.4373\n",
            "Epoch 6: val_loss did not improve from 0.69046\n",
            "\u001b[1m403/403\u001b[0m \u001b[32m━━━━━━━━━━━━━━━━━━━━\u001b[0m\u001b[37m\u001b[0m \u001b[1m70s\u001b[0m 174ms/step - accuracy: 0.8428 - loss: 0.4373 - val_accuracy: 0.8572 - val_loss: 0.7367 - learning_rate: 0.0010\n",
            "Epoch 7/50\n",
            "\u001b[1m403/403\u001b[0m \u001b[32m━━━━━━━━━━━━━━━━━━━━\u001b[0m\u001b[37m\u001b[0m \u001b[1m0s\u001b[0m 167ms/step - accuracy: 0.8524 - loss: 0.4260\n",
            "Epoch 7: val_loss improved from 0.69046 to 0.68897, saving model to best_model_improved.h5\n"
          ]
        },
        {
          "output_type": "stream",
          "name": "stderr",
          "text": [
            "WARNING:absl:You are saving your model as an HDF5 file via `model.save()` or `keras.saving.save_model(model)`. This file format is considered legacy. We recommend using instead the native Keras format, e.g. `model.save('my_model.keras')` or `keras.saving.save_model(model, 'my_model.keras')`. \n"
          ]
        },
        {
          "output_type": "stream",
          "name": "stdout",
          "text": [
            "\b\b\b\b\b\b\b\b\b\b\b\b\b\b\b\b\b\b\b\b\b\b\b\b\b\b\b\b\b\b\b\b\b\b\b\b\b\b\b\b\b\b\b\b\b\b\b\b\b\b\b\b\b\b\b\b\b\b\b\b\b\b\b\b\b\b\b\b\b\b\b\b\b\b\b\b\r\u001b[1m403/403\u001b[0m \u001b[32m━━━━━━━━━━━━━━━━━━━━\u001b[0m\u001b[37m\u001b[0m \u001b[1m70s\u001b[0m 174ms/step - accuracy: 0.8524 - loss: 0.4260 - val_accuracy: 0.8587 - val_loss: 0.6890 - learning_rate: 0.0010\n",
            "Epoch 8/50\n",
            "\u001b[1m403/403\u001b[0m \u001b[32m━━━━━━━━━━━━━━━━━━━━\u001b[0m\u001b[37m\u001b[0m \u001b[1m0s\u001b[0m 169ms/step - accuracy: 0.8397 - loss: 0.4338\n",
            "Epoch 8: val_loss improved from 0.68897 to 0.68595, saving model to best_model_improved.h5\n"
          ]
        },
        {
          "output_type": "stream",
          "name": "stderr",
          "text": [
            "WARNING:absl:You are saving your model as an HDF5 file via `model.save()` or `keras.saving.save_model(model)`. This file format is considered legacy. We recommend using instead the native Keras format, e.g. `model.save('my_model.keras')` or `keras.saving.save_model(model, 'my_model.keras')`. \n"
          ]
        },
        {
          "output_type": "stream",
          "name": "stdout",
          "text": [
            "\b\b\b\b\b\b\b\b\b\b\b\b\b\b\b\b\b\b\b\b\b\b\b\b\b\b\b\b\b\b\b\b\b\b\b\b\b\b\b\b\b\b\b\b\b\b\b\b\b\b\b\b\b\b\b\b\b\b\b\b\b\b\b\b\b\b\b\b\b\b\b\b\b\b\b\b\r\u001b[1m403/403\u001b[0m \u001b[32m━━━━━━━━━━━━━━━━━━━━\u001b[0m\u001b[37m\u001b[0m \u001b[1m69s\u001b[0m 172ms/step - accuracy: 0.8397 - loss: 0.4338 - val_accuracy: 0.8558 - val_loss: 0.6860 - learning_rate: 0.0010\n",
            "Epoch 9/50\n",
            "\u001b[1m403/403\u001b[0m \u001b[32m━━━━━━━━━━━━━━━━━━━━\u001b[0m\u001b[37m\u001b[0m \u001b[1m0s\u001b[0m 179ms/step - accuracy: 0.8473 - loss: 0.4267\n",
            "Epoch 9: val_loss did not improve from 0.68595\n",
            "\u001b[1m403/403\u001b[0m \u001b[32m━━━━━━━━━━━━━━━━━━━━\u001b[0m\u001b[37m\u001b[0m \u001b[1m86s\u001b[0m 182ms/step - accuracy: 0.8473 - loss: 0.4267 - val_accuracy: 0.8608 - val_loss: 0.7122 - learning_rate: 0.0010\n",
            "Epoch 10/50\n",
            "\u001b[1m403/403\u001b[0m \u001b[32m━━━━━━━━━━━━━━━━━━━━\u001b[0m\u001b[37m\u001b[0m \u001b[1m0s\u001b[0m 171ms/step - accuracy: 0.8493 - loss: 0.4109\n",
            "Epoch 10: val_loss did not improve from 0.68595\n",
            "\u001b[1m403/403\u001b[0m \u001b[32m━━━━━━━━━━━━━━━━━━━━\u001b[0m\u001b[37m\u001b[0m \u001b[1m70s\u001b[0m 174ms/step - accuracy: 0.8493 - loss: 0.4109 - val_accuracy: 0.8523 - val_loss: 0.7075 - learning_rate: 0.0010\n",
            "Epoch 11/50\n",
            "\u001b[1m403/403\u001b[0m \u001b[32m━━━━━━━━━━━━━━━━━━━━\u001b[0m\u001b[37m\u001b[0m \u001b[1m0s\u001b[0m 186ms/step - accuracy: 0.8488 - loss: 0.4166\n",
            "Epoch 11: ReduceLROnPlateau reducing learning rate to 0.0005000000237487257.\n",
            "\n",
            "Epoch 11: val_loss did not improve from 0.68595\n",
            "\u001b[1m403/403\u001b[0m \u001b[32m━━━━━━━━━━━━━━━━━━━━\u001b[0m\u001b[37m\u001b[0m \u001b[1m88s\u001b[0m 189ms/step - accuracy: 0.8488 - loss: 0.4166 - val_accuracy: 0.8530 - val_loss: 0.7065 - learning_rate: 0.0010\n",
            "Epoch 12/50\n",
            "\u001b[1m403/403\u001b[0m \u001b[32m━━━━━━━━━━━━━━━━━━━━\u001b[0m\u001b[37m\u001b[0m \u001b[1m0s\u001b[0m 169ms/step - accuracy: 0.8493 - loss: 0.4184\n",
            "Epoch 12: val_loss did not improve from 0.68595\n",
            "\u001b[1m403/403\u001b[0m \u001b[32m━━━━━━━━━━━━━━━━━━━━\u001b[0m\u001b[37m\u001b[0m \u001b[1m70s\u001b[0m 172ms/step - accuracy: 0.8493 - loss: 0.4184 - val_accuracy: 0.8580 - val_loss: 0.6893 - learning_rate: 5.0000e-04\n",
            "Epoch 13/50\n",
            "\u001b[1m403/403\u001b[0m \u001b[32m━━━━━━━━━━━━━━━━━━━━\u001b[0m\u001b[37m\u001b[0m \u001b[1m0s\u001b[0m 169ms/step - accuracy: 0.8520 - loss: 0.4024\n",
            "Epoch 13: val_loss did not improve from 0.68595\n",
            "\u001b[1m403/403\u001b[0m \u001b[32m━━━━━━━━━━━━━━━━━━━━\u001b[0m\u001b[37m\u001b[0m \u001b[1m69s\u001b[0m 172ms/step - accuracy: 0.8520 - loss: 0.4023 - val_accuracy: 0.8537 - val_loss: 0.7287 - learning_rate: 5.0000e-04\n",
            "Epoch 13: early stopping\n",
            "Restoring model weights from the end of the best epoch: 8.\n"
          ]
        }
      ]
    },
    {
      "cell_type": "code",
      "source": [
        "# Plot results\n",
        "plt.figure(figsize=(12, 4))\n",
        "\n",
        "plt.subplot(1, 2, 1)\n",
        "plt.plot(history.history['loss'], label='train loss')\n",
        "plt.plot(history.history['val_loss'], label='val loss')\n",
        "plt.title('Loss over epochs')\n",
        "plt.xlabel('Epoch')\n",
        "plt.ylabel('Loss')\n",
        "plt.legend()\n",
        "plt.grid(True)\n",
        "\n",
        "plt.subplot(1, 2, 2)\n",
        "plt.plot(history.history['accuracy'], label='train acc')\n",
        "plt.plot(history.history['val_accuracy'], label='val acc')\n",
        "plt.title('Accuracy over epochs')\n",
        "plt.xlabel('Epoch')\n",
        "plt.ylabel('Accuracy')\n",
        "plt.legend()\n",
        "plt.grid(True)\n",
        "\n",
        "plt.tight_layout()\n",
        "plt.show()"
      ],
      "metadata": {
        "colab": {
          "base_uri": "https://localhost:8080/",
          "height": 342
        },
        "id": "5l4u5jGav5TG",
        "outputId": "4c22da6c-1114-47f9-dffb-a310ffc3af97"
      },
      "execution_count": null,
      "outputs": [
        {
          "output_type": "display_data",
          "data": {
            "text/plain": [
              "<Figure size 1200x400 with 2 Axes>"
            ],
            "image/png": "[encoded data removed]"
          },
          "metadata": {}
        }
      ]
    },
    {
      "cell_type": "code",
      "source": [
        "# Evaluate\n",
        "loss, acc = model.evaluate(val_ds)\n",
        "print(f\"\\nFinal validation loss: {loss:.3f}\")\n",
        "print(f\"Final validation accuracy: {acc:.3f}\")"
      ],
      "metadata": {
        "colab": {
          "base_uri": "https://localhost:8080/"
        },
        "id": "HMh010Cbv9ZN",
        "outputId": "e8dbd7f2-6177-4018-c776-11777d2ae94d"
      },
      "execution_count": null,
      "outputs": [
        {
          "output_type": "stream",
          "name": "stdout",
          "text": [
            "\u001b[1m44/44\u001b[0m \u001b[32m━━━━━━━━━━━━━━━━━━━━\u001b[0m\u001b[37m\u001b[0m \u001b[1m2s\u001b[0m 38ms/step - accuracy: 0.8674 - loss: 0.6642\n",
            "\n",
            "Final validation loss: 0.686\n",
            "Final validation accuracy: 0.856\n"
          ]
        }
      ]
    },
    {
      "cell_type": "code",
      "source": [
        "# Test predictions\n",
        "def predict_category(text):\n",
        "    logits = model.predict(tf.constant([text]), verbose=0)\n",
        "    idx = tf.argmax(logits[0]).numpy()\n",
        "    confidence = tf.nn.softmax(logits[0])[idx].numpy()\n",
        "    # le.inverse_transform untuk convert balik ke kategori\n",
        "    category = le.inverse_transform([idx])[0]\n",
        "    return category, confidence\n",
        "\n",
        "test_items = [\n",
        "    \"Nasi Campur Bali\",\n",
        "    \"AQUA 600ml\",\n",
        "    \"Pulpen Pilot\",\n",
        "    \"Go-Jek fee\",\n",
        "    \"Spotify Premium\",\n",
        "    \"Panadol Extra\",\n",
        "    \"Charger iPhone\",\n",
        "    \"Kaos Uniqlo\"\n",
        "]\n",
        "\n",
        "print(\"\\nTest predictions:\")\n",
        "for item in test_items:\n",
        "    category, conf = predict_category(item)\n",
        "    print(f\"{item:20} → {category:12} (confidence: {conf:.2%})\")"
      ],
      "metadata": {
        "colab": {
          "base_uri": "https://localhost:8080/"
        },
        "id": "p5FGXmVov_c_",
        "outputId": "1479df85-71e5-4a08-ca7c-13b0cf5c796f"
      },
      "execution_count": null,
      "outputs": [
        {
          "output_type": "stream",
          "name": "stdout",
          "text": [
            "\n",
            "Test predictions:\n",
            "Nasi Campur Bali     → makanan      (confidence: 25.36%)\n",
            "AQUA 600ml           → minuman      (confidence: 25.36%)\n",
            "Pulpen Pilot         → lain-lain    (confidence: 14.39%)\n",
            "Go-Jek fee           → lain-lain    (confidence: 14.39%)\n",
            "Spotify Premium      → makanan      (confidence: 25.36%)\n",
            "Panadol Extra        → lain-lain    (confidence: 24.04%)\n",
            "Charger iPhone       → lain-lain    (confidence: 14.39%)\n",
            "Kaos Uniqlo          → lain-lain    (confidence: 14.39%)\n"
          ]
        }
      ]
    },
    {
      "cell_type": "markdown",
      "source": [
        "# Using Transformers (IndoBERT)"
      ],
      "metadata": {
        "id": "_FKkDKCEwDKS"
      }
    },
    {
      "cell_type": "code",
      "source": [
        "import transformers\n",
        "print(f\"Transformers version: {transformers.__version__}\")"
      ],
      "metadata": {
        "colab": {
          "base_uri": "https://localhost:8080/"
        },
        "id": "E2whUQpczvdV",
        "outputId": "e6042017-6509-4c56-be52-5fef4226c3ba"
      },
      "execution_count": null,
      "outputs": [
        {
          "output_type": "stream",
          "name": "stdout",
          "text": [
            "Transformers version: 4.52.4\n"
          ]
        }
      ]
    },
    {
      "cell_type": "code",
      "source": [
        "# Simplified transformer training without using datasets library\n",
        "import torch\n",
        "import torch.nn as nn\n",
        "from torch.utils.data import Dataset, DataLoader\n",
        "from transformers import AutoTokenizer, AutoModelForSequenceClassification\n",
        "from tqdm import tqdm\n",
        "import numpy as np\n",
        "\n",
        "# Fix numpy issue first\n",
        "try:\n",
        "    import numpy as np\n",
        "    print(f\"NumPy version: {np.__version__}\")\n",
        "    if np.__version__.startswith('2.'):\n",
        "        print(\"Downgrading NumPy to avoid compatibility issues...\")\n",
        "        !pip install numpy==1.26.4 --force-reinstall --quiet\n",
        "        import numpy as np\n",
        "        print(f\"NumPy version after downgrade: {np.__version__}\")\n",
        "except:\n",
        "    pass\n",
        "\n",
        "# TAMBAHAN: Load IndoBERT tokenizer dan model sebelum create dataset\n",
        "print(\"Loading IndoBERT tokenizer and model...\")\n",
        "model_name = \"indolem/indobert-base-uncased\"\n",
        "\n",
        "# Load tokenizer\n",
        "tokenizer = AutoTokenizer.from_pretrained(model_name)\n",
        "\n",
        "# Load model untuk classification - UBAH: gunakan len(le.classes_) bukan len(label2idx)\n",
        "num_classes = len(le.classes_)  # GANTI dari len(label2idx)\n",
        "model_transformer = AutoModelForSequenceClassification.from_pretrained(\n",
        "    model_name,\n",
        "    num_labels=num_classes\n",
        ")\n",
        "\n",
        "print(f\"Loaded IndoBERT with {num_classes} classes\")\n",
        "print(f\"Tokenizer vocab size: {tokenizer.vocab_size}\")\n",
        "\n",
        "# Simple PyTorch Dataset\n",
        "class SimpleReceiptDataset(Dataset):\n",
        "    def __init__(self, items, labels, tokenizer, max_length=32):\n",
        "        self.items = items\n",
        "        self.labels = labels\n",
        "        self.tokenizer = tokenizer\n",
        "        self.max_length = max_length\n",
        "\n",
        "    def __len__(self):\n",
        "        return len(self.items)\n",
        "\n",
        "    def __getitem__(self, idx):\n",
        "        item = str(self.items[idx])\n",
        "        label = int(self.labels[idx])\n",
        "\n",
        "        # Tokenize\n",
        "        encoding = self.tokenizer(\n",
        "            item,\n",
        "            truncation=True,\n",
        "            padding='max_length',\n",
        "            max_length=self.max_length,\n",
        "            return_tensors='pt'\n",
        "        )\n",
        "\n",
        "        return {\n",
        "            'input_ids': encoding['input_ids'].squeeze(0),\n",
        "            'attention_mask': encoding['attention_mask'].squeeze(0),\n",
        "            'label': label\n",
        "        }\n",
        "\n",
        "# Create datasets\n",
        "print(\"Creating PyTorch datasets...\")\n",
        "train_dataset_simple = SimpleReceiptDataset(\n",
        "    items=train_df['item'].values,\n",
        "    labels=train_df['label'].values,\n",
        "    tokenizer=tokenizer\n",
        ")\n",
        "\n",
        "val_dataset_simple = SimpleReceiptDataset(\n",
        "    items=val_df['item'].values,\n",
        "    labels=val_df['label'].values,\n",
        "    tokenizer=tokenizer\n",
        ")\n",
        "\n",
        "# Create dataloaders\n",
        "train_loader = DataLoader(train_dataset_simple, batch_size=32, shuffle=True)\n",
        "val_loader = DataLoader(val_dataset_simple, batch_size=64, shuffle=False)\n",
        "\n",
        "# Simple training function\n",
        "def train_simple(model, train_loader, val_loader, num_epochs=5):\n",
        "    device = torch.device('cuda' if torch.cuda.is_available() else 'cpu')\n",
        "    model = model.to(device)\n",
        "\n",
        "    optimizer = torch.optim.AdamW(model.parameters(), lr=2e-5)\n",
        "    criterion = nn.CrossEntropyLoss()\n",
        "\n",
        "    best_val_acc = 0\n",
        "    train_losses = []\n",
        "    val_accuracies = []\n",
        "\n",
        "    for epoch in range(num_epochs):\n",
        "        # Training\n",
        "        model.train()\n",
        "        total_loss = 0\n",
        "        correct = 0\n",
        "        total = 0\n",
        "\n",
        "        pbar = tqdm(train_loader, desc=f'Epoch {epoch+1}/{num_epochs} [Train]')\n",
        "        for batch in pbar:\n",
        "            input_ids = batch['input_ids'].to(device)\n",
        "            attention_mask = batch['attention_mask'].to(device)\n",
        "            labels = batch['label'].to(device)\n",
        "\n",
        "            optimizer.zero_grad()\n",
        "\n",
        "            outputs = model(\n",
        "                input_ids=input_ids,\n",
        "                attention_mask=attention_mask,\n",
        "                labels=labels\n",
        "            )\n",
        "\n",
        "            loss = outputs.loss\n",
        "            logits = outputs.logits\n",
        "\n",
        "            loss.backward()\n",
        "            optimizer.step()\n",
        "\n",
        "            total_loss += loss.item()\n",
        "\n",
        "            # Calculate accuracy\n",
        "            _, predicted = torch.max(logits, 1)\n",
        "            total += labels.size(0)\n",
        "            correct += (predicted == labels).sum().item()\n",
        "\n",
        "            pbar.set_postfix({'loss': f'{loss.item():.4f}', 'acc': f'{100.*correct/total:.2f}%'})\n",
        "\n",
        "        avg_train_loss = total_loss / len(train_loader)\n",
        "        train_acc = 100. * correct / total\n",
        "\n",
        "        # Validation\n",
        "        model.eval()\n",
        "        correct = 0\n",
        "        total = 0\n",
        "\n",
        "        with torch.no_grad():\n",
        "            for batch in tqdm(val_loader, desc=f'Epoch {epoch+1}/{num_epochs} [Val]'):\n",
        "                input_ids = batch['input_ids'].to(device)\n",
        "                attention_mask = batch['attention_mask'].to(device)\n",
        "                labels = batch['label'].to(device)\n",
        "\n",
        "                outputs = model(\n",
        "                    input_ids=input_ids,\n",
        "                    attention_mask=attention_mask\n",
        "                )\n",
        "\n",
        "                logits = outputs.logits\n",
        "                _, predicted = torch.max(logits, 1)\n",
        "                total += labels.size(0)\n",
        "                correct += (predicted == labels).sum().item()\n",
        "\n",
        "        val_acc = 100. * correct / total\n",
        "\n",
        "        print(f'\\nEpoch {epoch+1}:')\n",
        "        print(f'  Train Loss: {avg_train_loss:.4f}, Train Acc: {train_acc:.2f}%')\n",
        "        print(f'  Val Acc: {val_acc:.2f}%')\n",
        "\n",
        "        train_losses.append(avg_train_loss)\n",
        "        val_accuracies.append(val_acc)\n",
        "\n",
        "        # Save best model\n",
        "        if val_acc > best_val_acc:\n",
        "            best_val_acc = val_acc\n",
        "            torch.save(model.state_dict(), 'best_transformer_model.pt')\n",
        "            model.save_pretrained('indobert_receipt_best')\n",
        "            print(f'  ✓ Saved best model (Val Acc: {val_acc:.2f}%)')\n",
        "\n",
        "    # Load best model\n",
        "    model.load_state_dict(torch.load('best_transformer_model.pt'))\n",
        "\n",
        "    return model, train_losses, val_accuracies"
      ],
      "metadata": {
        "colab": {
          "base_uri": "https://localhost:8080/",
          "height": 524,
          "referenced_widgets": [
            "9a2f97d9860a4971b955377b77c98aa8",
            "1eac4efa6c394a3f9727501a954b6fe9",
            "990478abc3d94ed9ac45577a22ed765d",
            "83100223d6ca42caa0b4966c598f7a8b",
            "d618139a3b04439d8803606ad3d31b1e",
            "eccb399176fc44ea9213a5098b00ff84",
            "b8c487669a1943b7be33f2e1ff543116",
            "8f4de66f8f3e4b9199733016f4059269",
            "4b31fd3402b3454f997fb0b0191c431a",
            "6865a9d405304032ae483c24d21d571d",
            "ffa4e27f9e704588ae9f3cfe703b84ef",
            "cf60cd162a344d89912d00ca94534b68",
            "bc148c65a19f448d88641d3691744dca",
            "f9415c3a97ff410caa960f272b0882d5",
            "db3a774b4b9b49ecace57fa5a1e80aa2",
            "ba7849098f4d47b5aa2dbdfabc4285dc",
            "bbe0425bb89848afa7f6d6cb0be804ea",
            "f3ff53fe62cf4d2b86125c287ef567f2",
            "3250557a4f774c9eb052638f9acb4b22",
            "e2d8ef5866724e07b96a9576da53c89a",
            "9367d06062764cbaa78eb0eb8cfb33db",
            "26d64349fb164524b72ecb13f2e44fc1",
            "73ca9c769f4448fd91884ab33f5919fb",
            "9d24c9d4f89f44eea5e3d0dcf99be108",
            "9bffb8466d6e48d19f56fbec6eb2fdd3",
            "80e113614f924f67a4687bd9188ccf81",
            "34e7d8b557e24d13a363448ffe7f4071",
            "0ef0eee7c207492d97a4f6b13fff0891",
            "b9f27b9c408d4f7bad3ee21296318314",
            "e36153e9dd8446389230dbc97d7896b6",
            "23449f49d9fe4c9985ca8bcfe4ca256f",
            "ed363c9414fd4f28ab4ba888acba9ff6",
            "4896ae0198694c52b724c4b1884d6bb1",
            "0a4c0d328f2b4e9db0fc1999a032378a",
            "b2f7a2f32f684c9c92d31cbd202771f6",
            "fdc38a1b03a345a3a2969ad2e76a4aa2",
            "1e335a4d4c9e4f1a82bbb007ede1dee2",
            "469f0135fb554bdb9fbcad4b6c4d2f56",
            "bd249f87d2894cf7b414b5b50c220203",
            "e3d7726dcf914f76affc693b2fa71021",
            "5f264692fce14b78841c44e8d9f196d4",
            "377bc1a82d4d498c88d54a75028c627c",
            "cb842bd6138e4eabbdd460b96ee4c24f",
            "01221757f12c4c879ec5963d22f4fdf0",
            "ac672dd2965f4cbfb78db9b580433b4a",
            "fd111da0f7d44bf4b6de6130fe94a42c",
            "c4ff5f208a4e4913903a64d6757d4966",
            "bec374dd4a2c452da40c72b31c68272e",
            "6ff65e8f998245e4a10fc9845687558a",
            "4cfdc234a6854e11818511a14ad3014c",
            "06f2dfb1c3604c86a5aa0ba4b86f50c1",
            "0c14b749cbcc4df685adb48382653ae9",
            "feae7a70f8144330a47a13dc6fe8210c",
            "8b44615193ea4893b310cbefdaaed2df",
            "ea809d295d3341d881d6c06eb67d8cce",
            "94189a94014940c78ca8325567e2561e",
            "fe3af6a413154725a60a27d299685932",
            "34abffa9effc436ab145703ee6d12ed1",
            "23586b5f22e9456a9e6b411bdb9b3c2d",
            "66cbb26908114a1db52a136629b94b3d",
            "ff35c9a54a05465eb930c338a8d56404",
            "e6c8b3eba66e4ef1b503392a69b21e17",
            "5df4b138eb714f75b6fdf692dd63c00c",
            "232eec531a804f58ab79ae7efd7a9a8e",
            "b72cd312b5cb46708e18802acf13b866",
            "ceea1fbe28374e0881e7e7746997ea2e"
          ]
        },
        "id": "jcINbwzywJkZ",
        "outputId": "5173fbb4-78e7-4413-88e4-a650f263dde4"
      },
      "execution_count": null,
      "outputs": [
        {
          "output_type": "stream",
          "name": "stdout",
          "text": [
            "NumPy version: 2.0.2\n",
            "Downgrading NumPy to avoid compatibility issues...\n",
            "\u001b[31mERROR: pip's dependency resolver does not currently take into account all the packages that are installed. This behaviour is the source of the following dependency conflicts.\n",
            "thinc 8.3.6 requires numpy<3.0.0,>=2.0.0, but you have numpy 1.26.4 which is incompatible.\u001b[0m\u001b[31m\n",
            "\u001b[0mNumPy version after downgrade: 2.0.2\n",
            "Loading IndoBERT tokenizer and model...\n"
          ]
        },
        {
          "output_type": "stream",
          "name": "stderr",
          "text": [
            "/usr/local/lib/python3.11/dist-packages/huggingface_hub/utils/_auth.py:94: UserWarning: \n",
            "The secret `HF_TOKEN` does not exist in your Colab secrets.\n",
            "To authenticate with the Hugging Face Hub, create a token in your settings tab (https://huggingface.co/settings/tokens), set it as secret in your Google Colab and restart your session.\n",
            "You will be able to reuse this secret in all of your notebooks.\n",
            "Please note that authentication is recommended but still optional to access public models or datasets.\n",
            "  warnings.warn(\n"
          ]
        },
        {
          "output_type": "display_data",
          "data": {
            "text/plain": [
              "tokenizer_config.json:   0%|          | 0.00/42.0 [00:00<?, ?B/s]"
            ],
            "application/vnd.jupyter.widget-view+json": {
              "version_major": 2,
              "version_minor": 0,
              "model_id": "9a2f97d9860a4971b955377b77c98aa8"
            }
          },
          "metadata": {}
        },
        {
          "output_type": "display_data",
          "data": {
            "text/plain": [
              "config.json:   0%|          | 0.00/1.01k [00:00<?, ?B/s]"
            ],
            "application/vnd.jupyter.widget-view+json": {
              "version_major": 2,
              "version_minor": 0,
              "model_id": "cf60cd162a344d89912d00ca94534b68"
            }
          },
          "metadata": {}
        },
        {
          "output_type": "display_data",
          "data": {
            "text/plain": [
              "vocab.txt:   0%|          | 0.00/234k [00:00<?, ?B/s]"
            ],
            "application/vnd.jupyter.widget-view+json": {
              "version_major": 2,
              "version_minor": 0,
              "model_id": "73ca9c769f4448fd91884ab33f5919fb"
            }
          },
          "metadata": {}
        },
        {
          "output_type": "display_data",
          "data": {
            "text/plain": [
              "added_tokens.json:   0%|          | 0.00/2.00 [00:00<?, ?B/s]"
            ],
            "application/vnd.jupyter.widget-view+json": {
              "version_major": 2,
              "version_minor": 0,
              "model_id": "0a4c0d328f2b4e9db0fc1999a032378a"
            }
          },
          "metadata": {}
        },
        {
          "output_type": "display_data",
          "data": {
            "text/plain": [
              "special_tokens_map.json:   0%|          | 0.00/112 [00:00<?, ?B/s]"
            ],
            "application/vnd.jupyter.widget-view+json": {
              "version_major": 2,
              "version_minor": 0,
              "model_id": "ac672dd2965f4cbfb78db9b580433b4a"
            }
          },
          "metadata": {}
        },
        {
          "output_type": "display_data",
          "data": {
            "text/plain": [
              "pytorch_model.bin:   0%|          | 0.00/445M [00:00<?, ?B/s]"
            ],
            "application/vnd.jupyter.widget-view+json": {
              "version_major": 2,
              "version_minor": 0,
              "model_id": "94189a94014940c78ca8325567e2561e"
            }
          },
          "metadata": {}
        },
        {
          "output_type": "stream",
          "name": "stderr",
          "text": [
            "Some weights of BertForSequenceClassification were not initialized from the model checkpoint at indolem/indobert-base-uncased and are newly initialized: ['classifier.bias', 'classifier.weight']\n",
            "You should probably TRAIN this model on a down-stream task to be able to use it for predictions and inference.\n"
          ]
        },
        {
          "output_type": "stream",
          "name": "stdout",
          "text": [
            "Loaded IndoBERT with 9 classes\n",
            "Tokenizer vocab size: 31923\n",
            "Creating PyTorch datasets...\n"
          ]
        }
      ]
    },
    {
      "cell_type": "code",
      "source": [
        "# Train the model\n",
        "print(\"\\nTraining IndoBERT with simplified approach...\")\n",
        "trained_model, losses, accuracies = train_simple(\n",
        "    model_transformer,\n",
        "    train_loader,\n",
        "    val_loader,\n",
        "    num_epochs=20  # Reduced for faster training\n",
        ")\n",
        "\n",
        "print(f\"\\nTraining completed! Best validation accuracy: {max(accuracies):.2f}%\")"
      ],
      "metadata": {
        "colab": {
          "base_uri": "https://localhost:8080/"
        },
        "id": "dSJ6FLHYwURH",
        "outputId": "e052d711-b445-41e3-8f56-4f0106c53223"
      },
      "execution_count": null,
      "outputs": [
        {
          "output_type": "stream",
          "name": "stdout",
          "text": [
            "\n",
            "Training IndoBERT with simplified approach...\n"
          ]
        },
        {
          "output_type": "stream",
          "name": "stderr",
          "text": [
            "Epoch 1/20 [Train]: 100%|██████████| 403/403 [01:26<00:00,  4.65it/s, loss=1.3248, acc=45.30%]\n",
            "Epoch 1/20 [Val]: 100%|██████████| 22/22 [00:02<00:00,  7.86it/s]\n"
          ]
        },
        {
          "output_type": "stream",
          "name": "stdout",
          "text": [
            "\n",
            "Epoch 1:\n",
            "  Train Loss: 1.4087, Train Acc: 45.30%\n",
            "  Val Acc: 67.26%\n",
            "  ✓ Saved best model (Val Acc: 67.26%)\n"
          ]
        },
        {
          "output_type": "stream",
          "name": "stderr",
          "text": [
            "Epoch 2/20 [Train]: 100%|██████████| 403/403 [01:25<00:00,  4.73it/s, loss=1.0804, acc=66.25%]\n",
            "Epoch 2/20 [Val]: 100%|██████████| 22/22 [00:02<00:00,  7.88it/s]\n"
          ]
        },
        {
          "output_type": "stream",
          "name": "stdout",
          "text": [
            "\n",
            "Epoch 2:\n",
            "  Train Loss: 0.9786, Train Acc: 66.25%\n",
            "  Val Acc: 75.64%\n",
            "  ✓ Saved best model (Val Acc: 75.64%)\n"
          ]
        },
        {
          "output_type": "stream",
          "name": "stderr",
          "text": [
            "Epoch 3/20 [Train]: 100%|██████████| 403/403 [01:22<00:00,  4.86it/s, loss=0.3800, acc=78.37%]\n",
            "Epoch 3/20 [Val]: 100%|██████████| 22/22 [00:02<00:00,  7.96it/s]\n"
          ]
        },
        {
          "output_type": "stream",
          "name": "stdout",
          "text": [
            "\n",
            "Epoch 3:\n",
            "  Train Loss: 0.6639, Train Acc: 78.37%\n",
            "  Val Acc: 81.75%\n",
            "  ✓ Saved best model (Val Acc: 81.75%)\n"
          ]
        },
        {
          "output_type": "stream",
          "name": "stderr",
          "text": [
            "Epoch 4/20 [Train]: 100%|██████████| 403/403 [01:23<00:00,  4.83it/s, loss=0.5321, acc=85.71%]\n",
            "Epoch 4/20 [Val]: 100%|██████████| 22/22 [00:02<00:00,  8.10it/s]\n"
          ]
        },
        {
          "output_type": "stream",
          "name": "stdout",
          "text": [
            "\n",
            "Epoch 4:\n",
            "  Train Loss: 0.4498, Train Acc: 85.71%\n",
            "  Val Acc: 84.94%\n",
            "  ✓ Saved best model (Val Acc: 84.94%)\n"
          ]
        },
        {
          "output_type": "stream",
          "name": "stderr",
          "text": [
            "Epoch 5/20 [Train]: 100%|██████████| 403/403 [01:23<00:00,  4.85it/s, loss=0.2647, acc=90.38%]\n",
            "Epoch 5/20 [Val]: 100%|██████████| 22/22 [00:02<00:00,  8.15it/s]\n"
          ]
        },
        {
          "output_type": "stream",
          "name": "stdout",
          "text": [
            "\n",
            "Epoch 5:\n",
            "  Train Loss: 0.3012, Train Acc: 90.38%\n",
            "  Val Acc: 89.35%\n",
            "  ✓ Saved best model (Val Acc: 89.35%)\n"
          ]
        },
        {
          "output_type": "stream",
          "name": "stderr",
          "text": [
            "Epoch 6/20 [Train]: 100%|██████████| 403/403 [01:22<00:00,  4.86it/s, loss=0.1247, acc=93.62%]\n",
            "Epoch 6/20 [Val]: 100%|██████████| 22/22 [00:02<00:00,  8.10it/s]\n"
          ]
        },
        {
          "output_type": "stream",
          "name": "stdout",
          "text": [
            "\n",
            "Epoch 6:\n",
            "  Train Loss: 0.2048, Train Acc: 93.62%\n",
            "  Val Acc: 87.57%\n"
          ]
        },
        {
          "output_type": "stream",
          "name": "stderr",
          "text": [
            "Epoch 7/20 [Train]: 100%|██████████| 403/403 [01:22<00:00,  4.87it/s, loss=0.1433, acc=95.28%]\n",
            "Epoch 7/20 [Val]: 100%|██████████| 22/22 [00:02<00:00,  8.02it/s]\n"
          ]
        },
        {
          "output_type": "stream",
          "name": "stdout",
          "text": [
            "\n",
            "Epoch 7:\n",
            "  Train Loss: 0.1444, Train Acc: 95.28%\n",
            "  Val Acc: 89.13%\n"
          ]
        },
        {
          "output_type": "stream",
          "name": "stderr",
          "text": [
            "Epoch 8/20 [Train]: 100%|██████████| 403/403 [01:22<00:00,  4.87it/s, loss=0.0463, acc=96.60%]\n",
            "Epoch 8/20 [Val]: 100%|██████████| 22/22 [00:02<00:00,  8.02it/s]\n"
          ]
        },
        {
          "output_type": "stream",
          "name": "stdout",
          "text": [
            "\n",
            "Epoch 8:\n",
            "  Train Loss: 0.1051, Train Acc: 96.60%\n",
            "  Val Acc: 92.12%\n",
            "  ✓ Saved best model (Val Acc: 92.12%)\n"
          ]
        },
        {
          "output_type": "stream",
          "name": "stderr",
          "text": [
            "Epoch 9/20 [Train]: 100%|██████████| 403/403 [01:23<00:00,  4.85it/s, loss=0.0117, acc=97.08%]\n",
            "Epoch 9/20 [Val]: 100%|██████████| 22/22 [00:02<00:00,  8.11it/s]\n"
          ]
        },
        {
          "output_type": "stream",
          "name": "stdout",
          "text": [
            "\n",
            "Epoch 9:\n",
            "  Train Loss: 0.0904, Train Acc: 97.08%\n",
            "  Val Acc: 89.35%\n"
          ]
        },
        {
          "output_type": "stream",
          "name": "stderr",
          "text": [
            "Epoch 10/20 [Train]: 100%|██████████| 403/403 [01:22<00:00,  4.86it/s, loss=0.0602, acc=97.98%]\n",
            "Epoch 10/20 [Val]: 100%|██████████| 22/22 [00:02<00:00,  8.00it/s]\n"
          ]
        },
        {
          "output_type": "stream",
          "name": "stdout",
          "text": [
            "\n",
            "Epoch 10:\n",
            "  Train Loss: 0.0631, Train Acc: 97.98%\n",
            "  Val Acc: 90.84%\n"
          ]
        },
        {
          "output_type": "stream",
          "name": "stderr",
          "text": [
            "Epoch 11/20 [Train]: 100%|██████████| 403/403 [01:22<00:00,  4.89it/s, loss=0.0051, acc=98.16%]\n",
            "Epoch 11/20 [Val]: 100%|██████████| 22/22 [00:02<00:00,  8.00it/s]\n"
          ]
        },
        {
          "output_type": "stream",
          "name": "stdout",
          "text": [
            "\n",
            "Epoch 11:\n",
            "  Train Loss: 0.0545, Train Acc: 98.16%\n",
            "  Val Acc: 91.69%\n"
          ]
        },
        {
          "output_type": "stream",
          "name": "stderr",
          "text": [
            "Epoch 12/20 [Train]: 100%|██████████| 403/403 [01:22<00:00,  4.89it/s, loss=0.0676, acc=98.57%]\n",
            "Epoch 12/20 [Val]: 100%|██████████| 22/22 [00:02<00:00,  8.07it/s]\n"
          ]
        },
        {
          "output_type": "stream",
          "name": "stdout",
          "text": [
            "\n",
            "Epoch 12:\n",
            "  Train Loss: 0.0451, Train Acc: 98.57%\n",
            "  Val Acc: 92.97%\n",
            "  ✓ Saved best model (Val Acc: 92.97%)\n"
          ]
        },
        {
          "output_type": "stream",
          "name": "stderr",
          "text": [
            "Epoch 13/20 [Train]: 100%|██████████| 403/403 [01:22<00:00,  4.86it/s, loss=0.0071, acc=98.78%]\n",
            "Epoch 13/20 [Val]: 100%|██████████| 22/22 [00:02<00:00,  8.17it/s]\n"
          ]
        },
        {
          "output_type": "stream",
          "name": "stdout",
          "text": [
            "\n",
            "Epoch 13:\n",
            "  Train Loss: 0.0394, Train Acc: 98.78%\n",
            "  Val Acc: 89.35%\n"
          ]
        },
        {
          "output_type": "stream",
          "name": "stderr",
          "text": [
            "Epoch 14/20 [Train]: 100%|██████████| 403/403 [01:22<00:00,  4.87it/s, loss=0.0408, acc=98.45%]\n",
            "Epoch 14/20 [Val]: 100%|██████████| 22/22 [00:03<00:00,  7.15it/s]\n"
          ]
        },
        {
          "output_type": "stream",
          "name": "stdout",
          "text": [
            "\n",
            "Epoch 14:\n",
            "  Train Loss: 0.0441, Train Acc: 98.45%\n",
            "  Val Acc: 89.13%\n"
          ]
        },
        {
          "output_type": "stream",
          "name": "stderr",
          "text": [
            "Epoch 15/20 [Train]: 100%|██████████| 403/403 [01:25<00:00,  4.72it/s, loss=0.0057, acc=98.78%]\n",
            "Epoch 15/20 [Val]: 100%|██████████| 22/22 [00:02<00:00,  7.74it/s]\n"
          ]
        },
        {
          "output_type": "stream",
          "name": "stdout",
          "text": [
            "\n",
            "Epoch 15:\n",
            "  Train Loss: 0.0362, Train Acc: 98.78%\n",
            "  Val Acc: 88.14%\n"
          ]
        },
        {
          "output_type": "stream",
          "name": "stderr",
          "text": [
            "Epoch 16/20 [Train]: 100%|██████████| 403/403 [01:24<00:00,  4.77it/s, loss=0.0101, acc=99.02%]\n",
            "Epoch 16/20 [Val]: 100%|██████████| 22/22 [00:02<00:00,  7.91it/s]\n"
          ]
        },
        {
          "output_type": "stream",
          "name": "stdout",
          "text": [
            "\n",
            "Epoch 16:\n",
            "  Train Loss: 0.0331, Train Acc: 99.02%\n",
            "  Val Acc: 90.98%\n"
          ]
        },
        {
          "output_type": "stream",
          "name": "stderr",
          "text": [
            "Epoch 17/20 [Train]: 100%|██████████| 403/403 [01:22<00:00,  4.89it/s, loss=0.0287, acc=99.09%]\n",
            "Epoch 17/20 [Val]: 100%|██████████| 22/22 [00:02<00:00,  7.92it/s]\n"
          ]
        },
        {
          "output_type": "stream",
          "name": "stdout",
          "text": [
            "\n",
            "Epoch 17:\n",
            "  Train Loss: 0.0297, Train Acc: 99.09%\n",
            "  Val Acc: 94.96%\n",
            "  ✓ Saved best model (Val Acc: 94.96%)\n"
          ]
        },
        {
          "output_type": "stream",
          "name": "stderr",
          "text": [
            "Epoch 18/20 [Train]: 100%|██████████| 403/403 [01:23<00:00,  4.84it/s, loss=0.1658, acc=99.02%]\n",
            "Epoch 18/20 [Val]: 100%|██████████| 22/22 [00:02<00:00,  8.19it/s]\n"
          ]
        },
        {
          "output_type": "stream",
          "name": "stdout",
          "text": [
            "\n",
            "Epoch 18:\n",
            "  Train Loss: 0.0302, Train Acc: 99.02%\n",
            "  Val Acc: 92.76%\n"
          ]
        },
        {
          "output_type": "stream",
          "name": "stderr",
          "text": [
            "Epoch 19/20 [Train]: 100%|██████████| 403/403 [01:22<00:00,  4.87it/s, loss=0.0469, acc=98.94%]\n",
            "Epoch 19/20 [Val]: 100%|██████████| 22/22 [00:02<00:00,  8.02it/s]\n"
          ]
        },
        {
          "output_type": "stream",
          "name": "stdout",
          "text": [
            "\n",
            "Epoch 19:\n",
            "  Train Loss: 0.0338, Train Acc: 98.94%\n",
            "  Val Acc: 90.34%\n"
          ]
        },
        {
          "output_type": "stream",
          "name": "stderr",
          "text": [
            "Epoch 20/20 [Train]: 100%|██████████| 403/403 [01:22<00:00,  4.88it/s, loss=0.0007, acc=99.33%]\n",
            "Epoch 20/20 [Val]: 100%|██████████| 22/22 [00:02<00:00,  8.06it/s]\n"
          ]
        },
        {
          "output_type": "stream",
          "name": "stdout",
          "text": [
            "\n",
            "Epoch 20:\n",
            "  Train Loss: 0.0232, Train Acc: 99.33%\n",
            "  Val Acc: 93.04%\n",
            "\n",
            "Training completed! Best validation accuracy: 94.96%\n"
          ]
        }
      ]
    },
    {
      "cell_type": "code",
      "source": [
        "# Update model_transformer reference\n",
        "model_transformer = trained_model"
      ],
      "metadata": {
        "id": "KngqfDLqwV7R"
      },
      "execution_count": null,
      "outputs": []
    },
    {
      "cell_type": "code",
      "source": [
        "# Test the model\n",
        "def test_transformer_simple(text, model, tokenizer):\n",
        "    device = next(model.parameters()).device\n",
        "    model.eval()\n",
        "\n",
        "    encoding = tokenizer(\n",
        "        text,\n",
        "        truncation=True,\n",
        "        padding='max_length',\n",
        "        max_length=32,\n",
        "        return_tensors='pt'\n",
        "    )\n",
        "\n",
        "    input_ids = encoding['input_ids'].to(device)\n",
        "    attention_mask = encoding['attention_mask'].to(device)\n",
        "\n",
        "    with torch.no_grad():\n",
        "        outputs = model(input_ids=input_ids, attention_mask=attention_mask)\n",
        "        logits = outputs.logits\n",
        "        probs = torch.nn.functional.softmax(logits, dim=-1)\n",
        "\n",
        "    pred_idx = torch.argmax(probs, dim=-1).cpu().numpy()[0]\n",
        "    confidence = probs[0][pred_idx].cpu().numpy()\n",
        "\n",
        "    return le.inverse_transform([pred_idx])[0], confidence\n",
        "\n",
        "# Test predictions\n",
        "print(\"\\nTest predictions:\")\n",
        "test_items = [\"Nasi Goreng\", \"Aqua Botol\", \"Pulpen Snowman\", \"Grab Car\"]\n",
        "for item in test_items:\n",
        "    category, conf = test_transformer_simple(item, model_transformer, tokenizer)\n",
        "    print(f\"{item:20} → {category:10} (conf: {conf:.2%})\")"
      ],
      "metadata": {
        "colab": {
          "base_uri": "https://localhost:8080/"
        },
        "id": "lYQszZ8PwcCW",
        "outputId": "2d6aba89-748a-4f4b-9d99-f4e28d6ba74b"
      },
      "execution_count": null,
      "outputs": [
        {
          "output_type": "stream",
          "name": "stdout",
          "text": [
            "\n",
            "Test predictions:\n",
            "Nasi Goreng          → makanan    (conf: 99.98%)\n",
            "Aqua Botol           → minuman    (conf: 99.97%)\n",
            "Pulpen Snowman       → lain-lain  (conf: 99.60%)\n",
            "Grab Car             → lain-lain  (conf: 99.98%)\n"
          ]
        }
      ]
    },
    {
      "cell_type": "code",
      "source": [
        "# Plot training history\n",
        "import matplotlib.pyplot as plt\n",
        "\n",
        "fig, (ax1, ax2) = plt.subplots(1, 2, figsize=(12, 4))\n",
        "\n",
        "# Loss plot\n",
        "ax1.plot(losses, 'b-', label='Train Loss')\n",
        "ax1.set_xlabel('Epoch')\n",
        "ax1.set_ylabel('Loss')\n",
        "ax1.set_title('Training Loss')\n",
        "ax1.grid(True)\n",
        "ax1.legend()\n",
        "\n",
        "# Accuracy plot\n",
        "ax2.plot(accuracies, 'g-', label='Val Accuracy')\n",
        "ax2.set_xlabel('Epoch')\n",
        "ax2.set_ylabel('Accuracy (%)')\n",
        "ax2.set_title('Validation Accuracy')\n",
        "ax2.grid(True)\n",
        "ax2.legend()\n",
        "\n",
        "plt.tight_layout()\n",
        "plt.show()"
      ],
      "metadata": {
        "colab": {
          "base_uri": "https://localhost:8080/",
          "height": 342
        },
        "id": "n4Y_Hcby2lQ3",
        "outputId": "357a6592-c468-4339-a783-423c72000143"
      },
      "execution_count": null,
      "outputs": [
        {
          "output_type": "display_data",
          "data": {
            "text/plain": [
              "<Figure size 1200x400 with 2 Axes>"
            ],
            "image/png": "[encoded data removed]"
          },
          "metadata": {}
        }
      ]
    },
    {
      "cell_type": "markdown",
      "source": [
        "# Ensemble (LSTM + Transformers)"
      ],
      "metadata": {
        "id": "i6jnH48rwrH8"
      }
    },
    {
      "cell_type": "code",
      "source": [
        "# Updated Ensemble Predictor untuk Simplified Transformer\n",
        "import torch\n",
        "import numpy as np\n",
        "import tensorflow as tf\n",
        "\n",
        "class EnsemblePredictor:\n",
        "    def __init__(self, lstm_model, transformer_model, tokenizer, label_encoder):  # GANTI idx2label jadi label_encoder\n",
        "        self.lstm_model = lstm_model\n",
        "        self.transformer_model = transformer_model\n",
        "        self.tokenizer = tokenizer\n",
        "        self.le = label_encoder  # GANTI dari idx2label ke label_encoder\n",
        "        # Ensure transformer model is in eval mode\n",
        "        self.transformer_model.eval()\n",
        "        # Get device from transformer model\n",
        "        self.device = next(transformer_model.parameters()).device\n",
        "\n",
        "    def predict(self, text, weights=[0.4, 0.6]):\n",
        "        \"\"\"\n",
        "        Ensemble prediction with weighted average\n",
        "        weights: [lstm_weight, transformer_weight]\n",
        "        \"\"\"\n",
        "        # LSTM prediction\n",
        "        lstm_logits = self.lstm_model.predict(tf.constant([text]), verbose=0)\n",
        "        lstm_probs = tf.nn.softmax(lstm_logits[0]).numpy()\n",
        "\n",
        "        # Transformer prediction (simplified version)\n",
        "        # Tokenize\n",
        "        encoding = self.tokenizer(\n",
        "            text,\n",
        "            truncation=True,\n",
        "            padding='max_length',\n",
        "            max_length=32,\n",
        "            return_tensors='pt'\n",
        "        )\n",
        "\n",
        "        # Move to device\n",
        "        input_ids = encoding['input_ids'].to(self.device)\n",
        "        attention_mask = encoding['attention_mask'].to(self.device)\n",
        "\n",
        "        # Get prediction\n",
        "        with torch.no_grad():\n",
        "            outputs = self.transformer_model(\n",
        "                input_ids=input_ids,\n",
        "                attention_mask=attention_mask\n",
        "            )\n",
        "            trans_logits = outputs.logits\n",
        "            trans_probs = torch.nn.functional.softmax(trans_logits, dim=-1)\n",
        "            trans_probs = trans_probs[0].cpu().numpy()\n",
        "\n",
        "        # Weighted ensemble\n",
        "        ensemble_probs = (weights[0] * lstm_probs + weights[1] * trans_probs)\n",
        "        pred_idx = np.argmax(ensemble_probs)\n",
        "        confidence = ensemble_probs[pred_idx]\n",
        "\n",
        "        # Get individual predictions\n",
        "        lstm_pred_idx = np.argmax(lstm_probs)\n",
        "        trans_pred_idx = np.argmax(trans_probs)\n",
        "\n",
        "        # GANTI semua self.idx2label dengan self.le.inverse_transform\n",
        "        return self.le.inverse_transform([pred_idx])[0], confidence, {\n",
        "            'lstm_pred': self.le.inverse_transform([lstm_pred_idx])[0],\n",
        "            'trans_pred': self.le.inverse_transform([trans_pred_idx])[0],\n",
        "            'lstm_conf': float(lstm_probs[lstm_pred_idx]),\n",
        "            'trans_conf': float(trans_probs[trans_pred_idx])\n",
        "        }\n",
        "\n",
        "# Create ensemble predictor (simplified version)\n",
        "print(\"Creating ensemble predictor...\")\n",
        "ensemble = EnsemblePredictor(\n",
        "    lstm_model=model,\n",
        "    transformer_model=model_transformer,\n",
        "    tokenizer=tokenizer,\n",
        "    label_encoder=le  # Sekarang parameter name sudah match\n",
        ")"
      ],
      "metadata": {
        "colab": {
          "base_uri": "https://localhost:8080/"
        },
        "id": "WKPrxJLCw2uJ",
        "outputId": "d6f0a2b4-ec6e-418b-8f6c-7f81dd36d92c"
      },
      "execution_count": null,
      "outputs": [
        {
          "output_type": "stream",
          "name": "stdout",
          "text": [
            "Creating ensemble predictor...\n"
          ]
        }
      ]
    },
    {
      "cell_type": "code",
      "source": [
        "# Test items\n",
        "test_items = [\n",
        "    \"Nasi Goreng Spesial\",\n",
        "    \"AQUA 600ml\",\n",
        "    \"Pulpen Pilot\",\n",
        "    \"Go-Jek fee\",\n",
        "    \"Spotify Premium\",\n",
        "    \"Panadol Extra\",\n",
        "    \"Charger iPhone\",\n",
        "    \"Kaos Uniqlo\"\n",
        "]\n",
        "\n",
        "# Test ensemble predictions\n",
        "print(\"\\n\" + \"=\"*70)\n",
        "print(\"ENSEMBLE PREDICTIONS (LSTM + IndoBERT)\")\n",
        "print(\"=\"*70)\n",
        "\n",
        "for item in test_items:\n",
        "    try:\n",
        "        category, conf, details = ensemble.predict(item)\n",
        "        print(f\"\\n'{item}':\")\n",
        "        print(f\"  Ensemble → {category} (confidence: {conf:.1%})\")\n",
        "        print(f\"  LSTM     → {details['lstm_pred']} ({details['lstm_conf']:.1%})\")\n",
        "        print(f\"  IndoBERT → {details['trans_pred']} ({details['trans_conf']:.1%})\")\n",
        "\n",
        "        # Show agreement/disagreement\n",
        "        if details['lstm_pred'] == details['trans_pred']:\n",
        "            print(f\"  Status   → ✓ Models agree\")\n",
        "        else:\n",
        "            print(f\"  Status   → ⚠ Models disagree\")\n",
        "    except Exception as e:\n",
        "        print(f\"\\nError predicting '{item}': {str(e)}\")"
      ],
      "metadata": {
        "colab": {
          "base_uri": "https://localhost:8080/"
        },
        "id": "5IwZuXv4w8L_",
        "outputId": "34d35f85-ace8-4916-8173-0b484498e770"
      },
      "execution_count": null,
      "outputs": [
        {
          "output_type": "stream",
          "name": "stdout",
          "text": [
            "\n",
            "======================================================================\n",
            "ENSEMBLE PREDICTIONS (LSTM + IndoBERT)\n",
            "======================================================================\n",
            "\n",
            "'Nasi Goreng Spesial':\n",
            "  Ensemble → makanan (confidence: 70.1%)\n",
            "  LSTM     → makanan (25.4%)\n",
            "  IndoBERT → makanan (100.0%)\n",
            "  Status   → ✓ Models agree\n",
            "\n",
            "'AQUA 600ml':\n",
            "  Ensemble → minuman (confidence: 70.1%)\n",
            "  LSTM     → minuman (25.4%)\n",
            "  IndoBERT → minuman (100.0%)\n",
            "  Status   → ✓ Models agree\n",
            "\n",
            "'Pulpen Pilot':\n",
            "  Ensemble → lain-lain (confidence: 43.5%)\n",
            "  LSTM     → lain-lain (14.4%)\n",
            "  IndoBERT → lain-lain (63.0%)\n",
            "  Status   → ✓ Models agree\n",
            "\n",
            "'Go-Jek fee':\n",
            "  Ensemble → minuman (confidence: 61.1%)\n",
            "  LSTM     → lain-lain (14.4%)\n",
            "  IndoBERT → minuman (93.5%)\n",
            "  Status   → ⚠ Models disagree\n",
            "\n",
            "'Spotify Premium':\n",
            "  Ensemble → makanan (confidence: 69.8%)\n",
            "  LSTM     → makanan (25.4%)\n",
            "  IndoBERT → makanan (99.5%)\n",
            "  Status   → ✓ Models agree\n",
            "\n",
            "'Panadol Extra':\n",
            "  Ensemble → lain-lain (confidence: 69.6%)\n",
            "  LSTM     → lain-lain (24.0%)\n",
            "  IndoBERT → lain-lain (100.0%)\n",
            "  Status   → ✓ Models agree\n",
            "\n",
            "'Charger iPhone':\n",
            "  Ensemble → lain-lain (confidence: 49.3%)\n",
            "  LSTM     → lain-lain (14.4%)\n",
            "  IndoBERT → lain-lain (72.5%)\n",
            "  Status   → ✓ Models agree\n",
            "\n",
            "'Kaos Uniqlo':\n",
            "  Ensemble → lain-lain (confidence: 65.7%)\n",
            "  LSTM     → lain-lain (14.4%)\n",
            "  IndoBERT → lain-lain (99.9%)\n",
            "  Status   → ✓ Models agree\n"
          ]
        }
      ]
    },
    {
      "cell_type": "markdown",
      "source": [
        "# Evaluation"
      ],
      "metadata": {
        "id": "lISYINBmw99C"
      }
    },
    {
      "cell_type": "code",
      "source": [
        "# Comprehensive evaluation on validation set\n",
        "from sklearn.metrics import classification_report, confusion_matrix\n",
        "import seaborn as sns\n",
        "import matplotlib.pyplot as plt\n",
        "from tqdm import tqdm\n",
        "\n",
        "# Fungsi predict yang disesuaikan untuk simplified transformer\n",
        "def predict_transformer_simple(text, model, tokenizer):\n",
        "    device = next(model.parameters()).device\n",
        "    model.eval()\n",
        "\n",
        "    encoding = tokenizer(\n",
        "        text,\n",
        "        truncation=True,\n",
        "        padding='max_length',\n",
        "        max_length=32,\n",
        "        return_tensors='pt'\n",
        "    )\n",
        "\n",
        "    input_ids = encoding['input_ids'].to(device)\n",
        "    attention_mask = encoding['attention_mask'].to(device)\n",
        "\n",
        "    with torch.no_grad():\n",
        "        outputs = model(input_ids=input_ids, attention_mask=attention_mask)\n",
        "        logits = outputs.logits\n",
        "        probs = torch.nn.functional.softmax(logits, dim=-1)\n",
        "\n",
        "    pred_idx = torch.argmax(probs, dim=-1).cpu().numpy()[0]\n",
        "    confidence = probs[0][pred_idx].cpu().numpy()\n",
        "\n",
        "    return le.inverse_transform([pred_idx])[0], confidence\n",
        "\n",
        "# Get all predictions\n",
        "val_texts = val_df['item'].tolist()\n",
        "val_true = val_df['label'].tolist()\n",
        "\n",
        "lstm_preds = []\n",
        "trans_preds = []\n",
        "ensemble_preds = []\n",
        "\n",
        "print(\"Evaluating all models on validation set...\")\n",
        "print(f\"Total validation samples: {len(val_texts)}\")\n",
        "\n",
        "# Use tqdm for progress bar\n",
        "for text in tqdm(val_texts, desc=\"Predicting\"):\n",
        "    try:\n",
        "        # LSTM prediction\n",
        "        lstm_pred, _ = predict_category(text)\n",
        "        lstm_preds.append(le.transform([lstm_pred])[0])\n",
        "\n",
        "        # Transformer prediction (using simplified version)\n",
        "        trans_pred, _ = predict_transformer_simple(text, model_transformer, tokenizer)\n",
        "        trans_preds.append(le.transform([trans_pred])[0])\n",
        "\n",
        "        # Ensemble prediction\n",
        "        ens_pred, _, _ = ensemble.predict(text)\n",
        "        ensemble_preds.append(le.transform([ens_pred])[0])\n",
        "\n",
        "    except Exception as e:\n",
        "        # Handle any errors by using the most common class\n",
        "        print(f\"\\nError processing '{text}': {str(e)}\")\n",
        "        # Use majority class as fallback\n",
        "        majority_class = max(set(val_true), key=val_true.count)\n",
        "        lstm_preds.append(majority_class)\n",
        "        trans_preds.append(majority_class)\n",
        "        ensemble_preds.append(majority_class)\n",
        "\n",
        "# Calculate accuracies\n",
        "from sklearn.metrics import accuracy_score\n",
        "\n",
        "lstm_acc = accuracy_score(val_true, lstm_preds)\n",
        "trans_acc = accuracy_score(val_true, trans_preds)\n",
        "ensemble_acc = accuracy_score(val_true, ensemble_preds)\n",
        "\n",
        "print(f\"\\n=== Model Accuracies ===\")\n",
        "print(f\"LSTM:        {lstm_acc:.3f}\")\n",
        "print(f\"Transformer: {trans_acc:.3f}\")\n",
        "print(f\"Ensemble:    {ensemble_acc:.3f}\")\n",
        "\n",
        "# Classification reports\n",
        "print(\"\\n=== LSTM Model ===\")\n",
        "print(classification_report(val_true, lstm_preds,\n",
        "                          target_names=le.classes_,\n",
        "                          zero_division=0))\n",
        "\n",
        "print(\"\\n=== Transformer Model ===\")\n",
        "print(classification_report(val_true, trans_preds,\n",
        "                          target_names=le.classes_,\n",
        "                          zero_division=0))\n",
        "\n",
        "print(\"\\n=== Ensemble Model ===\")\n",
        "print(classification_report(val_true, ensemble_preds,\n",
        "                          target_names=le.classes_,\n",
        "                          zero_division=0))\n",
        "\n",
        "# Confusion matrices - side by side comparison\n",
        "fig, axes = plt.subplots(1, 3, figsize=(20, 6))\n",
        "\n",
        "# LSTM confusion matrix\n",
        "cm_lstm = confusion_matrix(val_true, lstm_preds)\n",
        "sns.heatmap(cm_lstm, annot=True, fmt='d', cmap='Blues',\n",
        "            xticklabels=le.classes_,\n",
        "            yticklabels=le.classes_,\n",
        "            ax=axes[0])\n",
        "axes[0].set_title(f'LSTM Model (Acc: {lstm_acc:.3f})')\n",
        "axes[0].set_ylabel('True Label')\n",
        "axes[0].set_xlabel('Predicted Label')\n",
        "\n",
        "# Transformer confusion matrix\n",
        "cm_trans = confusion_matrix(val_true, trans_preds)\n",
        "sns.heatmap(cm_trans, annot=True, fmt='d', cmap='Greens',\n",
        "            xticklabels=le.classes_,\n",
        "            yticklabels=le.classes_,\n",
        "            ax=axes[1])\n",
        "axes[1].set_title(f'Transformer Model (Acc: {trans_acc:.3f})')\n",
        "axes[1].set_ylabel('True Label')\n",
        "axes[1].set_xlabel('Predicted Label')\n",
        "\n",
        "# Ensemble confusion matrix\n",
        "cm_ensemble = confusion_matrix(val_true, ensemble_preds)\n",
        "sns.heatmap(cm_ensemble, annot=True, fmt='d', cmap='Oranges',\n",
        "            xticklabels=le.classes_,\n",
        "            yticklabels=le.classes_,\n",
        "            ax=axes[2])\n",
        "axes[2].set_title(f'Ensemble Model (Acc: {ensemble_acc:.3f})')\n",
        "axes[2].set_ylabel('True Label')\n",
        "axes[2].set_xlabel('Predicted Label')\n",
        "\n",
        "plt.tight_layout()\n",
        "plt.show()"
      ],
      "metadata": {
        "colab": {
          "base_uri": "https://localhost:8080/",
          "height": 1000
        },
        "id": "JmuUvjSoxAnT",
        "outputId": "0ec42816-d08f-4c8d-b1d3-76bad9bb7716"
      },
      "execution_count": null,
      "outputs": [
        {
          "output_type": "stream",
          "name": "stdout",
          "text": [
            "Evaluating all models on validation set...\n",
            "Total validation samples: 1408\n"
          ]
        },
        {
          "output_type": "stream",
          "name": "stderr",
          "text": [
            "Predicting: 100%|██████████| 1408/1408 [06:25<00:00,  3.66it/s]\n"
          ]
        },
        {
          "output_type": "stream",
          "name": "stdout",
          "text": [
            "\n",
            "=== Model Accuracies ===\n",
            "LSTM:        0.856\n",
            "Transformer: 0.950\n",
            "Ensemble:    0.950\n",
            "\n",
            "=== LSTM Model ===\n",
            "              precision    recall  f1-score   support\n",
            "\n",
            "         atk       1.00      0.89      0.94        19\n",
            "  elektronik       1.00      0.55      0.71        22\n",
            "     fashion       1.00      0.67      0.80        24\n",
            "     hiburan       0.00      0.00      0.00         3\n",
            "   kesehatan       1.00      0.65      0.79        26\n",
            "   lain-lain       0.78      0.98      0.87       681\n",
            "     makanan       0.96      0.75      0.84       347\n",
            "     minuman       0.97      0.78      0.86       273\n",
            "   transport       0.70      0.54      0.61        13\n",
            "\n",
            "    accuracy                           0.86      1408\n",
            "   macro avg       0.82      0.64      0.71      1408\n",
            "weighted avg       0.88      0.86      0.85      1408\n",
            "\n",
            "\n",
            "=== Transformer Model ===\n",
            "              precision    recall  f1-score   support\n",
            "\n",
            "         atk       0.95      1.00      0.97        19\n",
            "  elektronik       0.88      0.95      0.91        22\n",
            "     fashion       0.96      0.92      0.94        24\n",
            "     hiburan       1.00      1.00      1.00         3\n",
            "   kesehatan       0.93      1.00      0.96        26\n",
            "   lain-lain       0.98      0.92      0.95       681\n",
            "     makanan       0.94      0.97      0.96       347\n",
            "     minuman       0.90      1.00      0.95       273\n",
            "   transport       0.81      1.00      0.90        13\n",
            "\n",
            "    accuracy                           0.95      1408\n",
            "   macro avg       0.93      0.97      0.95      1408\n",
            "weighted avg       0.95      0.95      0.95      1408\n",
            "\n",
            "\n",
            "=== Ensemble Model ===\n",
            "              precision    recall  f1-score   support\n",
            "\n",
            "         atk       0.95      1.00      0.97        19\n",
            "  elektronik       0.88      0.95      0.91        22\n",
            "     fashion       0.96      0.92      0.94        24\n",
            "     hiburan       1.00      1.00      1.00         3\n",
            "   kesehatan       0.93      1.00      0.96        26\n",
            "   lain-lain       0.98      0.92      0.95       681\n",
            "     makanan       0.94      0.97      0.96       347\n",
            "     minuman       0.90      1.00      0.95       273\n",
            "   transport       0.81      1.00      0.90        13\n",
            "\n",
            "    accuracy                           0.95      1408\n",
            "   macro avg       0.93      0.97      0.95      1408\n",
            "weighted avg       0.95      0.95      0.95      1408\n",
            "\n"
          ]
        },
        {
          "output_type": "display_data",
          "data": {
            "text/plain": [
              "<Figure size 2000x600 with 6 Axes>"
            ],
            "image/png": "[encoded data removed]"
          },
          "metadata": {}
        }
      ]
    },
    {
      "cell_type": "code",
      "source": [
        "import joblib\n",
        "joblib.dump(le, \"label_encoder.pkl\")"
      ],
      "metadata": {
        "id": "ZtlcQAISx7pZ",
        "colab": {
          "base_uri": "https://localhost:8080/"
        },
        "outputId": "ce5ac7fc-9de6-42e4-a22f-e77275a1e9be"
      },
      "execution_count": null,
      "outputs": [
        {
          "output_type": "execute_result",
          "data": {
            "text/plain": [
              "['label_encoder.pkl']"
            ]
          },
          "metadata": {},
          "execution_count": 34
        }
      ]
    }
  ]
}